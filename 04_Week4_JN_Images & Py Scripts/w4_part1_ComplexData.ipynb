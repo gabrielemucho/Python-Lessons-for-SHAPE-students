{
 "cells": [
  {
   "cell_type": "markdown",
   "metadata": {},
   "source": [
    "<div class=\"alert alert-block alert-info\">\n",
    "<h2> Week 4_Part 1. Complex Data Containers: Lists, Tuples, & Dictionaries</h2><br>\n",
    "\n",
    "</div>"
   ]
  },
  {
   "cell_type": "markdown",
   "metadata": {},
   "source": [
    "<div class=\"alert alert-block alert-info\">\n",
    "<h2> Lists and Tuples</h2><br>\n",
    "<p>Both lists and tuples are collections of data values. The major difference between the two is that lists are changeable, while tuples cannot be mutated. Tuples are like read-only data.</p><br>\n",
    "\n",
    "<p><b>Syntax of lists</b>: values are entered into square brackets [ ]. String values are entered with quotes, while numeric values do not need quotes.</p>  \n",
    "<p>\n",
    "__Example__:   \n",
    "myList = ['heavy metal', 'Germany', 'jazz', -50]</p><br>\n",
    "<p><b>Syntax of tuples</b>: values are entered into parentheses ( ). </p><br>\n",
    "<p>\n",
    "__Example__:   \n",
    "myTuple = ('heavy metal', 'Germany', 'jazz', -50)</p>\n",
    "</div>"
   ]
  },
  {
   "cell_type": "code",
   "execution_count": 1,
   "metadata": {},
   "outputs": [
    {
     "data": {
      "text/plain": [
       "['electronic', 'hip-hop', 'indie music', 1999, True]"
      ]
     },
     "execution_count": 1,
     "metadata": {},
     "output_type": "execute_result"
    }
   ],
   "source": [
    "# Create the musicList variable to store data on the  music genres of some festival in 1999.\n",
    "\n",
    "musicList = ['electronic', 'hip-hop', 'indie music', 1999, True]\n",
    "musicList\n"
   ]
  },
  {
   "cell_type": "code",
   "execution_count": 2,
   "metadata": {},
   "outputs": [
    {
     "data": {
      "text/plain": [
       "('electronic', 'hip-hop', 'indie music', 1999, True)"
      ]
     },
     "execution_count": 2,
     "metadata": {},
     "output_type": "execute_result"
    }
   ],
   "source": [
    "# Lists can be expanded and changed, while tuples cannot.\n",
    "# Let's create a tuple variable with the same values as myList first.\n",
    "\n",
    "myTuple = ('electronic', 'hip-hop', 'indie music', 1999, True)\n",
    "myTuple\n"
   ]
  },
  {
   "cell_type": "code",
   "execution_count": 3,
   "metadata": {
    "tags": [
     "raises-exception"
    ]
   },
   "outputs": [
    {
     "name": "stdout",
     "output_type": "stream",
     "text": [
      "['electronic', 'hip-hop', 'indie music', 1999, True, 'alternative']\n"
     ]
    },
    {
     "ename": "AttributeError",
     "evalue": "'tuple' object has no attribute 'append'",
     "output_type": "error",
     "traceback": [
      "\u001b[1;31m---------------------------------------------------------------------------\u001b[0m",
      "\u001b[1;31mAttributeError\u001b[0m                            Traceback (most recent call last)",
      "\u001b[1;32m<ipython-input-3-a41fad8fa885>\u001b[0m in \u001b[0;36m<module>\u001b[1;34m\u001b[0m\n\u001b[0;32m      6\u001b[0m \u001b[0mprint\u001b[0m\u001b[1;33m(\u001b[0m\u001b[0mmusicList\u001b[0m\u001b[1;33m)\u001b[0m\u001b[1;33m\u001b[0m\u001b[1;33m\u001b[0m\u001b[0m\n\u001b[0;32m      7\u001b[0m \u001b[1;33m\u001b[0m\u001b[0m\n\u001b[1;32m----> 8\u001b[1;33m \u001b[0mmyTuple\u001b[0m\u001b[1;33m.\u001b[0m\u001b[0mappend\u001b[0m\u001b[1;33m(\u001b[0m\u001b[1;34m'alternative'\u001b[0m\u001b[1;33m)\u001b[0m\u001b[1;33m\u001b[0m\u001b[1;33m\u001b[0m\u001b[0m\n\u001b[0m\u001b[0;32m      9\u001b[0m \u001b[0mprint\u001b[0m\u001b[1;33m(\u001b[0m\u001b[0mmyTuple\u001b[0m\u001b[1;33m)\u001b[0m\u001b[1;33m\u001b[0m\u001b[1;33m\u001b[0m\u001b[0m\n\u001b[0;32m     10\u001b[0m \u001b[1;33m\u001b[0m\u001b[0m\n",
      "\u001b[1;31mAttributeError\u001b[0m: 'tuple' object has no attribute 'append'"
     ]
    }
   ],
   "source": [
    "# Data values in myTuple are the same as in the list, but the data container is essentially different.\n",
    "# Lists are mutable while tuples are not.\n",
    "# Use the append() method on both the list and the tuple to see how they behave.\n",
    "\n",
    "musicList.append('alternative')\n",
    "print(musicList)\n",
    "\n",
    "myTuple.append('alternative')\n",
    "print(myTuple)\n",
    "\n",
    "# The output gives the result for expanded myList, but it throws an error for myTuple because tuples cannot be mutated."
   ]
  },
  {
   "cell_type": "code",
   "execution_count": 4,
   "metadata": {},
   "outputs": [
    {
     "data": {
      "text/plain": [
       "6"
      ]
     },
     "execution_count": 4,
     "metadata": {},
     "output_type": "execute_result"
    }
   ],
   "source": [
    "# You can count how many items a list (and a tuple) contains with the len() function. \n",
    "\n",
    "len(musicList)"
   ]
  },
  {
   "cell_type": "code",
   "execution_count": 5,
   "metadata": {},
   "outputs": [
    {
     "name": "stdout",
     "output_type": "stream",
     "text": [
      "electronic\n",
      "hip-hop\n"
     ]
    }
   ],
   "source": [
    "# Like each character in strings, each item in the sequence of a list is also indexed and can be sliced off.\n",
    "# Remember that index position starts from 0, NOT from 1. \n",
    "# This means that the 1st item in a list sits in index position 0.\n",
    "# The 1st item in the 0 position in musicList is 'electronic', but the 2nd item 'hip-hop' is in the 1 position: \n",
    "\n",
    "print(musicList[0])\n",
    "print(musicList[1])"
   ]
  },
  {
   "cell_type": "code",
   "execution_count": 6,
   "metadata": {},
   "outputs": [
    {
     "data": {
      "text/plain": [
       "['jazz', 'electronic', 'hip-hop', 'indie music', 1999, True, 'alternative']"
      ]
     },
     "execution_count": 6,
     "metadata": {},
     "output_type": "execute_result"
    }
   ],
   "source": [
    "# You may expand your lists by inserting a new value at the exact position that you want with insert().\n",
    "# Let's insert the numeric value of 2020 at index position 5.\n",
    "\n",
    "musicList.insert(0, \"jazz\")\n",
    "musicList"
   ]
  },
  {
   "cell_type": "code",
   "execution_count": 7,
   "metadata": {},
   "outputs": [
    {
     "data": {
      "text/plain": [
       "['jazz', 'electronic', 'hip-hop', 'indie music', True, 'alternative']"
      ]
     },
     "execution_count": 7,
     "metadata": {},
     "output_type": "execute_result"
    }
   ],
   "source": [
    "# You can also remove items from lists by passing the unwanted item to the remove() method\n",
    "\n",
    "musicList.remove(1999)\n",
    "musicList"
   ]
  },
  {
   "cell_type": "code",
   "execution_count": 8,
   "metadata": {},
   "outputs": [
    {
     "data": {
      "text/plain": [
       "['jazz', 'electronic', 'hip-hop', 'indie music', 'alternative']"
      ]
     },
     "execution_count": 8,
     "metadata": {},
     "output_type": "execute_result"
    }
   ],
   "source": [
    "# Alternatively, you can use the pop() method and remove the unwanted item by its index position\n",
    "\n",
    "musicList.pop(4)\n",
    "musicList"
   ]
  },
  {
   "cell_type": "code",
   "execution_count": 9,
   "metadata": {},
   "outputs": [
    {
     "name": "stdout",
     "output_type": "stream",
     "text": [
      "jazz\n",
      "electronic\n",
      "hip-hop\n",
      "indie music\n",
      "alternative\n"
     ]
    }
   ],
   "source": [
    "# We can iterate lists with loops.\n",
    "# We can print out each item in the list by slicing them off by their index position. \n",
    "# But it will take a lot of coding.\n",
    "# Instead we can write a loop in two code lines to print out each item at a time.  \n",
    "\n",
    "\n",
    "for item in musicList:     \n",
    "    print(item)\n",
    "    \n",
    "    \n",
    "# x is an arbitrary reference to each item in a defined list. \n",
    "# Instead of 'x', you may use any character or word or phrase to run loops, but keep it simple and short."
   ]
  },
  {
   "cell_type": "code",
   "execution_count": 10,
   "metadata": {},
   "outputs": [
    {
     "name": "stdout",
     "output_type": "stream",
     "text": [
      "I love jazz\n",
      "I love electronic\n",
      "I love hip-hop\n",
      "I love indie music\n",
      "I love alternative\n"
     ]
    }
   ],
   "source": [
    "# We can customize our list of items\n",
    "# Iterate over each item in the musicList and print each item with the phrase 'I love' before that item.\n",
    "\n",
    "for x in musicList:     \n",
    "    print(\"I love\", x)"
   ]
  },
  {
   "cell_type": "code",
   "execution_count": 11,
   "metadata": {},
   "outputs": [
    {
     "name": "stdout",
     "output_type": "stream",
     "text": [
      "I love ['jazz', 'electronic', 'hip-hop', 'indie music', 'alternative']\n"
     ]
    }
   ],
   "source": [
    "# If you do not loop through the list, but combine the raw string with the list variable,\n",
    "# you get the following\n",
    "\n",
    "print(\"I love\", musicList)"
   ]
  },
  {
   "cell_type": "markdown",
   "metadata": {},
   "source": [
    "<div class=\"alert alert-block alert-info\">\n",
    "<h2> Dictionaries</h2><br>\n",
    "<p>Dictionaries consist of keys and values. Think of dictionaries as pro-table format where keys are as if headings and values are as if information points under those headings. Keys are unique, but the values assigned to one key can be many.</p><br> \n",
    "\n",
    "<p><b>Syntax of dictionaries</b>: keys and values are entered into curly brackets { } with the colon : separating them</p>  \n",
    "\n",
    "__Example__:   \n",
    "Castle_Repository = {'France': 6500, 'Germany': 25000, 'Wales': 33}\n",
    "\n",
    "<img src=\"dictionary.JPG\">\n",
    "\n",
    "</div>"
   ]
  },
  {
   "cell_type": "code",
   "execution_count": 12,
   "metadata": {},
   "outputs": [
    {
     "data": {
      "text/plain": [
       "{'Tom': 'heavy metal', 'Lilly': 'punk rock', 'Avni': 'classical music'}"
      ]
     },
     "execution_count": 12,
     "metadata": {},
     "output_type": "execute_result"
    }
   ],
   "source": [
    "# Instead of a music list, let's create a music dictionary\n",
    "\n",
    "musicDict = {'Tom': 'heavy metal', 'Lilly': 'punk rock', 'Avni': 'classical music'}\n",
    "musicDict"
   ]
  },
  {
   "cell_type": "code",
   "execution_count": 13,
   "metadata": {},
   "outputs": [
    {
     "name": "stdout",
     "output_type": "stream",
     "text": [
      "{1: 'green', 2: 'yellow', 3: 'skyblue'}\n",
      "{'France': 6500, 'Germany': 25000, 'Wales': 33}\n"
     ]
    }
   ],
   "source": [
    "#Both keys and values could be numeric or textual.\n",
    "\n",
    "colorDict = {1: 'green', 2: 'yellow', 3: 'skyblue'}\n",
    "print(colorDict)\n",
    "\n",
    "Castles = {'France': 6500, 'Germany': 25000, 'Wales': 33}\n",
    "print(Castles)"
   ]
  },
  {
   "cell_type": "code",
   "execution_count": 14,
   "metadata": {},
   "outputs": [
    {
     "name": "stdout",
     "output_type": "stream",
     "text": [
      "classical music\n",
      "green\n"
     ]
    }
   ],
   "source": [
    "# You can query dictionaries by keys to find the values assigned to those keys.\n",
    "\n",
    "print(musicDict['Avni'])\n",
    "print(colorDict[1])\n",
    "\n",
    "# If you want to see the output of both variables in this case, use the function print(). \n",
    "# Otherwise, only the last variable in the code cell - that is, colorDict[1] - will be output here."
   ]
  },
  {
   "cell_type": "code",
   "execution_count": 15,
   "metadata": {},
   "outputs": [
    {
     "name": "stdout",
     "output_type": "stream",
     "text": [
      "{1: 'green', 2: 'yellow', 3: 'skyblue'}\n",
      "{1: 'red', 2: 'yellow', 3: 'skyblue'}\n"
     ]
    }
   ],
   "source": [
    "# Like lists, dictionaries are mutable. This means that we can modify them.\n",
    "# We can update their values, for example:\n",
    "\n",
    "colorDict = {1: 'green', 2: 'yellow', 3: 'skyblue'}\n",
    "print(colorDict)\n",
    "\n",
    "colorDict[1]='red'\n",
    "print(colorDict)\n",
    "\n",
    "# 'green' will be replaced with 'red'"
   ]
  },
  {
   "cell_type": "code",
   "execution_count": 16,
   "metadata": {},
   "outputs": [
    {
     "name": "stdout",
     "output_type": "stream",
     "text": [
      "{1: 'red', 3: 'skyblue'}\n",
      "{'Tom': 'heavy metal', 'Avni': 'classical music'}\n"
     ]
    }
   ],
   "source": [
    "# del statement deletes key-value pairs of your choosing by specifying the key\n",
    "# Unlike list, dictionaries are not indexed\n",
    "\n",
    "del colorDict[2] # 2 is not an index position but the key!\n",
    "print(colorDict)\n",
    "\n",
    "\n",
    "del musicDict['Lilly']\n",
    "print(musicDict)"
   ]
  },
  {
   "cell_type": "code",
   "execution_count": 17,
   "metadata": {},
   "outputs": [
    {
     "data": {
      "text/plain": [
       "2"
      ]
     },
     "execution_count": 17,
     "metadata": {},
     "output_type": "execute_result"
    }
   ],
   "source": [
    "# We've been modifying our dictionaries a bit, so let's check how many items are left in musicDict after all.\n",
    "\n",
    "len(musicDict)"
   ]
  },
  {
   "cell_type": "code",
   "execution_count": 18,
   "metadata": {},
   "outputs": [
    {
     "data": {
      "text/plain": [
       "{'Tom': 'pop', 'Avni': 'classical music'}"
      ]
     },
     "execution_count": 18,
     "metadata": {},
     "output_type": "execute_result"
    }
   ],
   "source": [
    "# We can further modify dictionaries by updating them. \n",
    "# If the key exists, the value will be updated; if the key is new, the value will be added\n",
    "\n",
    "musicDict['Tom'] = 'pop'\n",
    "musicDict"
   ]
  },
  {
   "cell_type": "code",
   "execution_count": 19,
   "metadata": {
    "tags": [
     "raises-exception"
    ]
   },
   "outputs": [
    {
     "name": "stdout",
     "output_type": "stream",
     "text": [
      "skyblue\n",
      "classical music\n"
     ]
    }
   ],
   "source": [
    "# The dictionary method get() is a quick way to search a dictionary by keys to retrieve their values.\n",
    "\n",
    "print(colorDict.get(3))\n",
    "print(musicDict.get('Avni'))\n",
    "\n",
    "# Note that the numeric key in the first code line is not the same as an index position used to slice off sublists.\n",
    "# If by mistake you enter a non-existing key, Python will return 'None'"
   ]
  },
  {
   "cell_type": "code",
   "execution_count": 20,
   "metadata": {},
   "outputs": [
    {
     "name": "stdout",
     "output_type": "stream",
     "text": [
      "{1: 'red', 2: 'yellow', 3: 'blue'}\n",
      "{3: 'orange', 5: 'green', 6: 'purple'}\n"
     ]
    }
   ],
   "source": [
    "# Dictionaries can be merged. \n",
    "# Before we do that, let's create two new dictionaries.\n",
    "\n",
    "primaryColors = {1: 'red', 2: 'yellow', 3: 'blue'}\n",
    "print(primaryColors)\n",
    "\n",
    "secondaryColors = {3: 'orange', 5: 'green', 6: 'purple'}\n",
    "print(secondaryColors)"
   ]
  },
  {
   "cell_type": "code",
   "execution_count": 21,
   "metadata": {},
   "outputs": [
    {
     "data": {
      "text/plain": [
       "{1: 'red', 2: 'yellow', 3: 'orange', 5: 'green', 6: 'purple'}"
      ]
     },
     "execution_count": 21,
     "metadata": {},
     "output_type": "execute_result"
    }
   ],
   "source": [
    "# Let's merge primaryColors with secondaryColors.\n",
    "\n",
    "allColors = {**primaryColors, **secondaryColors}\n",
    "allColors\n",
    "\n",
    "# if dictionaries share the same keys, one key-value pair will be overwritten when you merge them"
   ]
  }
 ],
 "metadata": {
  "kernelspec": {
   "display_name": "Python 3",
   "language": "python",
   "name": "python3"
  },
  "language_info": {
   "codemirror_mode": {
    "name": "ipython",
    "version": 3
   },
   "file_extension": ".py",
   "mimetype": "text/x-python",
   "name": "python",
   "nbconvert_exporter": "python",
   "pygments_lexer": "ipython3",
   "version": "3.7.3"
  }
 },
 "nbformat": 4,
 "nbformat_minor": 2
}
