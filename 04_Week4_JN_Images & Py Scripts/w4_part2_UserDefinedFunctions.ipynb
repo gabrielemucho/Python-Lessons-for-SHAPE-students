{
 "cells": [
  {
   "cell_type": "markdown",
   "metadata": {},
   "source": [
    "<div class=\"alert alert-block alert-info\">\n",
    "<h3>Week 4_Part 2. USER-DEFINED FUNCTIONS</h3><br>\n",
    "\n",
    "\n",
    "<p>Python has many built-in functions to perform predefined tasks. You may define your own functions, especially when you need to recycle the same code over and over in your program.A defined function is a reusable block of programming statements designed to perform a certain task. \n",
    "\n",
    "<p>To define a function, Python provides the <kbd>def</kbd> keyword. The keyword is followed by an identifier as the name of the function and parentheses.The colon (:) symbol starts an indented block.</p><br>\n",
    "<img src=\"def.JPG\">\n",
    "<p>The first statement in this block is an explanatory string which tells something about what the functions is supposed to do. It is called a <b>docstring</b> and it is optional. It is similar to a comment that we use in code cells. The following statements form the body of the function. They perform a certain task. The last statement contains the keyword <b>return</b>. The <b>return</b> statement ends the execution of a function, and returns control to the calling function or, in other words, returns Python objects to the caller code. The <b>return</b> statement can be followed by an optional return value.</p><br> \n",
    "<p>Defined functions may have <b>positional</b> or <b>keyword</b> arguments (also called parameters). Arguments are values that we pass to functions.</p><br>\n",
    "</div>"
   ]
  },
  {
   "cell_type": "code",
   "execution_count": 1,
   "metadata": {},
   "outputs": [],
   "source": [
    "# The following function can be recycled over and over in different programs to return a welcoming message. \n",
    "\n",
    "\n",
    "def Greeting():\n",
    "    \"\"\"This line is docstring. When called, a greeting function will display a message\"\"\"\n",
    "    print (\"Hello! Welcome to Week 4\")\n",
    "    return\n",
    "\n",
    "# Call the defined function by its name to see if it works\n",
    "Greeting()\n",
    "\n",
    "# Note that we do not pass any arguments to this function. It's an empty function thus.\n",
    "# It cannot accept values from outside the function and will do exactly what it's defined to do."
   ]
  },
  {
   "cell_type": "markdown",
   "metadata": {},
   "source": [
    "<div class=\"alert alert-block alert-info\">\n",
    "    \n",
    "<h3>Positional Arguments</h3>\n",
    "\n",
    "<p>An argument is a variable, value or object passed to a function or method as input. Positional arguments are names that refer to values outside the function. They serve to receive values from outside the function.</p>\n",
    "<p>Positional arguments must be included in the correct order. The formula of the function's main statement is as follows:</p>\n",
    "\n",
    "<kbd>function(positional argument)</kbd><br>\n",
    "\n",
    "<p>We may pass <b>formal</b> or <b>actual</b> parameters to a defined function. We need to pass the exact number of actual arguments as there are formal arguments defined in the function.If we pass more or fewer actual arguments than we passed formal arguments when defining the function, the code will throw an error.</p><br>\n",
    "\n",
    "\n",
    "</div>"
   ]
  },
  {
   "cell_type": "code",
   "execution_count": 2,
   "metadata": {},
   "outputs": [],
   "source": [
    "# Define the list of numeric values and assign to the variabled named 'lst'\n",
    "\n",
    "lst = [1, 10, 30, -23]\n",
    "\n",
    "# To add up all items in the list, we can use the built-in function sum()\n",
    "\n",
    "print(sum(lst))\n",
    "    "
   ]
  },
  {
   "cell_type": "code",
   "execution_count": 3,
   "metadata": {},
   "outputs": [],
   "source": [
    "# We can create a function that adds up things for us\n",
    "# In the def statement, we'll pass formal arguments a, b, c, d.\n",
    "# It means that the function will be able to take any four values from outside the function\n",
    "\n",
    "def sumUp(a,b,c,d):\n",
    "    total = a + b + c + d\n",
    "    #print(total)\n",
    "    return total\n",
    "    #return total # this is an explicit return statement\n",
    "    # it terminates a function execution and sends the return value back to the caller code\n",
    "\n",
    "# when you run this code, it will not return anything in the output\n",
    "# this is so because this code block defines but not runs the function"
   ]
  },
  {
   "cell_type": "code",
   "execution_count": 4,
   "metadata": {},
   "outputs": [],
   "source": [
    "# Declare the name of the sumUp function without the parentheses as a statement to see metadata\n",
    "\n",
    "sumUp "
   ]
  },
  {
   "cell_type": "code",
   "execution_count": 5,
   "metadata": {},
   "outputs": [],
   "source": [
    "# Pass actual arguments to the predefined sumUp function\n",
    "\n",
    "sumUp(25, 25, 60, 130)\n",
    "\n",
    "# if you pass more than 4 values to this function, Python will return an error\n",
    "# the number of values passed needs to correspond to the number of positional args in the definition of a function"
   ]
  },
  {
   "cell_type": "code",
   "execution_count": 6,
   "metadata": {},
   "outputs": [],
   "source": [
    "# Define a function which inserts the name variable in a string\n",
    "\n",
    "def Response(name):\n",
    "    print (\"Hello, {}!\".format(name))\n",
    "    return"
   ]
  },
  {
   "cell_type": "code",
   "execution_count": 7,
   "metadata": {},
   "outputs": [],
   "source": [
    "# Call the defined function by passing a string value\n",
    "\n",
    "Response(\"Tom\")\n",
    "\n",
    "# this function will accept other value types, e.g. integers"
   ]
  },
  {
   "cell_type": "code",
   "execution_count": 8,
   "metadata": {},
   "outputs": [],
   "source": [
    "# We can also pass values by assigning them to the keyword 'name'\n",
    "\n",
    "\n",
    "Response(name = \"Avni\")"
   ]
  },
  {
   "cell_type": "markdown",
   "metadata": {},
   "source": [
    "<div class=\"alert alert-block alert-info\">\n",
    "    <h3>Keyword Arguments</h3>\n",
    "\n",
    "<p>A keyword argument is an argument passed to a function or method which is preceded by a keyword and an equals sign. The formula of the function's main statement is as follows:</p><br>\n",
    "\n",
    "<kbd>function(keyword=value)</kbd>\n",
    "\n",
    "</div>"
   ]
  },
  {
   "cell_type": "code",
   "execution_count": 9,
   "metadata": {},
   "outputs": [],
   "source": [
    "# Let's define a function that accepts two keyword arguments, and embeds their values in a string content.\n",
    "\n",
    "def AboutMe(name=\"Avni\", age=30):\n",
    "    print (\"Hi! My name is {} and I am {} years old\".format(name,age))\n",
    "    return\n",
    "\n",
    "# Call the function\n",
    "\n",
    "AboutMe()"
   ]
  },
  {
   "cell_type": "code",
   "execution_count": 10,
   "metadata": {},
   "outputs": [
    {
     "name": "stdout",
     "output_type": "stream",
     "text": [
      "Hi! My name is Gabriele and I am 40 years old\n"
     ]
    }
   ],
   "source": [
    "# We can recyle the above defined function by passing actual arguments \n",
    "# Their values can be different from those assigned to the keyword arguments above\n",
    "\n",
    "AboutMe(\"Gabriele\", 40)"
   ]
  },
  {
   "cell_type": "code",
   "execution_count": 11,
   "metadata": {},
   "outputs": [],
   "source": [
    "# We can include loops and conditionals in the def code blocks\n",
    "\n",
    "def Eval(mark):\n",
    "        if mark >= 50:\n",
    "            print(\"You passed\")\n",
    "        else:\n",
    "            print(\"You failed\")\n",
    "            return\n"
   ]
  },
  {
   "cell_type": "code",
   "execution_count": 12,
   "metadata": {},
   "outputs": [
    {
     "name": "stdout",
     "output_type": "stream",
     "text": [
      "You failed\n"
     ]
    }
   ],
   "source": [
    "# Call the function by assigning a value to its argument\n",
    "\n",
    "Eval(mark=20)"
   ]
  },
  {
   "cell_type": "code",
   "execution_count": 13,
   "metadata": {},
   "outputs": [
    {
     "name": "stdout",
     "output_type": "stream",
     "text": [
      "Enter your mark: 20\n",
      "You failed\n"
     ]
    }
   ],
   "source": [
    "# Let's allow a user input to pass to the Eval function\n",
    "\n",
    "mark = int(input(\"Enter your mark: \"))\n",
    "Eval(mark)"
   ]
  },
  {
   "cell_type": "code",
   "execution_count": 14,
   "metadata": {},
   "outputs": [],
   "source": [
    "# Write the definition to calculate the average and evaluate if the average is pass\n",
    "\n",
    "def Average(m1,m2,m3):\n",
    "        sum = m1 + m2 + m3\n",
    "        percent = sum/3\n",
    "        if percent >= 50:\n",
    "            print (\"Result: Pass\")\n",
    "        else:\n",
    "            print (\"Result: Fail\")\n",
    "        return\n",
    "\n"
   ]
  },
  {
   "cell_type": "code",
   "execution_count": 15,
   "metadata": {},
   "outputs": [
    {
     "name": "stdout",
     "output_type": "stream",
     "text": [
      "Enter your marks in literature: 60\n",
      "Enter your marks in history: 50\n",
      "Enter your marks in languages: 40\n",
      "Result: Pass\n"
     ]
    }
   ],
   "source": [
    "# Check the results\n",
    "\n",
    "lit = int(input(\"Enter your marks in literature: \"))\n",
    "hist = int(input(\"Enter your marks in history: \"))\n",
    "lang = int(input(\"Enter your marks in languages: \"))\n",
    "\n",
    "Average(lit,hist,lang)"
   ]
  }
 ],
 "metadata": {
  "kernelspec": {
   "display_name": "Python 3",
   "language": "python",
   "name": "python3"
  },
  "language_info": {
   "codemirror_mode": {
    "name": "ipython",
    "version": 3
   },
   "file_extension": ".py",
   "mimetype": "text/x-python",
   "name": "python",
   "nbconvert_exporter": "python",
   "pygments_lexer": "ipython3",
   "version": "3.7.3"
  }
 },
 "nbformat": 4,
 "nbformat_minor": 2
}
