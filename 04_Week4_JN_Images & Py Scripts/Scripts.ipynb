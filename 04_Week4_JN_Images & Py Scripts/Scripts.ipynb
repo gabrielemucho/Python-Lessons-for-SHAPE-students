{
 "cells": [
  {
   "cell_type": "code",
   "execution_count": 1,
   "metadata": {},
   "outputs": [],
   "source": [
    "# Run a Python script caled \"Game.py\" to be able to recycle its entire code or some parts, e.g useful functions\n",
    "# Make sure that the script is uploaded to the JN directory and sits in the same folder as this JN file\n",
    "\n",
    "%run Game.py"
   ]
  },
  {
   "cell_type": "code",
   "execution_count": 2,
   "metadata": {},
   "outputs": [
    {
     "data": {
      "text/plain": [
       "<function __main__.NameGame()>"
      ]
     },
     "execution_count": 2,
     "metadata": {},
     "output_type": "execute_result"
    }
   ],
   "source": [
    "# Declare the name of the function contained in Game.py\n",
    "\n",
    "NameGame\n",
    "\n",
    "# It will return the metadata about that function"
   ]
  },
  {
   "cell_type": "code",
   "execution_count": 3,
   "metadata": {},
   "outputs": [
    {
     "name": "stdout",
     "output_type": "stream",
     "text": [
      "What's your name? Tom\n",
      "Hi, Tom! Give me another name\n",
      "What's your name? Rasa\n",
      "Hi, Rasa! Give me another name\n",
      "What's your name? Avni\n",
      "Hi, Avni! Give me another name\n",
      "What's your name? quit\n",
      "Goodbye\n"
     ]
    }
   ],
   "source": [
    "# Call the function\n",
    "\n",
    "NameGame()"
   ]
  },
  {
   "cell_type": "code",
   "execution_count": 4,
   "metadata": {},
   "outputs": [],
   "source": [
    "# Run a Python script caled \"Color.py\" to recycle its code\n",
    "# Make sure that the script is uploaded to the JN directory and sits in the same folder as this JN file\n",
    "\n",
    "%run Color.py"
   ]
  },
  {
   "cell_type": "code",
   "execution_count": 6,
   "metadata": {},
   "outputs": [
    {
     "data": {
      "text/plain": [
       "<function __main__.ColorGame()>"
      ]
     },
     "execution_count": 6,
     "metadata": {},
     "output_type": "execute_result"
    }
   ],
   "source": [
    "# Declare the name of the function contained in Color.py\n",
    "\n",
    "ColorGame"
   ]
  },
  {
   "cell_type": "code",
   "execution_count": 7,
   "metadata": {},
   "outputs": [
    {
     "name": "stdout",
     "output_type": "stream",
     "text": [
      "Give your favorite color? When finished, write 'done'green\n",
      "That's a cool color!\n",
      "Give your favorite color? When finished, write 'done'red\n",
      "That's a cool color!\n",
      "Give your favorite color? When finished, write 'done'done\n",
      "Goodbye\n"
     ]
    }
   ],
   "source": [
    "# Call the function\n",
    "\n",
    "ColorGame()"
   ]
  },
  {
   "cell_type": "code",
   "execution_count": 8,
   "metadata": {},
   "outputs": [],
   "source": [
    "# Although Game.py and Color.py are not modules, but you can read them in as modules in principle\n",
    "# Python modules come as Python files with the extension of .py\n",
    "\n",
    "import Game"
   ]
  },
  {
   "cell_type": "code",
   "execution_count": 9,
   "metadata": {},
   "outputs": [
    {
     "name": "stdout",
     "output_type": "stream",
     "text": [
      "What's your name? Tom\n",
      "Hi, Tom! Give me another name\n",
      "What's your name? Jose\n",
      "Hi, Jose! Give me another name\n",
      "What's your name? quit\n",
      "Goodbye\n"
     ]
    }
   ],
   "source": [
    "NameGame()"
   ]
  },
  {
   "cell_type": "code",
   "execution_count": null,
   "metadata": {},
   "outputs": [],
   "source": [
    "import Color"
   ]
  }
 ],
 "metadata": {
  "kernelspec": {
   "display_name": "Python 3",
   "language": "python",
   "name": "python3"
  },
  "language_info": {
   "codemirror_mode": {
    "name": "ipython",
    "version": 3
   },
   "file_extension": ".py",
   "mimetype": "text/x-python",
   "name": "python",
   "nbconvert_exporter": "python",
   "pygments_lexer": "ipython3",
   "version": "3.7.3"
  }
 },
 "nbformat": 4,
 "nbformat_minor": 2
}
