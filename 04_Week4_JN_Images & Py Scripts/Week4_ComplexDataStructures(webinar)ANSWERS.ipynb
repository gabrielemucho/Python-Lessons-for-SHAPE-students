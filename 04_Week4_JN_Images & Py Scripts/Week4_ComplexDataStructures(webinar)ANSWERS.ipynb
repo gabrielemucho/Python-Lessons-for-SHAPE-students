{
 "cells": [
  {
   "cell_type": "markdown",
   "metadata": {},
   "source": [
    "<div class=\"alert alert-block alert-info\">\n",
    "    <h3>Week 4. COMPLEX DATA STRUCTURES (webinar) with ANSWERS</h3><br>\n",
    "<p>Python has four major data containers: <b>lists</b>, <b>tuples</b>, <b>dictionaries</b> and <b>arrays</b>. We'll get to know more about arrays in Week 5 focused on the basics of statistical modelling of structured data.</p><br>\n",
    "<p>Refer to the core reading material and Jupyter Notebook files available under Week 4 for information on how to create lists, tuples, dictionaries and what their common functions/methods are.</p><br>\n",
    "\n",
    "</div>"
   ]
  },
  {
   "cell_type": "code",
   "execution_count": 1,
   "metadata": {},
   "outputs": [
    {
     "name": "stdout",
     "output_type": "stream",
     "text": [
      "war\n",
      "famine\n",
      "peace\n",
      "death\n",
      "hero\n",
      "love\n"
     ]
    }
   ],
   "source": [
    "# Like strings, lists can be iterated through.\n",
    "# The for-loop below will iterate through each item in the list and print out each at a time\n",
    "\n",
    "words = [\"war\", \"famine\", \"peace\", \"death\", \"hero\", \"love\"]\n",
    "\n",
    "for word in words:\n",
    "    print(word)\n",
    "\n"
   ]
  },
  {
   "cell_type": "code",
   "execution_count": 2,
   "metadata": {},
   "outputs": [
    {
     "name": "stdout",
     "output_type": "stream",
     "text": [
      "war is a word\n",
      "famine is a word\n",
      "peace is a word\n",
      "death is a word\n",
      "hero is a word\n",
      "love is a word\n"
     ]
    }
   ],
   "source": [
    "# iterate through each item in the list and print out each item with the string 'is a word'\n",
    "\n",
    "for x in words:\n",
    "    print(x + \" is a word\")"
   ]
  },
  {
   "cell_type": "markdown",
   "metadata": {},
   "source": [
    "<div class=\"alert alert-block alert-info\">\n",
    "<p>Note that each item in lists is indexed starting with index position 0.</p>\n",
    "<img src=\"list.JPG\"><br>\n",
    "</div>"
   ]
  },
  {
   "cell_type": "code",
   "execution_count": 3,
   "metadata": {},
   "outputs": [
    {
     "name": "stdout",
     "output_type": "stream",
     "text": [
      "war\n",
      "famine\n",
      "peace\n",
      "death\n",
      "hero\n",
      "love\n"
     ]
    }
   ],
   "source": [
    "# iterate through the length of each index position of items in the list\n",
    "\n",
    "for i in range(len(words)):\n",
    "    print(words[i])\n",
    "    "
   ]
  },
  {
   "cell_type": "code",
   "execution_count": 4,
   "metadata": {},
   "outputs": [
    {
     "name": "stdout",
     "output_type": "stream",
     "text": [
      "war\n",
      "famine\n",
      "peace\n",
      "death\n",
      "hero\n",
      "love\n"
     ]
    }
   ],
   "source": [
    "# Alternatively, iterate through the length of item positions with a while-loop\n",
    "# Since the length of a list is a sequence of numbers, make your loop increment\n",
    "\n",
    "i = 0\n",
    "\n",
    "while i < len(words):\n",
    "    print(words[i]) # starts with an item in index position 0\n",
    "    i += 1"
   ]
  },
  {
   "cell_type": "markdown",
   "metadata": {},
   "source": [
    "<div class=\"alert alert-block alert-info\">\n",
    "<h3>Modulo</h3><br>\n",
    "\n",
    "<p>With loops and the <b>modulo</b> operation we can sort out every other (odd or even) item. The modulo (or \"modulus\" or \"mod\") is the remainder after dividing one number by another. Example: 100 mod 9 equals 1. Because 100/9 = 11 with a remainder of 1 (the remainder 1 is an odd number).</p><br>\n",
    "<p>Python uses the % symbol to express the modulus operation. For example, 1 mod 2 will be represented as 1%2.</p><br>\n",
    "\n",
    "<img src=\"list.JPG\">\n",
    "</div>\n"
   ]
  },
  {
   "cell_type": "code",
   "execution_count": 5,
   "metadata": {},
   "outputs": [
    {
     "name": "stdout",
     "output_type": "stream",
     "text": [
      "war\n",
      "peace\n",
      "hero\n"
     ]
    }
   ],
   "source": [
    "# iterate through each item in the list by their index position & select only those that are in the even position\n",
    "# we'll use a modulus operation; \n",
    "# our divident is i (index position) and divisor will be 2\n",
    "\n",
    "for i in range(len(words)):\n",
    "    if i%2 == 0:\n",
    "        print(words[i])\n"
   ]
  },
  {
   "cell_type": "code",
   "execution_count": 6,
   "metadata": {},
   "outputs": [],
   "source": [
    "# loop through the words list and sort out items in every even position into list L1\n",
    "# while list items in every off position should go into list L2\n",
    "\n",
    "L1 = []\n",
    "L2 = []\n",
    "\n",
    "for i in range(len(words)):\n",
    "    if i%2 == 0:\n",
    "        L1.append(words[i])\n",
    "    else:\n",
    "        L2.append(words[i])"
   ]
  },
  {
   "cell_type": "code",
   "execution_count": 7,
   "metadata": {},
   "outputs": [
    {
     "name": "stdout",
     "output_type": "stream",
     "text": [
      "['war', 'peace', 'hero']\n",
      "['famine', 'death', 'love']\n"
     ]
    }
   ],
   "source": [
    "print(L1)\n",
    "print(L2)\n",
    "\n",
    "# OVER TO YOU:\n",
    "# write the program that gives one response to even inputs and another to odd inputs"
   ]
  },
  {
   "cell_type": "code",
   "execution_count": 8,
   "metadata": {},
   "outputs": [
    {
     "name": "stdout",
     "output_type": "stream",
     "text": [
      "Name three favourite movies, then type in \"quit\": Night Watch\n",
      "Name three favourite movies, then type in \"quit\": Matrix\n",
      "Name three favourite movies, then type in \"quit\": Killing Eve\n",
      "Name three favourite movies, then type in \"quit\": quit\n"
     ]
    },
    {
     "data": {
      "text/plain": [
       "['Night Watch', 'Matrix', 'Killing Eve']"
      ]
     },
     "execution_count": 8,
     "metadata": {},
     "output_type": "execute_result"
    }
   ],
   "source": [
    "# below is a version of the code we learnt in the webinar of Week 3\n",
    "# it asks users to name their favourite movies\n",
    "\n",
    "movies = []\n",
    "\n",
    "title = ' '\n",
    "\n",
    "\n",
    "while title != 'quit':\n",
    "    title = input('''Name three favourite movies, then type in \"quit\": ''')\n",
    "    if title != 'quit':\n",
    "        movies.append(title)\n",
    "\n",
    "movies\n",
    "        \n",
    "# It asks for 3 movies but accepts any number of input\n",
    "# how to limit input to three times?"
   ]
  },
  {
   "cell_type": "code",
   "execution_count": 9,
   "metadata": {},
   "outputs": [
    {
     "name": "stdout",
     "output_type": "stream",
     "text": [
      "Name three favourite movies: Matrix\n",
      "Name three favourite movies: Killing Eve\n",
      "Name three favourite movies: Night Watch\n",
      "['Matrix', 'Killing Eve', 'Night Watch']\n"
     ]
    }
   ],
   "source": [
    "# build in the restriction of 3 movies per user into the main statement of the while-loop\n",
    "\n",
    "movies2 = []\n",
    "\n",
    "title2 = ' '\n",
    "\n",
    "while len(movies2) < 3:\n",
    "    title2 = input(\"Name three favourite movies: \")\n",
    "    movies2.append(title2)\n",
    "print(movies2)\n",
    "\n"
   ]
  },
  {
   "cell_type": "markdown",
   "metadata": {},
   "source": [
    "<div class=\"alert-alert-block alert-danger\"><br>\n",
    "    <h3>MORE ABOUT CHATBOTS & DICTIONARIES</h3><br\n",
    "</div>"
   ]
  },
  {
   "cell_type": "code",
   "execution_count": 10,
   "metadata": {},
   "outputs": [
    {
     "data": {
      "text/plain": [
       "{'Hello, machine!': 'Hi, human!',\n",
       " \"What's your name?\": \"I'm Z. And yours?\",\n",
       " 'How old are you?': \"I don't remember. And you?\"}"
      ]
     },
     "execution_count": 10,
     "metadata": {},
     "output_type": "execute_result"
    }
   ],
   "source": [
    "# Let's create the variable called 'chat' and use Python dictionaries to define its content of a chat.\n",
    "# Note that dictionaries consist of key-value pairs.\n",
    "\n",
    "chat = {  \n",
    "\"Hello, machine!\" : \"Hi, human!\",  # this is the first key-value pair\n",
    "\"What's your name?\" : \"I'm Z. And yours?\", # this is the second key-value pair\n",
    "\"How old are you?\" : \"I don't remember. And you?\"} # this is the third key-value pair\n",
    "\n",
    "chat\n"
   ]
  },
  {
   "cell_type": "code",
   "execution_count": 11,
   "metadata": {},
   "outputs": [
    {
     "data": {
      "text/plain": [
       "'Hi, human!'"
      ]
     },
     "execution_count": 11,
     "metadata": {},
     "output_type": "execute_result"
    }
   ],
   "source": [
    "# Apart from built-in functions, we can also write our own functions, which are called user-defined functions. \n",
    "# Use the keyword def, give a name to your function-to-be, and write the body of the function.\n",
    "# The function name is always followed by parentheses() which can take or not arguments.\n",
    "\n",
    "def talk(message):\n",
    "    if message in chat:\n",
    "        return chat[message] \n",
    "\n",
    "talk(\"Hello, machine!\")\n"
   ]
  },
  {
   "cell_type": "code",
   "execution_count": 12,
   "metadata": {},
   "outputs": [],
   "source": [
    "# The message that you send to the machine should correspond to the keys in the dictionary called chat.\n",
    "# If not, the machine will remain silent, i.e. no response will follow to the question below\n",
    "\n",
    "talk(\"What's up?\")"
   ]
  },
  {
   "cell_type": "code",
   "execution_count": 13,
   "metadata": {},
   "outputs": [
    {
     "data": {
      "text/plain": [
       "\"I'm Z. And yours?\""
      ]
     },
     "execution_count": 13,
     "metadata": {},
     "output_type": "execute_result"
    }
   ],
   "source": [
    "# compare to the question \n",
    "\n",
    "talk(\"What's your name?\")"
   ]
  },
  {
   "cell_type": "code",
   "execution_count": 14,
   "metadata": {},
   "outputs": [],
   "source": [
    "# To make a small talk responsive to user input, add some placeholders to the chat dict.\n",
    "# Instead of adding strings with ready-made details to our dictionaries, \n",
    "# we may write template strings by using {} and the format() method.\n",
    "# Let's add one more string to our dictionary and let's insert {} \n",
    "# where we mean some color in the bot's response.\n",
    "\n",
    "# keys represent human talk, and values represent machine responses in chat2\n",
    "\n",
    "chat2 = {  \n",
    "\"Hello, machine!\" : \"Hi, human!\",  \n",
    "\"What's your name?\" : \"I'm Z. And yours?\",\n",
    "\"How old are you?\" : \"I don't remember. And you?\",\n",
    "\"What's your favorite color?\" : \"Oh, I do like {} today!\"\n",
    "}\n",
    "\n",
    "# Let's now assign the value to the color variable\n",
    "\n",
    "color = \"orange\""
   ]
  },
  {
   "cell_type": "code",
   "execution_count": 15,
   "metadata": {},
   "outputs": [
    {
     "data": {
      "text/plain": [
       "'Oh, I do like orange today!'"
      ]
     },
     "execution_count": 15,
     "metadata": {},
     "output_type": "execute_result"
    }
   ],
   "source": [
    "# Let's rewrite our function 'talk' by using format() to be able to insert variables in conversational strings\n",
    "\n",
    "def talk2(message):\n",
    "    if message in chat2:\n",
    "        return chat2[message].format(color)\n",
    "\n",
    "talk2(\"What's your favorite color?\")"
   ]
  },
  {
   "cell_type": "code",
   "execution_count": 16,
   "metadata": {},
   "outputs": [
    {
     "data": {
      "text/plain": [
       "{'Hello, machine!': ['Hi, human!',\n",
       "  \"Hi there! What's up?\",\n",
       "  'Hello, why not?',\n",
       "  \"How dare you! I'm not a machine!\",\n",
       "  'Do you like machines?']}"
      ]
     },
     "execution_count": 16,
     "metadata": {},
     "output_type": "execute_result"
    }
   ],
   "source": [
    "# Our dictionaries may have one key and more than one answer in the value position \n",
    "# Use a list of more than one string in the value position\n",
    "\n",
    "chat3 = {\n",
    "\"Hello, machine!\" : [\n",
    "\"Hi, human!\", \n",
    "\"Hi there! What's up?\",\n",
    "\"Hello, why not?\",\n",
    "\"How dare you! I'm not a machine!\", \n",
    "\"Do you like machines?\"]\n",
    "\n",
    "}\n",
    "\n",
    "chat3"
   ]
  },
  {
   "cell_type": "code",
   "execution_count": 17,
   "metadata": {},
   "outputs": [],
   "source": [
    "# To randomize a bot's responses, import the random module & use its method random.choice()\n",
    "# random.choice() will return randomly picked up statements from your dictionary \n",
    "\n",
    "import random\n",
    "\n",
    "# We'll need to write our own function by using the def statement.\n",
    "\n",
    "\n",
    "def talk3(message):    \n",
    "    if message in chat3:\n",
    "        return random.choice(chat3[message])\n",
    "\n"
   ]
  },
  {
   "cell_type": "code",
   "execution_count": 18,
   "metadata": {},
   "outputs": [
    {
     "data": {
      "text/plain": [
       "'Hello, why not?'"
      ]
     },
     "execution_count": 18,
     "metadata": {},
     "output_type": "execute_result"
    }
   ],
   "source": [
    "\n",
    "talk3(\"Hello, machine!\")"
   ]
  },
  {
   "cell_type": "code",
   "execution_count": 19,
   "metadata": {},
   "outputs": [
    {
     "name": "stdout",
     "output_type": "stream",
     "text": [
      "Please input a key: 3\n",
      "Please input a value: orange\n"
     ]
    }
   ],
   "source": [
    "# We may write dictionaries that accept user input\n",
    "# create variables that accept user input: \n",
    "# a number in the first case and a string in the second instance\n",
    "\n",
    "key = int(input(\"Please input a key: \")) \n",
    "value = input(\"Please input a value: \") \n"
   ]
  },
  {
   "cell_type": "code",
   "execution_count": 20,
   "metadata": {},
   "outputs": [
    {
     "data": {
      "text/plain": [
       "{3: 'orange'}"
      ]
     },
     "execution_count": 20,
     "metadata": {},
     "output_type": "execute_result"
    }
   ],
   "source": [
    "# combine variables that accept user input into a dictionary\n",
    "\n",
    "myDiction = {key:value} \n",
    "myDiction\n"
   ]
  },
  {
   "cell_type": "code",
   "execution_count": 21,
   "metadata": {},
   "outputs": [
    {
     "name": "stdout",
     "output_type": "stream",
     "text": [
      "Give your name: Sue\n",
      "Name your favorite color: orange\n"
     ]
    },
    {
     "data": {
      "text/plain": [
       "{'Sue': 'orange'}"
      ]
     },
     "execution_count": 21,
     "metadata": {},
     "output_type": "execute_result"
    }
   ],
   "source": [
    "def MyD():   \n",
    "    key = input(\"Give your name: \")\n",
    "    value = input(\"Name your favorite color: \")\n",
    "    v = {key : value}\n",
    "    return v\n",
    "\n",
    "MyD()"
   ]
  },
  {
   "cell_type": "markdown",
   "metadata": {},
   "source": [
    "<div class=\"alert alert-success\" role=\"alert\">\n",
    "<h3><em>Extra Exercise</em></h3><br>\n",
    "<p>Write a function that runs the program in the code above under certain conditions.</p></div>"
   ]
  },
  {
   "cell_type": "code",
   "execution_count": 22,
   "metadata": {},
   "outputs": [
    {
     "name": "stdout",
     "output_type": "stream",
     "text": [
      "Give your name: Sue\n",
      "Name your favorite color: orange\n",
      "Give your name: Tom\n",
      "Name your favorite color: green\n",
      "Give your name: Ugne\n",
      "Name your favorite color: red\n",
      "[dict_items([('Sue', 'orange')]), dict_items([('Tom', 'green')]), dict_items([('Ugne', 'red')])]\n"
     ]
    }
   ],
   "source": [
    "\n",
    "\n",
    "def MyDict2():\n",
    "    x = []\n",
    "    while len(x) < 3:\n",
    "        key = input(\"Give your name: \")\n",
    "        value = input(\"Name your favorite color: \")\n",
    "        v = {key : value}\n",
    "        z = v.items() # the .items() method will convert a dictionary into a list\n",
    "        x.append(z)\n",
    "    print(x)\n",
    "\n",
    "# call the function we've just created\n",
    "MyDict2()"
   ]
  },
  {
   "cell_type": "markdown",
   "metadata": {},
   "source": [
    "<div style=\"background-color:#ccccff\">\n",
    "<p>More online tutorials on how to build chatbots:</p>\n",
    "<ul><li><a href=\"https://medium.com/analytics-vidhya/building-a-simple-chatbot-in-python-using-nltk-7c8c8215ac6e\" target=\"_blank\">Building a Simple Chatbot</a> by Parul Pandy</li>\n",
    "<li>DataCamp course <a href=\"https://www.datacamp.com/courses/building-chatbots-in-python\" target=\"_blank\">Building Chatbots in Python</a></li>\n",
    "<li><a href=\"https://medium.freecodecamp.org/you-dont-needs-chatbot-creation-tools-let-s-build-a-messenger-bot-from-scratch-8fcbb40f073b\">Building a Messenger Bot Scratch</a> by Daoud Clarke</li>\n",
    "</ul>\n",
    "</div>"
   ]
  },
  {
   "cell_type": "markdown",
   "metadata": {},
   "source": [
    "<div class=\"alert alert-block alert-success\">\n",
    "<h2>Homework 4</h2><br> \n",
    "<p>To consolidate the above do some practice on your own.</p>\n",
    "<p>Follow the tasks below and submit the completed Jupyter Notebook as 'homework4.ipynb' via the designated area called 'Homework 4' under Week 4 on KEATS after the Reading week by 4pm on <b>9th November 2020</b>.</p><br>\n",
    "</div>"
   ]
  },
  {
   "cell_type": "markdown",
   "metadata": {},
   "source": [
    "<div class=\"alert alert-success\" role=\"alert\">\n",
    "<h3><em>Exercise 1</em></h3><br>\n",
    "<p>Write a function that accepts a negative whole number from a user and returns the value as a positive whole number.</p></div>"
   ]
  },
  {
   "cell_type": "code",
   "execution_count": 23,
   "metadata": {},
   "outputs": [
    {
     "name": "stdout",
     "output_type": "stream",
     "text": [
      "Give a negative number: -20\n",
      "20\n"
     ]
    }
   ],
   "source": [
    "# Solution to Exercise 1\n",
    "\n",
    "def Number():\n",
    "    x = int(input(\"Give a negative number: \"))\n",
    "    if x < 0:\n",
    "        x = - x\n",
    "        print(x)\n",
    "    return\n",
    "\n",
    "\n",
    "# call the function create in this code cell\n",
    "Number()"
   ]
  },
  {
   "cell_type": "markdown",
   "metadata": {},
   "source": [
    "<div class=\"alert alert-success\" role=\"alert\">\n",
    "<h3><em>Exercise 2</em></h3><br>\n",
    "<p>Write a program similar to that in the last code cell of .ipynb file of Week3_LoopsConditionals. It has to collect user input but it should prompt users with the following string: \"What's your name? If not interested, enter \"quit\"\". And your program should print the customized output responsive to the names that users submit as follows:\n",
    "\n",
    "<p>Hello, Jose! How can I help you?</p>\n",
    "<p>Hello, Rasa! How can I help you?</p>\n",
    "</div>"
   ]
  },
  {
   "cell_type": "code",
   "execution_count": 24,
   "metadata": {},
   "outputs": [
    {
     "name": "stdout",
     "output_type": "stream",
     "text": [
      "What's your name? If not interested, enter \"quit\"Rasa\n",
      "Hello, Rasa! How can I help you?\n",
      "What's your name? If not interested, enter \"quit\"Sue\n",
      "Hello, Sue! How can I help you?\n",
      "What's your name? If not interested, enter \"quit\"Jose\n",
      "Hello, Jose! How can I help you?\n",
      "What's your name? If not interested, enter \"quit\"quit\n"
     ]
    }
   ],
   "source": [
    "# Solution to Exercise 2\n",
    "\n",
    "names =[]\n",
    "newname = '' \n",
    "\n",
    "while newname !='quit':\n",
    "    newname = input('''What's your name? If not interested, enter \"quit\" ''')\n",
    "    if newname != 'quit': \n",
    "        names.append(newname)\n",
    "        print(\"Hello, {}! How can I help you?\".format(newname))\n"
   ]
  },
  {
   "cell_type": "code",
   "execution_count": 25,
   "metadata": {},
   "outputs": [
    {
     "name": "stdout",
     "output_type": "stream",
     "text": [
      "What's your name? If not interested, enter \"quit \"Rasa\n",
      "Hello, Rasa! How can I help you?\n",
      "What's your name? If not interested, enter \"quit \"Jose\n",
      "Hello, Jose! How can I help you?\n",
      "What's your name? If not interested, enter \"quit \"Avni\n",
      "Hello, Avni! How can I help you?\n",
      "What's your name? If not interested, enter \"quit \"quit\n",
      "Hello, quit! How can I help you?\n"
     ]
    }
   ],
   "source": [
    "# Extra soluton to Exercise 2\n",
    "# Put the above code into one code block by writing a function\n",
    "\n",
    "def Greeting():\n",
    "    names =[]\n",
    "    newname = '' \n",
    "    while newname !='quit':\n",
    "        newname = input('''What's your name? If not interested, enter \"quit\" ''')\n",
    "        if newname != 'quit': \n",
    "            names.append(newname)\n",
    "        print(\"Hello, {}! How can I help you?\".format(newname))\n",
    "    return\n",
    "\n",
    "# call the newly defined function\n",
    "Greeting()"
   ]
  },
  {
   "cell_type": "markdown",
   "metadata": {},
   "source": [
    "<div class=\"alert alert-success\" role=\"alert\">\n",
    "<h3><em>Exercise 3</em></h3><br>\n",
    "<p>Write a user-defined function for the following program which accepts only three favourite movies as user input.</p>\n",
    "<img src=\"writeFunction.JPG\">\n",
    "</div>"
   ]
  },
  {
   "cell_type": "code",
   "execution_count": 26,
   "metadata": {},
   "outputs": [
    {
     "name": "stdout",
     "output_type": "stream",
     "text": [
      "Name three favourite movies: Babylon Berlin\n",
      "Name three favourite movies: Night Watch\n",
      "Name three favourite movies: Expanse\n",
      "['Babylon Berlin', 'Night Watch', 'Expanse']\n"
     ]
    }
   ],
   "source": [
    "# Solution to Exercise 3\n",
    "\n",
    "def Movies():\n",
    "    movies2 = []\n",
    "    title2 = ' '\n",
    "    while len(movies2) < 3:\n",
    "        title2 = input(\"Name three favourite movies: \")\n",
    "        movies2.append(title2)\n",
    "    print(movies2)\n",
    "    return\n",
    "\n",
    "# call the newly defined function\n",
    "Movies()"
   ]
  },
  {
   "cell_type": "markdown",
   "metadata": {},
   "source": [
    "<div class=\"alert alert-success\" role=\"alert\">\n",
    "<h3><em>Exercise 4</em></h3><br>\n",
    "<p>Write a program that asks and accepts from a user any three movie titles, except for \"Matrix\". Make sure you prompt a user to give another title (e.g.\"We don't accept 'Matrix', name another\") if a user submits \"Matrix\" as their answer. Also collect user input and print out a list of user input when the program stops running.</p></div>\n"
   ]
  },
  {
   "cell_type": "code",
   "execution_count": 27,
   "metadata": {},
   "outputs": [
    {
     "name": "stdout",
     "output_type": "stream",
     "text": [
      "Name three favourite movies: Expanse\n",
      "Name three favourite movies: Matrix\n",
      "We don't accept 'Matrix', name another\n",
      "Name three favourite movies: Babylon Berlin\n",
      "Name three favourite movies: Night Watch\n",
      "['Expanse', 'Babylon Berlin', 'Night Watch']\n"
     ]
    }
   ],
   "source": [
    "# Solution to Exercise 4\n",
    "\n",
    "movies3 = []\n",
    "\n",
    "title3 = ' '\n",
    "\n",
    "while len(movies3) < 3:\n",
    "    title3 = input(\"Name three favourite movies: \")\n",
    "    if title3 != \"Matrix\":\n",
    "        movies3.append(title3)\n",
    "    else:\n",
    "        print(\"We don't accept 'Matrix', name another\")\n",
    "print(movies3)"
   ]
  },
  {
   "cell_type": "code",
   "execution_count": 28,
   "metadata": {},
   "outputs": [
    {
     "name": "stdout",
     "output_type": "stream",
     "text": [
      "Name three favourite movies: Matrix\n",
      "We don't accept 'Matrix', name another\n",
      "Name three favourite movies: Babylon Berlin\n",
      "Name three favourite movies: Expanse\n",
      "Name three favourite movies: Night Watch\n",
      "['Babylon Berlin', 'Expanse', 'Night Watch']\n"
     ]
    }
   ],
   "source": [
    "# Extra solution to Exercise 4\n",
    "# Put the above in one code block by writing your function\n",
    "\n",
    "def Movies2():\n",
    "    movies3 = []\n",
    "    title3 = ' '\n",
    "    while len(movies3) < 3:\n",
    "        title3 = input(\"Name three favourite movies: \")\n",
    "        if title3 != \"Matrix\":\n",
    "            movies3.append(title3)\n",
    "        else:\n",
    "            print(\"We don't accept 'Matrix', name another\")\n",
    "    print(movies3)\n",
    "    return\n",
    "\n",
    "# call the newly defined function\n",
    "Movies2()"
   ]
  },
  {
   "cell_type": "markdown",
   "metadata": {},
   "source": [
    "<div class=\"alert alert-success\" role=\"alert\">\n",
    "<h3><em>Exercise 5</em></h3><br>\n",
    "<p>Write a user-defined function which takes proper names as user input and responds to user input in two ways. Every even user input receives \"Thanks, I like your name.\" and every odd user input gets the message \"Please repeat your name.\".</p></div>"
   ]
  },
  {
   "cell_type": "code",
   "execution_count": 29,
   "metadata": {},
   "outputs": [
    {
     "name": "stdout",
     "output_type": "stream",
     "text": [
      "What's your name? When finished, enter \"quit\" Sue\n",
      "Please repeat your name.\n",
      "What's your name? When finished, enter \"quit\" Sue\n",
      "Thanks, I like your name.\n",
      "What's your name? When finished, enter \"quit\" Avni\n",
      "Please repeat your name.\n",
      "What's your name? When finished, enter \"quit\" Avni\n",
      "Thanks, I like your name.\n",
      "What's your name? When finished, enter \"quit\" Rasa\n",
      "Please repeat your name.\n",
      "What's your name? When finished, enter \"quit\" Rasa\n",
      "Thanks, I like your name.\n",
      "What's your name? When finished, enter \"quit\" quit\n"
     ]
    }
   ],
   "source": [
    "# Solution to Exercise 5\n",
    "\n",
    "def Greeting2():\n",
    "    newname = \" \"\n",
    "    count = 0\n",
    "    while newname !=\"quit\":\n",
    "        count += 1\n",
    "        newname = input('''What's your name? When finished, enter \"quit\" ''')\n",
    "        if newname == \"quit\":\n",
    "            break  # this gives users a way to quit the program without submitting any data\n",
    "        elif count%2 == 1:\n",
    "            print(\"Please repeat your name.\")\n",
    "        elif count%2 == 0:\n",
    "            print(\"Thanks, I like your name.\")\n",
    "    return\n",
    "        \n",
    "# call the function created above in this code cell\n",
    "Greeting2()"
   ]
  }
 ],
 "metadata": {
  "kernelspec": {
   "display_name": "Python 3",
   "language": "python",
   "name": "python3"
  },
  "language_info": {
   "codemirror_mode": {
    "name": "ipython",
    "version": 3
   },
   "file_extension": ".py",
   "mimetype": "text/x-python",
   "name": "python",
   "nbconvert_exporter": "python",
   "pygments_lexer": "ipython3",
   "version": "3.7.3"
  }
 },
 "nbformat": 4,
 "nbformat_minor": 2
}
