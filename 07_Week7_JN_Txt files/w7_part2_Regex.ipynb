{
 "cells": [
  {
   "cell_type": "markdown",
   "metadata": {},
   "source": [
    "<div class=\"alert alert-block alert-info\"><br>\n",
    "    <h2>Week7_Part 2. Regular Expressions (Regexes)</h2> <br>\n",
    "    <p>A regular expression (Regex) is a special text string that combines letters, digits and special characters for describing a search pattern. In programming, regexes are useful to validate user input, e.g. to check whether a user submitted their email or phone number in the right format. In research, regexes can help us to find specific items in the ocean of unstructured data.</p><br>\n",
    "    <p>We'll need to use a built-in Python module <b>'re'</b> to match information in text files by Regex patterns.</p><br>\n",
    "    <p>Check the list of references at the bottom of this file. It will take you to case studies that applied regexes to find data crucial to anwer research questions or advance data analysis.</p>\n",
    "</div>"
   ]
  },
  {
   "cell_type": "markdown",
   "metadata": {},
   "source": [
    "<div class=\"alert alert-block alert-danger\">\n",
    "    <h3>Regex matches in one text file</h3>\n",
    "</div>"
   ]
  },
  {
   "cell_type": "code",
   "execution_count": 1,
   "metadata": {},
   "outputs": [],
   "source": [
    "# Open and read in 'Tyger.txt' file which should be in your directory. \n",
    "\n",
    "\n",
    "file = open('Tyger.txt', 'r')\n",
    "poem = file.read()\n",
    "print(poem)\n",
    "\n",
    "# We won't clean this poem this time. \n",
    "# We won't be looking for word counts, but for patterns, including those that combine function and content words."
   ]
  },
  {
   "cell_type": "code",
   "execution_count": 2,
   "metadata": {},
   "outputs": [
    {
     "name": "stdout",
     "output_type": "stream",
     "text": [
      "['burning bright', 'burning bright']\n"
     ]
    }
   ],
   "source": [
    "# We can use regular expressions to match and extract the recurring textual items, e.g. phrases, or collocations.\n",
    "# Import the re module which is equipped with regex matching tools.\n",
    "\n",
    "import re\n",
    "\n",
    "# Letter 'r' marks the regex pattern that needs to be matched in the text\n",
    "# The basic pattern may be a specific full word or phrase as below\n",
    "\n",
    "phrase1 = re.findall(r\"burning bright\",poem)\n",
    "\n",
    "print(phrase1)"
   ]
  },
  {
   "cell_type": "code",
   "execution_count": 3,
   "metadata": {},
   "outputs": [
    {
     "data": {
      "text/plain": [
       "['what distant',\n",
       " 'what wings',\n",
       " 'what shoulder',\n",
       " 'what art',\n",
       " 'what dread',\n",
       " 'what the',\n",
       " 'what furnace',\n",
       " 'what dread']"
      ]
     },
     "execution_count": 3,
     "metadata": {},
     "output_type": "execute_result"
    }
   ],
   "source": [
    "# You might have noticed with the naked eye that 'what' is rather repetitive in The Tyger.\n",
    "# Let's match the instances of this word and any other word that follows it: 'what' + any word\n",
    "\n",
    "# \\b marks the boundaries of the word(s) we want to match. \n",
    "# If we don't set the boundaries for 'what' on both sides, our regex might fetch 'whatever', 'whatsoever', etc.\n",
    "# \\w+ means find any word that goes after 'what'\n",
    "\n",
    "phrase2 = re.findall(r\"\\bwhat\\b \\w+\", poem)\n",
    "\n",
    "# Note that the regex syntax in Python follows slightly different rules than in the sandbox demoed in the video\n",
    "# Use whitespaces in the combination of patterns\n",
    "\n",
    "phrase2 # returns a list of strings"
   ]
  },
  {
   "cell_type": "code",
   "execution_count": 4,
   "metadata": {},
   "outputs": [
    {
     "data": {
      "text/plain": [
       "['what distant deeps',\n",
       " 'what wings dare',\n",
       " 'what dread feet',\n",
       " 'what the chain',\n",
       " 'what furnace was',\n",
       " 'what dread grasp']"
      ]
     },
     "execution_count": 4,
     "metadata": {},
     "output_type": "execute_result"
    }
   ],
   "source": [
    "# Find a match for 'what + word + word'\n",
    "\n",
    "phrase3 = re.findall(r\"\\bwhat\\b \\w+ \\w+\", poem)\n",
    "\n",
    "phrase3 "
   ]
  },
  {
   "cell_type": "code",
   "execution_count": 5,
   "metadata": {},
   "outputs": [
    {
     "data": {
      "text/plain": [
       "['forests of the', 'fire of thine', 'sinews of thy', 'forests of the']"
      ]
     },
     "execution_count": 5,
     "metadata": {},
     "output_type": "execute_result"
    }
   ],
   "source": [
    "# Search for patterns by prepositions might be rewarding in the analysis of poetry.\n",
    "# Patterns of function words are also important in forensic linguistics!\n",
    "# Let's explore what lexical words the preposition 'of' attracts in Blake's poem.\n",
    "\n",
    "phrase4 = re.findall(r\"\\w+ \\bof\\b \\w+\", poem)\n",
    "\n",
    "# As you learn, say out loud what the regex above matches.\n",
    "\n",
    "phrase4                "
   ]
  },
  {
   "cell_type": "code",
   "execution_count": 6,
   "metadata": {},
   "outputs": [
    {
     "data": {
      "text/plain": [
       "['bright', 'night', 'fire', 'aspire', 'fire', 'bright', 'night']"
      ]
     },
     "execution_count": 6,
     "metadata": {},
     "output_type": "execute_result"
    }
   ],
   "source": [
    "# We may write several regex patterns to find words that end in some rhyme.\n",
    "# Separate several regex patterns with the pipe symbol | to say 'find either this or that'\n",
    "# If you know what rhyme/ending you want to fetch use \\w+ for any word plus a particular ending, e.g. \\w+ight\n",
    "\n",
    "phrase5 = re.findall(r\"\\w+ight|\\w+ire\\b\", poem)\n",
    "\n",
    "\n",
    "phrase5"
   ]
  },
  {
   "cell_type": "code",
   "execution_count": 7,
   "metadata": {},
   "outputs": [],
   "source": [
    "# Finally, write out the extracted data to an external file with open().\n",
    "# Pass the name of a new file and the argument 'w' ('write') to the open() function.\n",
    "\n",
    "file = open('TygerPhrases.txt', 'w')\n",
    "\n",
    "file.write(str(phrase3)) # phrase3 is a list which needs to be converted to a string to save it in a .txt file\n",
    "\n",
    "file.close()\n",
    "\n",
    "# Check the newly written file in your JN file directory."
   ]
  },
  {
   "cell_type": "markdown",
   "metadata": {},
   "source": [
    "<div class=\"alert alert-block alert-danger\">\n",
    "    <h3>Regex matches in multiple text files</h3>\n",
    "</div>"
   ]
  },
  {
   "cell_type": "code",
   "execution_count": 8,
   "metadata": {},
   "outputs": [
    {
     "data": {
      "text/plain": [
       "['Tyger.txt', 'TheAngel.txt', 'EcchoingGreen.txt']"
      ]
     },
     "execution_count": 8,
     "metadata": {},
     "output_type": "execute_result"
    }
   ],
   "source": [
    "# Create a list with multiple .txt files\n",
    "\n",
    "filenames = [\"Tyger.txt\", \"TheAngel.txt\", \"EcchoingGreen.txt\"]\n",
    "\n",
    "filenames"
   ]
  },
  {
   "cell_type": "code",
   "execution_count": 9,
   "metadata": {},
   "outputs": [
    {
     "name": "stdout",
     "output_type": "stream",
     "text": [
      "[['bright', 'night', 'fire', 'aspire', 'fire', 'bright', 'night'], ['night', 'night', 'delight'], []]\n"
     ]
    }
   ],
   "source": [
    "# Loop through each text file in 'filenames' to 1) open each, 2) read each and 3) match the rhyme pattern as in [6]\n",
    "# Store the matched patterns in the empty list 'patterns'\n",
    "\n",
    "patterns = []\n",
    "\n",
    "for f in filenames:\n",
    "    a = open(f, \"r\")\n",
    "    b = a.read()\n",
    "    c = re.findall(r\"\\w+ight|\\w+ire\\b\", b) # the re module has been already imported\n",
    "    patterns.append(c) # append all frequency counts to one empty list \n",
    "\n",
    "\n",
    "print(patterns)\n",
    "\n",
    "# the patterns variable returns a list of 3 dimensions (or, 3 nested lists).\n",
    "# The last nested list contains no data since no words of such patterns were found."
   ]
  },
  {
   "cell_type": "markdown",
   "metadata": {},
   "source": [
    "<div style=\"background-color:#ccccff\">\n",
    "    <h3>Use of Regex in Research:</h3>  \n",
    "\n",
    "<ul> \n",
    "<li><a href=\"https://historicaltexts.jisc.ac.uk/help\">The guidelines for searching information, including the use of regexes, on the Historical Texts platform</a></li>\n",
    "<li><a href=\"https://essay.utwente.nl/73817/1/chenet_MA_EEMCS.pdf\">Paper on using regex in bibliographical research</a></li>\n",
    "<li><a href=\"https://www.ncbi.nlm.nih.gov/pmc/articles/PMC2656039/\">Paper on using regex in medical data</a></li>\n",
    "<li><a href=\"http://ceur-ws.org/Vol-1267/LD4IE2014_Petrovski.pdf\">Paper on using regex in e-commerce data</a></li>  \n",
    "</ul>\n",
    "<h3>Regex Tutorials:</h3><br>\n",
    "<ul>\n",
    "<li><a href=\"https://www.regular-expressions.info/quickstart.html\">Quick Start on Regex</a></li>\n",
    "<li><a href=\"https://regexr.com/\">Sandbox for Learning and Building with Regex</a></li>\n",
    "<li><a href=\"http://www.themacroscope.org/?page_id=643\">Big Data in History and Regex</a></li>  \n",
    "<li><a href=\"https://programminghistorian.org/en/lessons/understanding-regular-expressions\">Understanding Regular Expressions on The Programming Historian</a></li> \n",
    "</ul>\n",
    "\n",
    "</div>"
   ]
  }
 ],
 "metadata": {
  "kernelspec": {
   "display_name": "Python 3",
   "language": "python",
   "name": "python3"
  },
  "language_info": {
   "codemirror_mode": {
    "name": "ipython",
    "version": 3
   },
   "file_extension": ".py",
   "mimetype": "text/x-python",
   "name": "python",
   "nbconvert_exporter": "python",
   "pygments_lexer": "ipython3",
   "version": "3.7.3"
  }
 },
 "nbformat": 4,
 "nbformat_minor": 2
}
