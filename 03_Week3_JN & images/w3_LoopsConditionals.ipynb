{
 "cells": [
  {
   "cell_type": "markdown",
   "metadata": {},
   "source": [
    "<div class=\"alert alert-block alert-info\">\n",
    "<h3>Week 3. LOOPS, FLOW CONTROL AND CODE BLOCKS</h3><br>\n",
    "<p><i>Flow Control</i> is the order in which the code is executed. In Python, flow control is regulated by conditional statements, loops and function calls which are generically known as 'flow control statements'. These statements decide what to do based on options and whether certain conditions are met or not.</p><br>\n",
    "<p>Flow control statements involve more than one line of Python code. These lines need to be combined into blocks of code. The indentation of code lines tell us where the block of code begins and ends.</p>\n",
    "<br><br>\n",
    "</div>"
   ]
  },
  {
   "cell_type": "markdown",
   "metadata": {},
   "source": [
    "<div class=\"alert-alert-block alert-danger\">\n",
    "<h3>LOOPS</h3>\n",
    "<p>There are two major types of loops in Python: <i><b>for</b></i> loops and <i><b>while</b></i> loops.</p>\n",
    "<p>Use <i><b>while</b></i> loop when you do not know how many times loop needs to be executed beforehand.</p>\n",
    "<p> Use <i><b>for</b></i> loop if you know about the number of times loop needs to be executed.</p>\n",
    "</div>"
   ]
  },
  {
   "attachments": {
    "image.png": {
     "image/png": "[encoded data removed]"
    }
   },
   "cell_type": "markdown",
   "metadata": {},
   "source": [
    "\n",
    "![image.png](attachment:image.png)"
   ]
  },
  {
   "cell_type": "code",
   "execution_count": 1,
   "metadata": {},
   "outputs": [],
   "source": [
    "# while loops should run on conditional thinking.\n",
    "# The code below does not have a condition specified. Remove the comment sign # and run the code to see what happens.\n",
    "\n",
    "# while True:\n",
    "    # print(\"When will it end?\")\n",
    "\n",
    "# Because the code block does not have any condition set, it will run forever."
   ]
  },
  {
   "cell_type": "code",
   "execution_count": 2,
   "metadata": {},
   "outputs": [],
   "source": [
    "# Loops appear in code blocks consisting of more than one code line\n",
    "# Python relies on indentation to define the scope of a code block.\n",
    "\n",
    "# Endless loops have some practical applications but we will deal with finite while loops in this class.\n",
    "# To escape an endless loop, we need to set some conditions in the main statement\n",
    "# When those conditions are met inside the loop, the loop will stop running\n",
    "\n",
    "a = 1\n",
    "\n",
    "while a < 20:\n",
    "    print(a)\n",
    "    a = a + 2 \n",
    "    \n",
    "# a+2 tells the loop to keep increasing the value of 'a' by 2 \n",
    "# alternatively, a += 2\n",
    "# you can increment by multiplying as well with *\n"
   ]
  },
  {
   "cell_type": "code",
   "execution_count": 3,
   "metadata": {},
   "outputs": [],
   "source": [
    "# To instruct Python to repeat a certain operation n times, set the range in for-loops with the range() function.\n",
    "# If you do not specify anythin else, the code below will return a sequence of numbers\n",
    "\n",
    "for x in range(5):\n",
    "    print(x)\n",
    "\n",
    "# The range will always default to 0, unless you specify the starting point"
   ]
  },
  {
   "cell_type": "code",
   "execution_count": 4,
   "metadata": {},
   "outputs": [],
   "source": [
    "# specify the starting point\n",
    "\n",
    "for x in range(1, 5):\n",
    "    print(x)\n"
   ]
  },
  {
   "cell_type": "code",
   "execution_count": 5,
   "metadata": {},
   "outputs": [],
   "source": [
    "# you can also indicate the third value to tell at what value to increment the sequence\n",
    "\n",
    "for x in range(1, 10, 3):\n",
    "    print(x)"
   ]
  },
  {
   "cell_type": "code",
   "execution_count": 6,
   "metadata": {},
   "outputs": [],
   "source": [
    "# You can set the number of times to repeat strings with the range() function.\n",
    "\n",
    "for x in range(5):\n",
    "    print('Thank you')\n"
   ]
  },
  {
   "cell_type": "code",
   "execution_count": 7,
   "metadata": {},
   "outputs": [],
   "source": [
    "# Loop over the string\n",
    "\n",
    "greeting = \"Hello\"\n",
    "\n",
    "for x in greeting:\n",
    "    print(x)"
   ]
  },
  {
   "cell_type": "code",
   "execution_count": 8,
   "metadata": {},
   "outputs": [],
   "source": [
    "# Indentation defines what belongs to the scope of loops:\n",
    "\n",
    "greeting = \"Hello\"\n",
    "\n",
    "for x in greeting:\n",
    "    print(x)\n",
    "print(\"That's it\")"
   ]
  },
  {
   "cell_type": "code",
   "execution_count": 9,
   "metadata": {},
   "outputs": [],
   "source": [
    "# Loop over the string's indexes\n",
    "\n",
    "\n",
    "for i in range(len(greeting)):\n",
    "    print(greeting[i])\n"
   ]
  },
  {
   "cell_type": "markdown",
   "metadata": {},
   "source": [
    "<div class=\"alert-alert-bock alert-danger\">\n",
    "    <h3>CONDITIONALS</h3>\n",
    "    <p></p>\n",
    "    <p></p>\n",
    "    <p></p>   \n",
    "</div>"
   ]
  },
  {
   "cell_type": "code",
   "execution_count": 10,
   "metadata": {},
   "outputs": [
    {
     "name": "stdout",
     "output_type": "stream",
     "text": [
      "Hi, Gabriele, you have a new message!\n"
     ]
    }
   ],
   "source": [
    "# Let's write a basic code block to check whether something is true.\n",
    "# Will start with the if statement.\n",
    "\n",
    "name = 'Gabriele'\n",
    "\n",
    "if name == 'Gabriele':\n",
    "    print('Hi, Gabriele, you have a new message!')\n",
    "\n",
    "# Pay attention to indentation (space before the print function). Lines need to be indented after conditional & loop statements.\n",
    "# In Python, indentation helps structure code blocks. Wrongly indented lines in code blocks will yield error."
   ]
  },
  {
   "cell_type": "code",
   "execution_count": 11,
   "metadata": {
    "tags": [
     "raises-exception"
    ]
   },
   "outputs": [
    {
     "name": "stdout",
     "output_type": "stream",
     "text": [
      "Enter your name: Jose\n",
      "Hi, Jose\n"
     ]
    }
   ],
   "source": [
    "# Let's see how we can make our code interactive by allowing someone else to modify, for example, our list.\n",
    "# The input() function allows others submit their input.\n",
    "\n",
    "x = input(\"Enter your name: \")\n",
    "\n",
    "if x == x:\n",
    "    print(\"Hi, \" + x)\n",
    "\n",
    "\n",
    "# OVER TO YOU: how else can you insert variables into the string content?"
   ]
  },
  {
   "cell_type": "code",
   "execution_count": 12,
   "metadata": {},
   "outputs": [],
   "source": [
    "# OVER TO YOU: the given code line allows a user input their numbers.\n",
    "\n",
    "# Write the code block that 1) accepts the negative whole number and 2) returns the positive whole number \n",
    "\n",
    "# x = int(input())\n"
   ]
  },
  {
   "cell_type": "code",
   "execution_count": 13,
   "metadata": {},
   "outputs": [
    {
     "name": "stdout",
     "output_type": "stream",
     "text": [
      "Hi, Claus, you have a new message!\n"
     ]
    }
   ],
   "source": [
    "# Let's introduce more conditions to give a machine a choice by adding the else statements after the if-statement.\n",
    "# The machine will execute the else-statement if the if-statement is False.\n",
    "\n",
    "\n",
    "name = 'Claus'\n",
    "\n",
    "if name == 'Claus':\n",
    "    print('Hi, Claus, you have a new message!')\n",
    "else:\n",
    "    print('Go away, intruder!')\n",
    "\n",
    "\n",
    "# Again, pay attention to indentation in the code block above. The code block here consists of 4 code lines."
   ]
  },
  {
   "cell_type": "markdown",
   "metadata": {},
   "source": [
    "<div class=\"alert-alert-bock alert-danger\">\n",
    "    <h3>CONDITIONALS AND LOOPS COMBINED</h3>\n",
    "</div>"
   ]
  },
  {
   "cell_type": "code",
   "execution_count": 14,
   "metadata": {},
   "outputs": [
    {
     "name": "stdout",
     "output_type": "stream",
     "text": [
      "1\n",
      "2\n"
     ]
    }
   ],
   "source": [
    "# to break out from a loop, use the break statement\n",
    "\n",
    "for i in range(1,10):\n",
    "    if i == 3:\n",
    "        break\n",
    "    print(i)"
   ]
  },
  {
   "cell_type": "code",
   "execution_count": 15,
   "metadata": {},
   "outputs": [
    {
     "name": "stdout",
     "output_type": "stream",
     "text": [
      "1\n",
      "2\n",
      "4\n",
      "5\n",
      "6\n",
      "7\n",
      "8\n",
      "9\n"
     ]
    }
   ],
   "source": [
    "# The continue statement tells Python to skip the rest of the statements in the current loop block and to continue to the next iteration of the loop.\n",
    "\n",
    "for i in range(1,10):\n",
    "    if i == 3:\n",
    "        continue\n",
    "    print(i)"
   ]
  },
  {
   "cell_type": "code",
   "execution_count": 16,
   "metadata": {},
   "outputs": [
    {
     "name": "stdout",
     "output_type": "stream",
     "text": [
      "Start typing...Hello\n",
      "Your answer was Hello\n",
      "Start typing...I'd like to ask you\n",
      "Your answer was I'd like to ask you\n",
      "Start typing...Never mind\n",
      "Your answer was Never mind\n",
      "Start typing...quit\n"
     ]
    }
   ],
   "source": [
    "# endless loops can be interrupted by using conditionals and the break statement\n",
    "\n",
    "while True:\n",
    "    answer = input(\"Start typing...\")\n",
    "    if answer == \"quit\":\n",
    "        break\n",
    "    print(\"Your answer was\", answer)"
   ]
  },
  {
   "cell_type": "code",
   "execution_count": 17,
   "metadata": {},
   "outputs": [
    {
     "name": "stdout",
     "output_type": "stream",
     "text": [
      "You failed\n",
      "You passed\n",
      "You failed\n"
     ]
    }
   ],
   "source": [
    "x, y, z = (0, 1, 0)\n",
    "\n",
    "for person in (x, y, z):\n",
    "    if person == 1:\n",
    "        print(\"You passed\")\n",
    "    else:\n",
    "        print(\"You failed\")\n",
    "    "
   ]
  },
  {
   "cell_type": "code",
   "execution_count": 18,
   "metadata": {
    "tags": [
     "raises-exception"
    ]
   },
   "outputs": [
    {
     "name": "stdout",
     "output_type": "stream",
     "text": [
      "Enter your name: Ugne\n",
      "Hi, Ugne, you do not have any new messages but you can stay!\n"
     ]
    }
   ],
   "source": [
    "# Allow some user input and design multiple conditions with the elif-statements to accept & respond to that input.\n",
    "\n",
    "name = input(\"Enter your name: \")\n",
    "\n",
    "if name == 'Chenlu':\n",
    "    print('Hi, Chenlu, you have a new message!')\n",
    "elif name == 'Ugne':\n",
    "    print('Hi, Ugne, you do not have any new messages but you can stay!')\n",
    "elif name == 'Tom':\n",
    "    print('Hi, Tom, you can also stay!')\n",
    "else:\n",
    "    print('Go away, intruder!')"
   ]
  },
  {
   "cell_type": "code",
   "execution_count": 19,
   "metadata": {},
   "outputs": [
    {
     "name": "stdout",
     "output_type": "stream",
     "text": [
      "Whom else do you know?: Tom\n",
      "['Sam', 'Liz', 'Rose', 'Tom']\n"
     ]
    }
   ],
   "source": [
    "# use the append() method to allow editing lists\n",
    "# input() always returns strings. If you want it to return an integer instead, use int(input('How old are you?'))\n",
    "\n",
    "names =['Sam', 'Liz', 'Rose'] # this is a list of three items\n",
    "newname = input('Whom else do you know?: ')\n",
    "\n",
    "names.append(newname)\n",
    "\n",
    "print(names)"
   ]
  },
  {
   "cell_type": "code",
   "execution_count": 20,
   "metadata": {
    "tags": [
     "use-in-week4"
    ]
   },
   "outputs": [
    {
     "name": "stdout",
     "output_type": "stream",
     "text": [
      "Whom else do you know? If none, enter \"quit\" Jose\n",
      "Whom else do you know? If none, enter \"quit\" Rasa\n",
      "Whom else do you know? If none, enter \"quit\" Chenlu\n",
      "Whom else do you know? If none, enter \"quit\" Tom\n",
      "Whom else do you know? If none, enter \"quit\" nobody\n",
      "Whom else do you know? If none, enter \"quit\" quit\n"
     ]
    }
   ],
   "source": [
    "# The above code offers limited interaction. \n",
    "# If we want to allow a user to decide when it ends, we need loops and conditionals.\n",
    "\n",
    "# Start with an empty list:\n",
    "\n",
    "names =[]\n",
    "\n",
    "# And declare an empty string. We'll specify the condition that the empty strings value should not be ‘quit’:\n",
    "\n",
    "newname = '' \n",
    "\n",
    "while newname !='quit':\n",
    "    newname = input('Whom else do you know? If none, enter \"quit\" ')\n",
    "    if newname != 'quit': \n",
    "        names.append(newname)\n"
   ]
  },
  {
   "cell_type": "code",
   "execution_count": 21,
   "metadata": {},
   "outputs": [
    {
     "data": {
      "text/plain": [
       "['Jose', 'Rasa', 'Chenlu', 'Tom', 'nobody']"
      ]
     },
     "execution_count": 21,
     "metadata": {},
     "output_type": "execute_result"
    }
   ],
   "source": [
    "# Now print out the variable 'names' to see what values where collected in code line above.\n",
    "\n",
    "names\n",
    "\n",
    "# OVER TO YOU: write a program that collects user input as in the code above but:\n",
    "# The input prompt should ask users \"What's your name? If not interested, enter \"quit\"\"\n",
    "# and it should print the output that says the below depending on the names input:\n",
    "\n",
    "#  Hello, Jose! How can I help you?\n",
    "#  Hello, Rasa! How can I help you?"
   ]
  },
  {
   "cell_type": "markdown",
   "metadata": {},
   "source": [
    "<div style=\"background-color:#ccccff\">\n",
    "<br><h2>CONTINUE LEARNING: CHATBOTS IN CULTURAL INDUSTRY</h2>\n",
    "<p>Alan Turing's seminal paper <a href=\"https://www.csee.umbc.edu/courses/471/papers/turing.pdf\" target=\"_blank\">'Computing Machinery and Intelligence'</a> (1950) entertains the question whether machines can think. The Turing Test involves a human interrogator speaking to a number of computers and humans through an interface. The Turing Test is considered to have been passed if the human speaker cannot distinguish between the computers and the humans. The movie that explores Turing's overarching question by blurring the lines between humanity and programming is <a href=\"https://www.imdb.com/title/tt0470752/\" target=\"_blank\"><i>Ex Machina</i></a> (2014).</p><br>\n",
    "<p>A number of museums use chatbots and AI to engage audiences:<p> \n",
    "<ul>\n",
    "<li><a href=\"https://www.hnf.de/en/home.html\" target=\"_blank\">The Heinz Nixdorf MuseumsForum</a>, the world's largest computer museum, in Paderborn Germany launched MAX in 2004 to act as a virtual museum guide.</li>\n",
    "<li><a href=\"https://www.cooperhewitt.org/\" target=\"_blank\">The Cooper-Hewitt Smithsonian Design Museum in New York</a> introduced Object Phone which is a service that visitors can access by texting or calling to get more information about the museum. In 2016 Object Phone became a <a href=\"http://objectphone.cooperhewitt.org/\" target=\"_blank\">subscription service</a>.</li>\n",
    "<li><a href=\"http://www.artmuseum.by/eng\" target=\"_blank\">The National Art Museum of the Republic of Belarus</a> also launched the <a href=\"https://chatfuel.com/bot/The-National-Art-Museum-of-the-Republic-of-Belarus-1904070043163955\" target=\"_blank\">Facebook Messenger chatbot</a> in 2017 to equip visitors with an interactive digital guide.</li>\n",
    "<li><a href=\"https://casemuseo.it/en/\" target=\"_blank\">The House Museums of Milan</a> use gamification in chatbot applications, which is not a widespread practice in museums yet.<a href=\"https://www.invisiblestudio.net/portfolio\">The House Museums Chatbot</a> based on the Facebook Messenger draws users into a gaming activity of fighting a mysterious Renaissance magician (based on a real historical figure). The game makes users, mainly teenagers, engage further with the museum through conversation, observation, and exploration.The conference paper <a href=\"https://www.museumsandtheweb.com/mw2003/papers/gaia/gaia.html\" target=\"_blank\"> 'Make Your Museum Talk: Natural Language Interfaces For Cultural Institutions'</a> provides more details on the museum's case.</li>\n",
    "<li>There is a growing trend to build museum archive bots for Twitter. The <a href=\"https://twitter.com/museumbot?lang=en\" target=\"_blank\">Museumbot</a>, for example, pulls open access images from a number of archives such as the Metropolitan Museum of Art.</li>\n",
    "</ul><br>\n",
    "\n",
    "</div>"
   ]
  },
  {
   "cell_type": "markdown",
   "metadata": {},
   "source": [
    "<div class=\"alert alert-block alert-success\">\n",
    "<h2>Homework 3</h2><br> \n",
    "<p>To consolidate the above do some practice on your own.</p>\n",
    "<p>Follow the tasks below and submit the completed Jupyter Notebook as 'homework3.ipynb' via the designated area called 'Homework 3' under Week 3 on KEATS by 4pm on <b>26th October 2020</b>.</p><br>\n",
    "</div>"
   ]
  },
  {
   "cell_type": "markdown",
   "metadata": {},
   "source": [
    "<div class=\"alert alert-success\" role=\"alert\">\n",
    "<h3><em>Exercise 1</em></h3><br>\n",
    "<p>Write a loop that iterates all the characters in the string \"This is a sentence\" and prints out each character and ends up with a newline saying \"No more letters in this string\" </p>\n",
    "\n",
    "<img src=\"noLetters.JPG\">\n",
    "\n",
    "</div>"
   ]
  },
  {
   "cell_type": "markdown",
   "metadata": {},
   "source": [
    "<div class=\"alert alert-success\" role=\"alert\">\n",
    "<h3><em>Exercise 2</em></h3><br>\n",
    "<p>Write a loop that iterates all the characters in the string \"This is a sentence\" and prints out each character with the string \"is a letter\" or \"is a whitespace\" depending on whether it's a letter or a whitespace. </p>\n",
    "    \n",
    "<img src=\"LetterWhitespace.JPG\">\n",
    "</div>"
   ]
  },
  {
   "cell_type": "markdown",
   "metadata": {},
   "source": [
    "<div class=\"alert alert-success\" role=\"alert\">\n",
    "<h3><em>Exercise 3</em></h3><br>\n",
    "<p>Write a loop that iterates the last 6 characters of the string \"When is the party?\". </p>\n",
    "<p>You should be getting the result as shown in the image below, including the question mark. This slicing method was not shown in our previous class so you will need to dig around to get the anwer right.</p>\n",
    "    <img src=\"party.JPG\">\n",
    "</div>"
   ]
  },
  {
   "cell_type": "markdown",
   "metadata": {
    "collapsed": true
   },
   "source": [
    "<div class=\"alert alert-success\" role=\"alert\">\n",
    "<h3><em>Exercise 4</em></h3><br>\n",
    "   <p>Draw a hexagon, as shown in the image below, with turtle and using loops.</p> \n",
    "<p>You may want first to draw a shape and write a step-by-step program and then write another one with loops.</p>\n",
    "    <img src=\"hexagon.JPG\">\n",
    "</div>"
   ]
  },
  {
   "cell_type": "markdown",
   "metadata": {},
   "source": [
    "<div class=\"alert alert-success\" role=\"alert\">\n",
    "<h3><em>Exercise 5</em></h3>\n",
    "<p>Write a turtle program to create the shape as in the image below.</p>\n",
    "<img src=\"twoCircles.JPG\">\n",
    "</div>"
   ]
  },
  {
   "cell_type": "code",
   "execution_count": null,
   "metadata": {},
   "outputs": [],
   "source": []
  }
 ],
 "metadata": {
  "kernelspec": {
   "display_name": "Python 3",
   "language": "python",
   "name": "python3"
  },
  "language_info": {
   "codemirror_mode": {
    "name": "ipython",
    "version": 3
   },
   "file_extension": ".py",
   "mimetype": "text/x-python",
   "name": "python",
   "nbconvert_exporter": "python",
   "pygments_lexer": "ipython3",
   "version": "3.7.3"
  }
 },
 "nbformat": 4,
 "nbformat_minor": 2
}
