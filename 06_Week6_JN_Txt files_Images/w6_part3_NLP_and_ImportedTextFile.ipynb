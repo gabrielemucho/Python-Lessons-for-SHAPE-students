{
 "cells": [
  {
   "cell_type": "markdown",
   "metadata": {},
   "source": [
    "<div class=\"alert alert-block alert-info\">\n",
    "<h2>Week 6_Part3. NLP and Imported Text Files</h2><br><br>\n",
    "    <p>We will repeat many techniques demonstrated in Part 2. In addition, we'll learn how to lemmatize textual data, which is one more important step in text cleaning and processing.</p>\n",
    "</div>"
   ]
  },
  {
   "cell_type": "markdown",
   "metadata": {},
   "source": [
    "<div class=\"alert alert-block alert-danger\">\n",
    "    <h3>Import NLTK sub-libraries</h3>\n",
    "</div>"
   ]
  },
  {
   "cell_type": "code",
   "execution_count": 1,
   "metadata": {},
   "outputs": [],
   "source": [
    "# With the import statement bring the nltk package into the working environment of Python.\n",
    "\n",
    "import nltk\n",
    "#nltk.download() #if you did it previously on the same computer, you do not need to run it\n"
   ]
  },
  {
   "cell_type": "markdown",
   "metadata": {},
   "source": [
    "<div class=\"alert alert-block alert-danger\">\n",
    "    <h3>Import a .txt file</h3>\n",
    "       \n",
    "<p> </p>\n",
    "\n",
    "</div>"
   ]
  },
  {
   "cell_type": "code",
   "execution_count": 2,
   "metadata": {},
   "outputs": [
    {
     "name": "stdout",
     "output_type": "stream",
     "text": [
      "\n",
      "Blackberrying\n",
      "By Sylvia Plath\n",
      "Nobody in the lane, and nothing, nothing but blackberries,   \n",
      "Blackberries on either side, though on the right mainly,\n",
      "A blackberry alley, going down in hooks, and a sea\n",
      "Somewhere at the end of it, heaving. Blackberries\n",
      "Big as the ball of my thumb, and dumb as eyes\n",
      "Ebon in the hedges, fat\n",
      "With blue-red juices. These they squander on my fingers.\n",
      "I had not asked for such a blood sisterhood; they must love me.\n",
      "They accommodate themselves to my milkbottle, flattening their sides.\n",
      "\n",
      "Overhead go the choughs in black, cacophonous flocks—\n",
      "Bits of burnt paper wheeling in a blown sky.\n",
      "Theirs is the only voice, protesting, protesting.\n",
      "I do not think the sea will appear at all.\n",
      "The high, green meadows are glowing, as if lit from within.\n",
      "I come to one bush of berries so ripe it is a bush of flies,\n",
      "Hanging their bluegreen bellies and their wing panes in a Chinese screen.\n",
      "The honey-feast of the berries has stunned them; they believe in heaven.   \n",
      "One more hook, and the berries and bushes end.\n",
      "\n",
      "The only thing to come now is the sea.\n",
      "From between two hills a sudden wind funnels at me,   \n",
      "Slapping its phantom laundry in my face.\n",
      "These hills are too green and sweet to have tasted salt.\n",
      "I follow the sheep path between them. A last hook brings me   \n",
      "To the hills’ northern face, and the face is orange rock   \n",
      "That looks out on nothing, nothing but a great space   \n",
      "Of white and pewter lights, and a din like silversmiths   \n",
      "Beating and beating at an intractable metal.\n",
      "\n",
      "\n"
     ]
    }
   ],
   "source": [
    "# Read in a .txt file into your coding environment. \n",
    "# The file should be saved in the JN directory first.\n",
    "\n",
    "poem = open('Blackberrying.txt', 'r') # argument 'r' specifies the mode of reading\n",
    "# if you want to write a file, pass the argument 'w' for the mode of writing\n",
    "\n",
    "BlackBerry = poem.read()\n",
    "\n",
    "print(BlackBerry)"
   ]
  },
  {
   "cell_type": "code",
   "execution_count": 3,
   "metadata": {},
   "outputs": [
    {
     "data": {
      "text/plain": [
       "str"
      ]
     },
     "execution_count": 3,
     "metadata": {},
     "output_type": "execute_result"
    }
   ],
   "source": [
    "# Note that .txt files will be read as strings into your coding environment\n",
    "\n",
    "type(BlackBerry)"
   ]
  },
  {
   "cell_type": "markdown",
   "metadata": {},
   "source": [
    "<div class=\"alert alert-block alert-danger\">\n",
    "    <h3>Convert to lowercases</h3>\n",
    "</div>"
   ]
  },
  {
   "cell_type": "code",
   "execution_count": 4,
   "metadata": {},
   "outputs": [
    {
     "name": "stdout",
     "output_type": "stream",
     "text": [
      "\n",
      "blackberrying\n",
      "by sylvia plath\n",
      "nobody in the lane, and nothing, nothing but blackberries,   \n",
      "blackberries on either side, though on the right mainly,\n",
      "a blackberry alley, going down in hooks, and a sea\n",
      "somewhere at the end of it, heaving. blackberries\n",
      "big as the ball of my thumb, and dumb as eyes\n",
      "ebon in the hedges, fat\n",
      "with blue-red juices. these they squander on my fingers.\n",
      "i had not asked for such a blood sisterhood; they must love me.\n",
      "they accommodate themselves to my milkbottle, flattening their sides.\n",
      "\n",
      "overhead go the choughs in black, cacophonous flocks—\n",
      "bits of burnt paper wheeling in a blown sky.\n",
      "theirs is the only voice, protesting, protesting.\n",
      "i do not think the sea will appear at all.\n",
      "the high, green meadows are glowing, as if lit from within.\n",
      "i come to one bush of berries so ripe it is a bush of flies,\n",
      "hanging their bluegreen bellies and their wing panes in a chinese screen.\n",
      "the honey-feast of the berries has stunned them; they believe in heaven.   \n",
      "one more hook, and the berries and bushes end.\n",
      "\n",
      "the only thing to come now is the sea.\n",
      "from between two hills a sudden wind funnels at me,   \n",
      "slapping its phantom laundry in my face.\n",
      "these hills are too green and sweet to have tasted salt.\n",
      "i follow the sheep path between them. a last hook brings me   \n",
      "to the hills’ northern face, and the face is orange rock   \n",
      "that looks out on nothing, nothing but a great space   \n",
      "of white and pewter lights, and a din like silversmiths   \n",
      "beating and beating at an intractable metal.\n",
      "\n",
      "\n"
     ]
    }
   ],
   "source": [
    "# Let's turn all the text to lower cases\n",
    "\n",
    "PoemLow = BlackBerry.lower()\n",
    "\n",
    "print(PoemLow)"
   ]
  },
  {
   "cell_type": "code",
   "execution_count": 5,
   "metadata": {},
   "outputs": [],
   "source": [
    "# Since the whole poem is one long string, we can query it by characters\n",
    "# Note that even whitespaces and punctuation are characters\n",
    "\n",
    "# Yet, if we want to count word frequencies in such a string, we need to tokenize it\n",
    "# In other words, we need to break a string into a list of many strings\n",
    "# where each string will be an item surrounded by whitespaces"
   ]
  },
  {
   "cell_type": "markdown",
   "metadata": {},
   "source": [
    "<div class=\"alert alert-block alert-danger\">\n",
    "    <h3>Tokenize</h3>\n",
    "       \n",
    "<p> </p>\n",
    "\n",
    "</div>"
   ]
  },
  {
   "cell_type": "code",
   "execution_count": 6,
   "metadata": {},
   "outputs": [
    {
     "data": {
      "text/plain": [
       "['blackberrying',\n",
       " 'by',\n",
       " 'sylvia',\n",
       " 'plath',\n",
       " 'nobody',\n",
       " 'in',\n",
       " 'the',\n",
       " 'lane',\n",
       " ',',\n",
       " 'and',\n",
       " 'nothing',\n",
       " ',',\n",
       " 'nothing',\n",
       " 'but',\n",
       " 'blackberries',\n",
       " ',',\n",
       " 'blackberries',\n",
       " 'on',\n",
       " 'either',\n",
       " 'side',\n",
       " ',',\n",
       " 'though',\n",
       " 'on',\n",
       " 'the',\n",
       " 'right',\n",
       " 'mainly',\n",
       " ',',\n",
       " 'a',\n",
       " 'blackberry',\n",
       " 'alley',\n",
       " ',',\n",
       " 'going',\n",
       " 'down',\n",
       " 'in',\n",
       " 'hooks',\n",
       " ',',\n",
       " 'and',\n",
       " 'a',\n",
       " 'sea',\n",
       " 'somewhere',\n",
       " 'at',\n",
       " 'the',\n",
       " 'end',\n",
       " 'of',\n",
       " 'it',\n",
       " ',',\n",
       " 'heaving',\n",
       " '.',\n",
       " 'blackberries',\n",
       " 'big',\n",
       " 'as',\n",
       " 'the',\n",
       " 'ball',\n",
       " 'of',\n",
       " 'my',\n",
       " 'thumb',\n",
       " ',',\n",
       " 'and',\n",
       " 'dumb',\n",
       " 'as',\n",
       " 'eyes',\n",
       " 'ebon',\n",
       " 'in',\n",
       " 'the',\n",
       " 'hedges',\n",
       " ',',\n",
       " 'fat',\n",
       " 'with',\n",
       " 'blue-red',\n",
       " 'juices',\n",
       " '.',\n",
       " 'these',\n",
       " 'they',\n",
       " 'squander',\n",
       " 'on',\n",
       " 'my',\n",
       " 'fingers',\n",
       " '.',\n",
       " 'i',\n",
       " 'had',\n",
       " 'not',\n",
       " 'asked',\n",
       " 'for',\n",
       " 'such',\n",
       " 'a',\n",
       " 'blood',\n",
       " 'sisterhood',\n",
       " ';',\n",
       " 'they',\n",
       " 'must',\n",
       " 'love',\n",
       " 'me',\n",
       " '.',\n",
       " 'they',\n",
       " 'accommodate',\n",
       " 'themselves',\n",
       " 'to',\n",
       " 'my',\n",
       " 'milkbottle',\n",
       " ',',\n",
       " 'flattening',\n",
       " 'their',\n",
       " 'sides',\n",
       " '.',\n",
       " 'overhead',\n",
       " 'go',\n",
       " 'the',\n",
       " 'choughs',\n",
       " 'in',\n",
       " 'black',\n",
       " ',',\n",
       " 'cacophonous',\n",
       " 'flocks—',\n",
       " 'bits',\n",
       " 'of',\n",
       " 'burnt',\n",
       " 'paper',\n",
       " 'wheeling',\n",
       " 'in',\n",
       " 'a',\n",
       " 'blown',\n",
       " 'sky',\n",
       " '.',\n",
       " 'theirs',\n",
       " 'is',\n",
       " 'the',\n",
       " 'only',\n",
       " 'voice',\n",
       " ',',\n",
       " 'protesting',\n",
       " ',',\n",
       " 'protesting',\n",
       " '.',\n",
       " 'i',\n",
       " 'do',\n",
       " 'not',\n",
       " 'think',\n",
       " 'the',\n",
       " 'sea',\n",
       " 'will',\n",
       " 'appear',\n",
       " 'at',\n",
       " 'all',\n",
       " '.',\n",
       " 'the',\n",
       " 'high',\n",
       " ',',\n",
       " 'green',\n",
       " 'meadows',\n",
       " 'are',\n",
       " 'glowing',\n",
       " ',',\n",
       " 'as',\n",
       " 'if',\n",
       " 'lit',\n",
       " 'from',\n",
       " 'within',\n",
       " '.',\n",
       " 'i',\n",
       " 'come',\n",
       " 'to',\n",
       " 'one',\n",
       " 'bush',\n",
       " 'of',\n",
       " 'berries',\n",
       " 'so',\n",
       " 'ripe',\n",
       " 'it',\n",
       " 'is',\n",
       " 'a',\n",
       " 'bush',\n",
       " 'of',\n",
       " 'flies',\n",
       " ',',\n",
       " 'hanging',\n",
       " 'their',\n",
       " 'bluegreen',\n",
       " 'bellies',\n",
       " 'and',\n",
       " 'their',\n",
       " 'wing',\n",
       " 'panes',\n",
       " 'in',\n",
       " 'a',\n",
       " 'chinese',\n",
       " 'screen',\n",
       " '.',\n",
       " 'the',\n",
       " 'honey-feast',\n",
       " 'of',\n",
       " 'the',\n",
       " 'berries',\n",
       " 'has',\n",
       " 'stunned',\n",
       " 'them',\n",
       " ';',\n",
       " 'they',\n",
       " 'believe',\n",
       " 'in',\n",
       " 'heaven',\n",
       " '.',\n",
       " 'one',\n",
       " 'more',\n",
       " 'hook',\n",
       " ',',\n",
       " 'and',\n",
       " 'the',\n",
       " 'berries',\n",
       " 'and',\n",
       " 'bushes',\n",
       " 'end',\n",
       " '.',\n",
       " 'the',\n",
       " 'only',\n",
       " 'thing',\n",
       " 'to',\n",
       " 'come',\n",
       " 'now',\n",
       " 'is',\n",
       " 'the',\n",
       " 'sea',\n",
       " '.',\n",
       " 'from',\n",
       " 'between',\n",
       " 'two',\n",
       " 'hills',\n",
       " 'a',\n",
       " 'sudden',\n",
       " 'wind',\n",
       " 'funnels',\n",
       " 'at',\n",
       " 'me',\n",
       " ',',\n",
       " 'slapping',\n",
       " 'its',\n",
       " 'phantom',\n",
       " 'laundry',\n",
       " 'in',\n",
       " 'my',\n",
       " 'face',\n",
       " '.',\n",
       " 'these',\n",
       " 'hills',\n",
       " 'are',\n",
       " 'too',\n",
       " 'green',\n",
       " 'and',\n",
       " 'sweet',\n",
       " 'to',\n",
       " 'have',\n",
       " 'tasted',\n",
       " 'salt',\n",
       " '.',\n",
       " 'i',\n",
       " 'follow',\n",
       " 'the',\n",
       " 'sheep',\n",
       " 'path',\n",
       " 'between',\n",
       " 'them',\n",
       " '.',\n",
       " 'a',\n",
       " 'last',\n",
       " 'hook',\n",
       " 'brings',\n",
       " 'me',\n",
       " 'to',\n",
       " 'the',\n",
       " 'hills',\n",
       " '’',\n",
       " 'northern',\n",
       " 'face',\n",
       " ',',\n",
       " 'and',\n",
       " 'the',\n",
       " 'face',\n",
       " 'is',\n",
       " 'orange',\n",
       " 'rock',\n",
       " 'that',\n",
       " 'looks',\n",
       " 'out',\n",
       " 'on',\n",
       " 'nothing',\n",
       " ',',\n",
       " 'nothing',\n",
       " 'but',\n",
       " 'a',\n",
       " 'great',\n",
       " 'space',\n",
       " 'of',\n",
       " 'white',\n",
       " 'and',\n",
       " 'pewter',\n",
       " 'lights',\n",
       " ',',\n",
       " 'and',\n",
       " 'a',\n",
       " 'din',\n",
       " 'like',\n",
       " 'silversmiths',\n",
       " 'beating',\n",
       " 'and',\n",
       " 'beating',\n",
       " 'at',\n",
       " 'an',\n",
       " 'intractable',\n",
       " 'metal',\n",
       " '.']"
      ]
     },
     "execution_count": 6,
     "metadata": {},
     "output_type": "execute_result"
    }
   ],
   "source": [
    "# Tokenize the poem or, in other words, break the poem string into a list of word strings.\n",
    "\n",
    "PoemTok = nltk.word_tokenize(PoemLow)\n",
    "PoemTok\n",
    "\n",
    "# If we do not tokenize a text, we won't be able to count the frequencies of words"
   ]
  },
  {
   "cell_type": "markdown",
   "metadata": {},
   "source": [
    "<div class=\"alert alert-block alert-danger\">\n",
    "    <h3>Lemmatize</h3>\n",
    "       \n",
    "</div>"
   ]
  },
  {
   "cell_type": "code",
   "execution_count": 7,
   "metadata": {},
   "outputs": [
    {
     "data": {
      "text/plain": [
       "<WordNetLemmatizer>"
      ]
     },
     "execution_count": 7,
     "metadata": {},
     "output_type": "execute_result"
    }
   ],
   "source": [
    "from nltk.stem import WordNetLemmatizer \n",
    "\n",
    "# Create an instance of the WordNet lemmatizer\n",
    "lemmatizer = WordNetLemmatizer()\n",
    "\n",
    "lemmatizer\n"
   ]
  },
  {
   "cell_type": "code",
   "execution_count": 8,
   "metadata": {},
   "outputs": [
    {
     "data": {
      "text/plain": [
       "'berry'"
      ]
     },
     "execution_count": 8,
     "metadata": {},
     "output_type": "execute_result"
    }
   ],
   "source": [
    "# Check how it lemmatizes single words\n",
    "\n",
    "lemmatizer.lemmatize(\"berries\")"
   ]
  },
  {
   "cell_type": "code",
   "execution_count": 9,
   "metadata": {},
   "outputs": [
    {
     "data": {
      "text/plain": [
       "'protest'"
      ]
     },
     "execution_count": 9,
     "metadata": {},
     "output_type": "execute_result"
    }
   ],
   "source": [
    "# If part-of-speech isn't specified, by default the lemmatizer will assume the word is noun\n",
    "\n",
    "\n",
    "lemmatizer.lemmatize(\"protesting\", \"v\")"
   ]
  },
  {
   "cell_type": "code",
   "execution_count": 10,
   "metadata": {},
   "outputs": [
    {
     "name": "stdout",
     "output_type": "stream",
     "text": [
      "['blackberrying', 'by', 'sylvia', 'plath', 'nobody', 'in', 'the', 'lane', ',', 'and', 'nothing', ',', 'nothing', 'but', 'blackberry', ',', 'blackberry', 'on', 'either', 'side', ',', 'though', 'on', 'the', 'right', 'mainly', ',', 'a', 'blackberry', 'alley', ',', 'going', 'down', 'in', 'hook', ',', 'and', 'a', 'sea', 'somewhere', 'at', 'the', 'end', 'of', 'it', ',', 'heaving', '.', 'blackberry', 'big', 'a', 'the', 'ball', 'of', 'my', 'thumb', ',', 'and', 'dumb', 'a', 'eye', 'ebon', 'in', 'the', 'hedge', ',', 'fat', 'with', 'blue-red', 'juice', '.', 'these', 'they', 'squander', 'on', 'my', 'finger', '.', 'i', 'had', 'not', 'asked', 'for', 'such', 'a', 'blood', 'sisterhood', ';', 'they', 'must', 'love', 'me', '.', 'they', 'accommodate', 'themselves', 'to', 'my', 'milkbottle', ',', 'flattening', 'their', 'side', '.', 'overhead', 'go', 'the', 'chough', 'in', 'black', ',', 'cacophonous', 'flocks—', 'bit', 'of', 'burnt', 'paper', 'wheeling', 'in', 'a', 'blown', 'sky', '.', 'theirs', 'is', 'the', 'only', 'voice', ',', 'protesting', ',', 'protesting', '.', 'i', 'do', 'not', 'think', 'the', 'sea', 'will', 'appear', 'at', 'all', '.', 'the', 'high', ',', 'green', 'meadow', 'are', 'glowing', ',', 'a', 'if', 'lit', 'from', 'within', '.', 'i', 'come', 'to', 'one', 'bush', 'of', 'berry', 'so', 'ripe', 'it', 'is', 'a', 'bush', 'of', 'fly', ',', 'hanging', 'their', 'bluegreen', 'belly', 'and', 'their', 'wing', 'pane', 'in', 'a', 'chinese', 'screen', '.', 'the', 'honey-feast', 'of', 'the', 'berry', 'ha', 'stunned', 'them', ';', 'they', 'believe', 'in', 'heaven', '.', 'one', 'more', 'hook', ',', 'and', 'the', 'berry', 'and', 'bush', 'end', '.', 'the', 'only', 'thing', 'to', 'come', 'now', 'is', 'the', 'sea', '.', 'from', 'between', 'two', 'hill', 'a', 'sudden', 'wind', 'funnel', 'at', 'me', ',', 'slapping', 'it', 'phantom', 'laundry', 'in', 'my', 'face', '.', 'these', 'hill', 'are', 'too', 'green', 'and', 'sweet', 'to', 'have', 'tasted', 'salt', '.', 'i', 'follow', 'the', 'sheep', 'path', 'between', 'them', '.', 'a', 'last', 'hook', 'brings', 'me', 'to', 'the', 'hill', '’', 'northern', 'face', ',', 'and', 'the', 'face', 'is', 'orange', 'rock', 'that', 'look', 'out', 'on', 'nothing', ',', 'nothing', 'but', 'a', 'great', 'space', 'of', 'white', 'and', 'pewter', 'light', ',', 'and', 'a', 'din', 'like', 'silversmith', 'beating', 'and', 'beating', 'at', 'an', 'intractable', 'metal', '.']\n"
     ]
    }
   ],
   "source": [
    "# With the for-loop run through the tokenized list and lemmatize words\n",
    "\n",
    "\n",
    "PoemLem = []\n",
    "\n",
    "for w in PoemTok:\n",
    "    x = lemmatizer.lemmatize(w)\n",
    "    PoemLem.append(x)\n",
    "    \n",
    "print(PoemLem)\n",
    "\n",
    "# Poems are hard to process because of their unusual use of language\n",
    "# The result is not 100% satisfying, e.g. \"blackberrying\" was not reduced to \"blackbery\"\n",
    "\n",
    "# The lemmatizer did some initial work, e.g. \"blackberries\" were converted to the sing form\n",
    "# More custom lemmatization needs to be done to get consistent results, e.g.\n",
    "# To replace the instances of \"blackberrying\", \"blackberries\" and \"berries\" to one lemma"
   ]
  },
  {
   "cell_type": "markdown",
   "metadata": {},
   "source": [
    "<div class=\"alert alert-block alert-danger\">\n",
    "    <h3>Clean Data</h3>\n",
    "       \n",
    "<p> </p>\n",
    "\n",
    "</div>"
   ]
  },
  {
   "cell_type": "code",
   "execution_count": 11,
   "metadata": {},
   "outputs": [
    {
     "data": {
      "text/plain": [
       "{'a',\n",
       " 'about',\n",
       " 'above',\n",
       " 'after',\n",
       " 'again',\n",
       " 'against',\n",
       " 'ain',\n",
       " 'all',\n",
       " 'am',\n",
       " 'an',\n",
       " 'and',\n",
       " 'any',\n",
       " 'are',\n",
       " 'aren',\n",
       " \"aren't\",\n",
       " 'as',\n",
       " 'at',\n",
       " 'be',\n",
       " 'because',\n",
       " 'been',\n",
       " 'before',\n",
       " 'being',\n",
       " 'below',\n",
       " 'between',\n",
       " 'both',\n",
       " 'but',\n",
       " 'by',\n",
       " 'can',\n",
       " 'couldn',\n",
       " \"couldn't\",\n",
       " 'd',\n",
       " 'did',\n",
       " 'didn',\n",
       " \"didn't\",\n",
       " 'do',\n",
       " 'does',\n",
       " 'doesn',\n",
       " \"doesn't\",\n",
       " 'doing',\n",
       " 'don',\n",
       " \"don't\",\n",
       " 'down',\n",
       " 'during',\n",
       " 'each',\n",
       " 'few',\n",
       " 'for',\n",
       " 'from',\n",
       " 'further',\n",
       " 'had',\n",
       " 'hadn',\n",
       " \"hadn't\",\n",
       " 'has',\n",
       " 'hasn',\n",
       " \"hasn't\",\n",
       " 'have',\n",
       " 'haven',\n",
       " \"haven't\",\n",
       " 'having',\n",
       " 'he',\n",
       " 'her',\n",
       " 'here',\n",
       " 'hers',\n",
       " 'herself',\n",
       " 'him',\n",
       " 'himself',\n",
       " 'his',\n",
       " 'how',\n",
       " 'i',\n",
       " 'if',\n",
       " 'in',\n",
       " 'into',\n",
       " 'is',\n",
       " 'isn',\n",
       " \"isn't\",\n",
       " 'it',\n",
       " \"it's\",\n",
       " 'its',\n",
       " 'itself',\n",
       " 'just',\n",
       " 'll',\n",
       " 'm',\n",
       " 'ma',\n",
       " 'me',\n",
       " 'mightn',\n",
       " \"mightn't\",\n",
       " 'more',\n",
       " 'most',\n",
       " 'mustn',\n",
       " \"mustn't\",\n",
       " 'my',\n",
       " 'myself',\n",
       " 'needn',\n",
       " \"needn't\",\n",
       " 'no',\n",
       " 'nor',\n",
       " 'not',\n",
       " 'now',\n",
       " 'o',\n",
       " 'of',\n",
       " 'off',\n",
       " 'on',\n",
       " 'once',\n",
       " 'only',\n",
       " 'or',\n",
       " 'other',\n",
       " 'our',\n",
       " 'ours',\n",
       " 'ourselves',\n",
       " 'out',\n",
       " 'over',\n",
       " 'own',\n",
       " 're',\n",
       " 's',\n",
       " 'same',\n",
       " 'shan',\n",
       " \"shan't\",\n",
       " 'she',\n",
       " \"she's\",\n",
       " 'should',\n",
       " \"should've\",\n",
       " 'shouldn',\n",
       " \"shouldn't\",\n",
       " 'so',\n",
       " 'some',\n",
       " 'such',\n",
       " 't',\n",
       " 'than',\n",
       " 'that',\n",
       " \"that'll\",\n",
       " 'the',\n",
       " 'their',\n",
       " 'theirs',\n",
       " 'them',\n",
       " 'themselves',\n",
       " 'then',\n",
       " 'there',\n",
       " 'these',\n",
       " 'they',\n",
       " 'this',\n",
       " 'those',\n",
       " 'through',\n",
       " 'to',\n",
       " 'too',\n",
       " 'under',\n",
       " 'until',\n",
       " 'up',\n",
       " 've',\n",
       " 'very',\n",
       " 'was',\n",
       " 'wasn',\n",
       " \"wasn't\",\n",
       " 'we',\n",
       " 'were',\n",
       " 'weren',\n",
       " \"weren't\",\n",
       " 'what',\n",
       " 'when',\n",
       " 'where',\n",
       " 'which',\n",
       " 'while',\n",
       " 'who',\n",
       " 'whom',\n",
       " 'why',\n",
       " 'will',\n",
       " 'with',\n",
       " 'won',\n",
       " \"won't\",\n",
       " 'wouldn',\n",
       " \"wouldn't\",\n",
       " 'y',\n",
       " 'you',\n",
       " \"you'd\",\n",
       " \"you'll\",\n",
       " \"you're\",\n",
       " \"you've\",\n",
       " 'your',\n",
       " 'yours',\n",
       " 'yourself',\n",
       " 'yourselves'}"
      ]
     },
     "execution_count": 11,
     "metadata": {},
     "output_type": "execute_result"
    }
   ],
   "source": [
    "# import the stopwords object from nltk.corpus\n",
    "\n",
    "from nltk.corpus import stopwords\n",
    "\n",
    "# store the stopword object in the stop variable\n",
    "\n",
    "Stop = set(stopwords.words('english'))\n",
    "\n",
    "Stop"
   ]
  },
  {
   "cell_type": "code",
   "execution_count": 12,
   "metadata": {},
   "outputs": [
    {
     "data": {
      "text/plain": [
       "['blackberrying',\n",
       " 'sylvia',\n",
       " 'plath',\n",
       " 'nobody',\n",
       " 'lane',\n",
       " ',',\n",
       " 'nothing',\n",
       " ',',\n",
       " 'nothing',\n",
       " 'blackberry',\n",
       " ',',\n",
       " 'blackberry',\n",
       " 'either',\n",
       " 'side',\n",
       " ',',\n",
       " 'though',\n",
       " 'right',\n",
       " 'mainly',\n",
       " ',',\n",
       " 'blackberry',\n",
       " 'alley',\n",
       " ',',\n",
       " 'going',\n",
       " 'hook',\n",
       " ',',\n",
       " 'sea',\n",
       " 'somewhere',\n",
       " 'end',\n",
       " ',',\n",
       " 'heaving',\n",
       " '.',\n",
       " 'blackberry',\n",
       " 'big',\n",
       " 'ball',\n",
       " 'thumb',\n",
       " ',',\n",
       " 'dumb',\n",
       " 'eye',\n",
       " 'ebon',\n",
       " 'hedge',\n",
       " ',',\n",
       " 'fat',\n",
       " 'blue-red',\n",
       " 'juice',\n",
       " '.',\n",
       " 'squander',\n",
       " 'finger',\n",
       " '.',\n",
       " 'asked',\n",
       " 'blood',\n",
       " 'sisterhood',\n",
       " ';',\n",
       " 'must',\n",
       " 'love',\n",
       " '.',\n",
       " 'accommodate',\n",
       " 'milkbottle',\n",
       " ',',\n",
       " 'flattening',\n",
       " 'side',\n",
       " '.',\n",
       " 'overhead',\n",
       " 'go',\n",
       " 'chough',\n",
       " 'black',\n",
       " ',',\n",
       " 'cacophonous',\n",
       " 'flocks—',\n",
       " 'bit',\n",
       " 'burnt',\n",
       " 'paper',\n",
       " 'wheeling',\n",
       " 'blown',\n",
       " 'sky',\n",
       " '.',\n",
       " 'voice',\n",
       " ',',\n",
       " 'protesting',\n",
       " ',',\n",
       " 'protesting',\n",
       " '.',\n",
       " 'think',\n",
       " 'sea',\n",
       " 'appear',\n",
       " '.',\n",
       " 'high',\n",
       " ',',\n",
       " 'green',\n",
       " 'meadow',\n",
       " 'glowing',\n",
       " ',',\n",
       " 'lit',\n",
       " 'within',\n",
       " '.',\n",
       " 'come',\n",
       " 'one',\n",
       " 'bush',\n",
       " 'berry',\n",
       " 'ripe',\n",
       " 'bush',\n",
       " 'fly',\n",
       " ',',\n",
       " 'hanging',\n",
       " 'bluegreen',\n",
       " 'belly',\n",
       " 'wing',\n",
       " 'pane',\n",
       " 'chinese',\n",
       " 'screen',\n",
       " '.',\n",
       " 'honey-feast',\n",
       " 'berry',\n",
       " 'ha',\n",
       " 'stunned',\n",
       " ';',\n",
       " 'believe',\n",
       " 'heaven',\n",
       " '.',\n",
       " 'one',\n",
       " 'hook',\n",
       " ',',\n",
       " 'berry',\n",
       " 'bush',\n",
       " 'end',\n",
       " '.',\n",
       " 'thing',\n",
       " 'come',\n",
       " 'sea',\n",
       " '.',\n",
       " 'two',\n",
       " 'hill',\n",
       " 'sudden',\n",
       " 'wind',\n",
       " 'funnel',\n",
       " ',',\n",
       " 'slapping',\n",
       " 'phantom',\n",
       " 'laundry',\n",
       " 'face',\n",
       " '.',\n",
       " 'hill',\n",
       " 'green',\n",
       " 'sweet',\n",
       " 'tasted',\n",
       " 'salt',\n",
       " '.',\n",
       " 'follow',\n",
       " 'sheep',\n",
       " 'path',\n",
       " '.',\n",
       " 'last',\n",
       " 'hook',\n",
       " 'brings',\n",
       " 'hill',\n",
       " '’',\n",
       " 'northern',\n",
       " 'face',\n",
       " ',',\n",
       " 'face',\n",
       " 'orange',\n",
       " 'rock',\n",
       " 'look',\n",
       " 'nothing',\n",
       " ',',\n",
       " 'nothing',\n",
       " 'great',\n",
       " 'space',\n",
       " 'white',\n",
       " 'pewter',\n",
       " 'light',\n",
       " ',',\n",
       " 'din',\n",
       " 'like',\n",
       " 'silversmith',\n",
       " 'beating',\n",
       " 'beating',\n",
       " 'intractable',\n",
       " 'metal',\n",
       " '.']"
      ]
     },
     "execution_count": 12,
     "metadata": {},
     "output_type": "execute_result"
    }
   ],
   "source": [
    "# Instead of writing a for-loop to iterate through a list to create another list\n",
    "# We can use a list comprehension as below\n",
    "# It is a syntactic construct similar to loops\n",
    "# But it enables lists to be created from other lists using a compact, mathematical syntax\n",
    "\n",
    "PoemClean = [w for w in PoemLem if w not in Stop]\n",
    "\n",
    "PoemClean"
   ]
  },
  {
   "cell_type": "markdown",
   "metadata": {},
   "source": [
    "<div class=\"alert alert-block alert-danger\">\n",
    "    <h3>Compute Word Frequencies</h3>\n",
    "       \n",
    "<p> </p>\n",
    "\n",
    "</div>"
   ]
  },
  {
   "cell_type": "code",
   "execution_count": 13,
   "metadata": {},
   "outputs": [
    {
     "data": {
      "text/plain": [
       "FreqDist({',': 22, '.': 17, 'nothing': 4, 'blackberry': 4, 'hook': 3, 'sea': 3, 'bush': 3, 'berry': 3, 'hill': 3, 'face': 3, ...})"
      ]
     },
     "execution_count": 13,
     "metadata": {},
     "output_type": "execute_result"
    }
   ],
   "source": [
    "# From the probability sub-library of the nltk library, import the FreqDist function\n",
    "# to computes how often unique words occur in a text\n",
    "\n",
    "from nltk.probability import FreqDist\n",
    "\n",
    "PoemFreq = FreqDist(PoemClean)\n",
    "PoemFreq"
   ]
  },
  {
   "cell_type": "markdown",
   "metadata": {},
   "source": [
    "<div class=\"alert alert-block alert-danger\">\n",
    "    <h3>Visualize the Distribution of Word Frequencies</h3>\n",
    "       \n",
    "<p> </p>\n",
    "\n",
    "</div>"
   ]
  },
  {
   "cell_type": "code",
   "execution_count": 14,
   "metadata": {},
   "outputs": [
    {
     "data": {
      "image/png": "[encoded data removed]",
      "text/plain": [
       "<Figure size 2160x720 with 1 Axes>"
      ]
     },
     "metadata": {
      "needs_background": "light"
     },
     "output_type": "display_data"
    }
   ],
   "source": [
    "import matplotlib.pyplot as plt\n",
    "%matplotlib inline\n",
    "\n",
    "plt.figure(figsize=(30,10))\n",
    "plt.xticks(fontsize=20, rotation=90)\n",
    "plt.title('Distribution of Frequent Words', fontsize=20)\n",
    "PoemFreq.plot(10)\n"
   ]
  },
  {
   "cell_type": "markdown",
   "metadata": {},
   "source": [
    "<div class=\"alert alert-block alert-danger\">\n",
    "    <h3>Iterate Data Cleaning</h3>\n",
    "       \n",
    "<p> </p>\n",
    "\n",
    "</div>"
   ]
  },
  {
   "cell_type": "code",
   "execution_count": 15,
   "metadata": {},
   "outputs": [],
   "source": [
    "# create a custom list of your stop words\n",
    "\n",
    "MyStops =[\".\", \",\",\";\"]"
   ]
  },
  {
   "cell_type": "code",
   "execution_count": 16,
   "metadata": {},
   "outputs": [
    {
     "data": {
      "text/plain": [
       "['blackberrying',\n",
       " 'sylvia',\n",
       " 'plath',\n",
       " 'nobody',\n",
       " 'lane',\n",
       " 'nothing',\n",
       " 'nothing',\n",
       " 'blackberry',\n",
       " 'blackberry',\n",
       " 'either',\n",
       " 'side',\n",
       " 'though',\n",
       " 'right',\n",
       " 'mainly',\n",
       " 'blackberry',\n",
       " 'alley',\n",
       " 'going',\n",
       " 'hook',\n",
       " 'sea',\n",
       " 'somewhere',\n",
       " 'end',\n",
       " 'heaving',\n",
       " 'blackberry',\n",
       " 'big',\n",
       " 'ball',\n",
       " 'thumb',\n",
       " 'dumb',\n",
       " 'eye',\n",
       " 'ebon',\n",
       " 'hedge',\n",
       " 'fat',\n",
       " 'blue-red',\n",
       " 'juice',\n",
       " 'squander',\n",
       " 'finger',\n",
       " 'asked',\n",
       " 'blood',\n",
       " 'sisterhood',\n",
       " 'must',\n",
       " 'love',\n",
       " 'accommodate',\n",
       " 'milkbottle',\n",
       " 'flattening',\n",
       " 'side',\n",
       " 'overhead',\n",
       " 'go',\n",
       " 'chough',\n",
       " 'black',\n",
       " 'cacophonous',\n",
       " 'flocks—',\n",
       " 'bit',\n",
       " 'burnt',\n",
       " 'paper',\n",
       " 'wheeling',\n",
       " 'blown',\n",
       " 'sky',\n",
       " 'voice',\n",
       " 'protesting',\n",
       " 'protesting',\n",
       " 'think',\n",
       " 'sea',\n",
       " 'appear',\n",
       " 'high',\n",
       " 'green',\n",
       " 'meadow',\n",
       " 'glowing',\n",
       " 'lit',\n",
       " 'within',\n",
       " 'come',\n",
       " 'one',\n",
       " 'bush',\n",
       " 'berry',\n",
       " 'ripe',\n",
       " 'bush',\n",
       " 'fly',\n",
       " 'hanging',\n",
       " 'bluegreen',\n",
       " 'belly',\n",
       " 'wing',\n",
       " 'pane',\n",
       " 'chinese',\n",
       " 'screen',\n",
       " 'honey-feast',\n",
       " 'berry',\n",
       " 'ha',\n",
       " 'stunned',\n",
       " 'believe',\n",
       " 'heaven',\n",
       " 'one',\n",
       " 'hook',\n",
       " 'berry',\n",
       " 'bush',\n",
       " 'end',\n",
       " 'thing',\n",
       " 'come',\n",
       " 'sea',\n",
       " 'two',\n",
       " 'hill',\n",
       " 'sudden',\n",
       " 'wind',\n",
       " 'funnel',\n",
       " 'slapping',\n",
       " 'phantom',\n",
       " 'laundry',\n",
       " 'face',\n",
       " 'hill',\n",
       " 'green',\n",
       " 'sweet',\n",
       " 'tasted',\n",
       " 'salt',\n",
       " 'follow',\n",
       " 'sheep',\n",
       " 'path',\n",
       " 'last',\n",
       " 'hook',\n",
       " 'brings',\n",
       " 'hill',\n",
       " '’',\n",
       " 'northern',\n",
       " 'face',\n",
       " 'face',\n",
       " 'orange',\n",
       " 'rock',\n",
       " 'look',\n",
       " 'nothing',\n",
       " 'nothing',\n",
       " 'great',\n",
       " 'space',\n",
       " 'white',\n",
       " 'pewter',\n",
       " 'light',\n",
       " 'din',\n",
       " 'like',\n",
       " 'silversmith',\n",
       " 'beating',\n",
       " 'beating',\n",
       " 'intractable',\n",
       " 'metal']"
      ]
     },
     "execution_count": 16,
     "metadata": {},
     "output_type": "execute_result"
    }
   ],
   "source": [
    "# To evaluate the PoemClean variable against the MyStops variable, use a list comprehension\n",
    "\n",
    "PoemClean2 = [w for w in PoemClean if w not in MyStops]\n",
    "\n",
    "PoemClean2\n",
    "\n",
    "# You can achieve the same output by writing a for-loop to append items to an empty list\n",
    "# The examples of loops are available in Part 2 of this week."
   ]
  },
  {
   "cell_type": "code",
   "execution_count": 17,
   "metadata": {},
   "outputs": [
    {
     "data": {
      "text/plain": [
       "FreqDist({'nothing': 4, 'blackberry': 4, 'hook': 3, 'sea': 3, 'bush': 3, 'berry': 3, 'hill': 3, 'face': 3, 'side': 2, 'end': 2, ...})"
      ]
     },
     "execution_count": 17,
     "metadata": {},
     "output_type": "execute_result"
    }
   ],
   "source": [
    "PoemFreq2 = FreqDist(PoemClean2)\n",
    "PoemFreq2"
   ]
  },
  {
   "cell_type": "code",
   "execution_count": 18,
   "metadata": {},
   "outputs": [
    {
     "data": {
      "image/png": "[encoded data removed]",
      "text/plain": [
       "<Figure size 2160x720 with 1 Axes>"
      ]
     },
     "metadata": {
      "needs_background": "light"
     },
     "output_type": "display_data"
    }
   ],
   "source": [
    "%matplotlib inline\n",
    "\n",
    "plt.figure(figsize=(30,10))\n",
    "plt.xticks(fontsize=20, rotation=90)\n",
    "plt.title('Distribution of Frequent Words', fontsize=20)\n",
    "PoemFreq2.plot(20)\n",
    "\n",
    "\n",
    "# If your natural language data were big, you'd get a smoothly sloping line chart\n",
    "# This dataset is too small to get any meaningful results from stat modelling"
   ]
  },
  {
   "cell_type": "code",
   "execution_count": 19,
   "metadata": {},
   "outputs": [
    {
     "data": {
      "text/plain": [
       "[('nothing', 4),\n",
       " ('blackberry', 4),\n",
       " ('hook', 3),\n",
       " ('sea', 3),\n",
       " ('bush', 3),\n",
       " ('berry', 3),\n",
       " ('hill', 3),\n",
       " ('face', 3),\n",
       " ('side', 2),\n",
       " ('end', 2)]"
      ]
     },
     "execution_count": 19,
     "metadata": {},
     "output_type": "execute_result"
    }
   ],
   "source": [
    "# Sample 10 top frequent words of the poem from the PoemFreq2 variable\n",
    "\n",
    "Freq10 = PoemFreq2.most_common(10)\n",
    "Freq10"
   ]
  },
  {
   "cell_type": "markdown",
   "metadata": {},
   "source": [
    "<div class=\"alert alert-block alert-danger\">\n",
    "    <h3>Convert to a pandas' DataFrame</h3>\n",
    "       \n",
    "<p> </p>\n",
    "\n",
    "</div>"
   ]
  },
  {
   "cell_type": "code",
   "execution_count": 20,
   "metadata": {},
   "outputs": [
    {
     "data": {
      "text/html": [
       "<div>\n",
       "<style scoped>\n",
       "    .dataframe tbody tr th:only-of-type {\n",
       "        vertical-align: middle;\n",
       "    }\n",
       "\n",
       "    .dataframe tbody tr th {\n",
       "        vertical-align: top;\n",
       "    }\n",
       "\n",
       "    .dataframe thead th {\n",
       "        text-align: right;\n",
       "    }\n",
       "</style>\n",
       "<table border=\"1\" class=\"dataframe\">\n",
       "  <thead>\n",
       "    <tr style=\"text-align: right;\">\n",
       "      <th></th>\n",
       "      <th>Words</th>\n",
       "      <th>Counts</th>\n",
       "    </tr>\n",
       "  </thead>\n",
       "  <tbody>\n",
       "    <tr>\n",
       "      <th>0</th>\n",
       "      <td>nothing</td>\n",
       "      <td>4</td>\n",
       "    </tr>\n",
       "    <tr>\n",
       "      <th>1</th>\n",
       "      <td>blackberry</td>\n",
       "      <td>4</td>\n",
       "    </tr>\n",
       "    <tr>\n",
       "      <th>2</th>\n",
       "      <td>hook</td>\n",
       "      <td>3</td>\n",
       "    </tr>\n",
       "    <tr>\n",
       "      <th>3</th>\n",
       "      <td>sea</td>\n",
       "      <td>3</td>\n",
       "    </tr>\n",
       "    <tr>\n",
       "      <th>4</th>\n",
       "      <td>bush</td>\n",
       "      <td>3</td>\n",
       "    </tr>\n",
       "    <tr>\n",
       "      <th>5</th>\n",
       "      <td>berry</td>\n",
       "      <td>3</td>\n",
       "    </tr>\n",
       "    <tr>\n",
       "      <th>6</th>\n",
       "      <td>hill</td>\n",
       "      <td>3</td>\n",
       "    </tr>\n",
       "    <tr>\n",
       "      <th>7</th>\n",
       "      <td>face</td>\n",
       "      <td>3</td>\n",
       "    </tr>\n",
       "    <tr>\n",
       "      <th>8</th>\n",
       "      <td>side</td>\n",
       "      <td>2</td>\n",
       "    </tr>\n",
       "    <tr>\n",
       "      <th>9</th>\n",
       "      <td>end</td>\n",
       "      <td>2</td>\n",
       "    </tr>\n",
       "  </tbody>\n",
       "</table>\n",
       "</div>"
      ],
      "text/plain": [
       "        Words  Counts\n",
       "0     nothing       4\n",
       "1  blackberry       4\n",
       "2        hook       3\n",
       "3         sea       3\n",
       "4        bush       3\n",
       "5       berry       3\n",
       "6        hill       3\n",
       "7        face       3\n",
       "8        side       2\n",
       "9         end       2"
      ]
     },
     "execution_count": 20,
     "metadata": {},
     "output_type": "execute_result"
    }
   ],
   "source": [
    "import pandas as pd\n",
    "\n",
    "df = pd.DataFrame(Freq10, columns=[\"Words\", \"Counts\"])\n",
    "df"
   ]
  },
  {
   "cell_type": "code",
   "execution_count": null,
   "metadata": {},
   "outputs": [],
   "source": []
  },
  {
   "cell_type": "markdown",
   "metadata": {},
   "source": [
    "<div class=\"alert alert-block alert-danger\">\n",
    "    <h3>Visualize a DataFrame</h3>       \n",
    "<p> </p>\n",
    "\n",
    "</div>"
   ]
  },
  {
   "cell_type": "code",
   "execution_count": 21,
   "metadata": {},
   "outputs": [
    {
     "data": {
      "text/plain": [
       "Text(0.5, 1.0, 'Distribution of Freq Words')"
      ]
     },
     "execution_count": 21,
     "metadata": {},
     "output_type": "execute_result"
    },
    {
     "data": {
      "image/png": "[encoded data removed]",
      "text/plain": [
       "<Figure size 432x288 with 1 Axes>"
      ]
     },
     "metadata": {
      "needs_background": "light"
     },
     "output_type": "display_data"
    }
   ],
   "source": [
    "df.plot(kind=\"bar\", x=\"Words\",y=\"Counts\", legend=None,color=list('rgbkymc'))\n",
    "plt.xlabel('Words', fontsize=12)\n",
    "plt.ylabel('Frequencies', fontsize=12)\n",
    "plt.title('Distribution of Freq Words')"
   ]
  },
  {
   "cell_type": "markdown",
   "metadata": {},
   "source": [
    "<div class=\"alert alert-block alert-danger\">\n",
    "    <h3>Generate Concordances</h3>\n",
    "    <p></p>\n",
    "</div>"
   ]
  },
  {
   "cell_type": "code",
   "execution_count": 22,
   "metadata": {},
   "outputs": [],
   "source": [
    "# Convert the variable into a Text object to be able to use a concordancer of the NLTK lib\n",
    "\n",
    "from nltk.text import Text "
   ]
  },
  {
   "cell_type": "code",
   "execution_count": 23,
   "metadata": {},
   "outputs": [
    {
     "data": {
      "text/plain": [
       "<Text: blackberrying by sylvia plath nobody in the lane...>"
      ]
     },
     "execution_count": 23,
     "metadata": {},
     "output_type": "execute_result"
    }
   ],
   "source": [
    "# Create a Text object \n",
    "\n",
    "PoemObj = nltk.Text(PoemTok)\n",
    "\n",
    "PoemObj\n"
   ]
  },
  {
   "cell_type": "code",
   "execution_count": 24,
   "metadata": {},
   "outputs": [
    {
     "name": "stdout",
     "output_type": "stream",
     "text": [
      "Displaying 3 of 3 matches:\n",
      "lane , and nothing , nothing but blackberries , blackberries on either side , \n",
      "ing , nothing but blackberries , blackberries on either side , though on the r\n",
      "ere at the end of it , heaving . blackberries big as the ball of my thumb , an\n"
     ]
    }
   ],
   "source": [
    "# Generate a concordance viewer for a specific word\n",
    "\n",
    "PoemObj.concordance('blackberries')"
   ]
  },
  {
   "cell_type": "markdown",
   "metadata": {},
   "source": [
    "<div class=\"alert alert-block alert-danger\">\n",
    "    <h3>Create a Dispersion Plot</h3>\n",
    "    <p></p>\n",
    "</div>"
   ]
  },
  {
   "cell_type": "code",
   "execution_count": 25,
   "metadata": {},
   "outputs": [
    {
     "data": {
      "image/png": "[encoded data removed]",
      "text/plain": [
       "<Figure size 432x288 with 1 Axes>"
      ]
     },
     "metadata": {
      "needs_background": "light"
     },
     "output_type": "display_data"
    }
   ],
   "source": [
    "# Create a dispersion plot to see how some top frequent words are spread across the poem\n",
    "\n",
    "Disp = PoemObj.dispersion_plot(['nothing','hook', 'sea'])\n",
    "Disp"
   ]
  },
  {
   "cell_type": "markdown",
   "metadata": {},
   "source": [
    "<div class=\"alert alert-block alert-danger\">\n",
    "    <h3>Write (Export) a .txt file</h3>\n",
    "    <p></p>\n",
    "</div>"
   ]
  },
  {
   "cell_type": "code",
   "execution_count": 26,
   "metadata": {},
   "outputs": [
    {
     "name": "stdout",
     "output_type": "stream",
     "text": [
      "blackberrying sylvia plath nobody lane nothing nothing blackberry blackberry either side though right mainly blackberry alley going hook sea somewhere end heaving blackberry big ball thumb dumb eye ebon hedge fat blue-red juice squander finger asked blood sisterhood must love accommodate milkbottle flattening side overhead go chough black cacophonous flocks— bit burnt paper wheeling blown sky voice protesting protesting think sea appear high green meadow glowing lit within come one bush berry ripe bush fly hanging bluegreen belly wing pane chinese screen honey-feast berry ha stunned believe heaven one hook berry bush end thing come sea two hill sudden wind funnel slapping phantom laundry face hill green sweet tasted salt follow sheep path last hook brings hill ’ northern face face orange rock look nothing nothing great space white pewter light din like silversmith beating beating intractable metal\n",
      "<class 'str'>\n"
     ]
    }
   ],
   "source": [
    "# Let's put a list of word strings back into one long string with the string method join()\n",
    "\n",
    "PoemStr = ' '.join(PoemClean2)\n",
    "\n",
    "print(PoemStr)\n",
    "\n",
    "print(type(PoemStr))"
   ]
  },
  {
   "cell_type": "code",
   "execution_count": 27,
   "metadata": {},
   "outputs": [],
   "source": [
    "# To save the output created above, follow the same steps as in reading a file\n",
    "# Yet this time you need to tell Python to export your output by passing the argument \"w\"\n",
    "\n",
    "file = open(\"CleanPoem.txt\", \"w\", encoding=\"utf-8\")\n",
    "file.write(PoemStr)\n",
    "file.close()"
   ]
  },
  {
   "cell_type": "markdown",
   "metadata": {},
   "source": [
    "<div style=\"background-color:#ccccff\">\n",
    "<h2>More Practice</h2><br>\n",
    "\n",
    "<p>For more practice and theory check the <a href=\"https://www.datacamp.com/community/tutorials/stemming-lemmatization-python\">Tutorial on Stemming and Lemmatization in Python</a> on DataCamp.</p><br>\n",
    "\n",
    "</div>"
   ]
  },
  {
   "cell_type": "markdown",
   "metadata": {},
   "source": [
    "<div class=\"alert alert-block alert-success\">\n",
    "<h2>In Preparation for Webinar</h2><br>\n",
    "<p>During the webinars on 16 & 17th Nov, you will be assigned to groups and moved to breakout sessions. You will be given a text to tokenize, lemmatize, clean and visualize its word frequencies by following the steps taken and explained in this part. A JN file with hints and tips for you to follow through each step as your work in groups will be made available in the webinar folder under Week 6.</p>\n",
    "</div>"
   ]
  }
 ],
 "metadata": {
  "kernelspec": {
   "display_name": "Python 3",
   "language": "python",
   "name": "python3"
  },
  "language_info": {
   "codemirror_mode": {
    "name": "ipython",
    "version": 3
   },
   "file_extension": ".py",
   "mimetype": "text/x-python",
   "name": "python",
   "nbconvert_exporter": "python",
   "pygments_lexer": "ipython3",
   "version": "3.7.3"
  }
 },
 "nbformat": 4,
 "nbformat_minor": 2
}
