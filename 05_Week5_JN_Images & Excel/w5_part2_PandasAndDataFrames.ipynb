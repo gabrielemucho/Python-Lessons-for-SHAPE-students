{
 "cells": [
  {
   "cell_type": "markdown",
   "metadata": {},
   "source": [
    "<div class=\"alert alert-block alert-info\">\n",
    "    <h1>pandas and DataFrames</h1>\n",
    "    <p>Pandas DataFrames are easy-to-query table-like structures consisting of rows and columns. Pandas Data Frames can be created by loading the data from the external, existing storage like a SQL database or CSV files. But they can also be created from Python lists, tuples, and dictionaries.</p>\n",
    " </div>"
   ]
  },
  {
   "cell_type": "code",
   "execution_count": 1,
   "metadata": {},
   "outputs": [],
   "source": [
    "# Assuming that you have now the pandas module installed on your machines, import it into Jupyter Notebook.\n",
    "\n",
    "import pandas as pd\n"
   ]
  },
  {
   "cell_type": "code",
   "execution_count": 2,
   "metadata": {},
   "outputs": [
    {
     "data": {
      "text/plain": [
       "[[4, 8, 12, 16, 20, 2, 50], [5, 7, 30, 4, 1, 15, 100]]"
      ]
     },
     "execution_count": 2,
     "metadata": {},
     "output_type": "execute_result"
    }
   ],
   "source": [
    "# Let's repeatedly create the same 2-d array that we worked with in Part 1 Numpy And Arrays of this class.\n",
    "\n",
    "myNewArray = [[4, 8, 12, 16, 20, 2, 50], [5, 7, 30, 4, 1, 15, 100]]\n",
    "myNewArray\n",
    "\n",
    "# Note this is a nested Python list that serves as an array.\n",
    "# But we can convert it into a Numpy nd array as we did it in Part 1.\n",
    "# This time, we'll convert it into a pandas DataFrame."
   ]
  },
  {
   "cell_type": "code",
   "execution_count": 3,
   "metadata": {},
   "outputs": [
    {
     "data": {
      "text/html": [
       "<div>\n",
       "<style scoped>\n",
       "    .dataframe tbody tr th:only-of-type {\n",
       "        vertical-align: middle;\n",
       "    }\n",
       "\n",
       "    .dataframe tbody tr th {\n",
       "        vertical-align: top;\n",
       "    }\n",
       "\n",
       "    .dataframe thead th {\n",
       "        text-align: right;\n",
       "    }\n",
       "</style>\n",
       "<table border=\"1\" class=\"dataframe\">\n",
       "  <thead>\n",
       "    <tr style=\"text-align: right;\">\n",
       "      <th></th>\n",
       "      <th>0</th>\n",
       "      <th>1</th>\n",
       "      <th>2</th>\n",
       "      <th>3</th>\n",
       "      <th>4</th>\n",
       "      <th>5</th>\n",
       "      <th>6</th>\n",
       "    </tr>\n",
       "  </thead>\n",
       "  <tbody>\n",
       "    <tr>\n",
       "      <th>0</th>\n",
       "      <td>4</td>\n",
       "      <td>8</td>\n",
       "      <td>12</td>\n",
       "      <td>16</td>\n",
       "      <td>20</td>\n",
       "      <td>2</td>\n",
       "      <td>50</td>\n",
       "    </tr>\n",
       "    <tr>\n",
       "      <th>1</th>\n",
       "      <td>5</td>\n",
       "      <td>7</td>\n",
       "      <td>30</td>\n",
       "      <td>4</td>\n",
       "      <td>1</td>\n",
       "      <td>15</td>\n",
       "      <td>100</td>\n",
       "    </tr>\n",
       "  </tbody>\n",
       "</table>\n",
       "</div>"
      ],
      "text/plain": [
       "   0  1   2   3   4   5    6\n",
       "0  4  8  12  16  20   2   50\n",
       "1  5  7  30   4   1  15  100"
      ]
     },
     "execution_count": 3,
     "metadata": {},
     "output_type": "execute_result"
    }
   ],
   "source": [
    "# convert the 2-d array into a data frame with the pandas method DataFrame() and store it in the variable 'DF'\n",
    "\n",
    "DF = pd.DataFrame(myNewArray)\n",
    "DF\n",
    "\n",
    "# Note that JN formats dataframes, as below, to make them more legible.\n",
    "# Other Python environments do not support this formating feature.\n",
    "# Note that the output displays index positions of each element instead of the names of columns and rows."
   ]
  },
  {
   "cell_type": "code",
   "execution_count": 4,
   "metadata": {},
   "outputs": [
    {
     "data": {
      "text/html": [
       "<div>\n",
       "<style scoped>\n",
       "    .dataframe tbody tr th:only-of-type {\n",
       "        vertical-align: middle;\n",
       "    }\n",
       "\n",
       "    .dataframe tbody tr th {\n",
       "        vertical-align: top;\n",
       "    }\n",
       "\n",
       "    .dataframe thead th {\n",
       "        text-align: right;\n",
       "    }\n",
       "</style>\n",
       "<table border=\"1\" class=\"dataframe\">\n",
       "  <thead>\n",
       "    <tr style=\"text-align: right;\">\n",
       "      <th></th>\n",
       "      <th>Jan</th>\n",
       "      <th>Feb</th>\n",
       "      <th>Mar</th>\n",
       "      <th>Apr</th>\n",
       "      <th>May</th>\n",
       "      <th>Jun</th>\n",
       "      <th>Jul</th>\n",
       "    </tr>\n",
       "  </thead>\n",
       "  <tbody>\n",
       "    <tr>\n",
       "      <th>0</th>\n",
       "      <td>4</td>\n",
       "      <td>8</td>\n",
       "      <td>12</td>\n",
       "      <td>16</td>\n",
       "      <td>20</td>\n",
       "      <td>2</td>\n",
       "      <td>50</td>\n",
       "    </tr>\n",
       "    <tr>\n",
       "      <th>1</th>\n",
       "      <td>5</td>\n",
       "      <td>7</td>\n",
       "      <td>30</td>\n",
       "      <td>4</td>\n",
       "      <td>1</td>\n",
       "      <td>15</td>\n",
       "      <td>100</td>\n",
       "    </tr>\n",
       "  </tbody>\n",
       "</table>\n",
       "</div>"
      ],
      "text/plain": [
       "   Jan  Feb  Mar  Apr  May  Jun  Jul\n",
       "0    4    8   12   16   20    2   50\n",
       "1    5    7   30    4    1   15  100"
      ]
     },
     "execution_count": 4,
     "metadata": {},
     "output_type": "execute_result"
    }
   ],
   "source": [
    "# Python dictionaries are useful to manipulate pandas' dataframes, e.g. rename the columns\n",
    "\n",
    "DF2 = DF.rename(columns={0 :'Jan', 1:'Feb', 2:'Mar', 3:'Apr', 4:'May', 5:'Jun', 6:'Jul'})\n",
    "DF2"
   ]
  },
  {
   "cell_type": "code",
   "execution_count": 5,
   "metadata": {},
   "outputs": [
    {
     "data": {
      "text/html": [
       "<div>\n",
       "<style scoped>\n",
       "    .dataframe tbody tr th:only-of-type {\n",
       "        vertical-align: middle;\n",
       "    }\n",
       "\n",
       "    .dataframe tbody tr th {\n",
       "        vertical-align: top;\n",
       "    }\n",
       "\n",
       "    .dataframe thead th {\n",
       "        text-align: right;\n",
       "    }\n",
       "</style>\n",
       "<table border=\"1\" class=\"dataframe\">\n",
       "  <thead>\n",
       "    <tr style=\"text-align: right;\">\n",
       "      <th></th>\n",
       "      <th>Jan</th>\n",
       "      <th>Feb</th>\n",
       "      <th>Mar</th>\n",
       "      <th>Apr</th>\n",
       "      <th>May</th>\n",
       "      <th>Jun</th>\n",
       "      <th>Jul</th>\n",
       "    </tr>\n",
       "  </thead>\n",
       "  <tbody>\n",
       "    <tr>\n",
       "      <th>One</th>\n",
       "      <td>4</td>\n",
       "      <td>8</td>\n",
       "      <td>12</td>\n",
       "      <td>16</td>\n",
       "      <td>20</td>\n",
       "      <td>2</td>\n",
       "      <td>50</td>\n",
       "    </tr>\n",
       "    <tr>\n",
       "      <th>Two</th>\n",
       "      <td>5</td>\n",
       "      <td>7</td>\n",
       "      <td>30</td>\n",
       "      <td>4</td>\n",
       "      <td>1</td>\n",
       "      <td>15</td>\n",
       "      <td>100</td>\n",
       "    </tr>\n",
       "  </tbody>\n",
       "</table>\n",
       "</div>"
      ],
      "text/plain": [
       "     Jan  Feb  Mar  Apr  May  Jun  Jul\n",
       "One    4    8   12   16   20    2   50\n",
       "Two    5    7   30    4    1   15  100"
      ]
     },
     "execution_count": 5,
     "metadata": {},
     "output_type": "execute_result"
    }
   ],
   "source": [
    "# You can rename index positions with the help of dictionary structures as well \n",
    "\n",
    "DF2 = DF2.rename(index={0: \"One\", 1: \"Two\"})\n",
    "DF2"
   ]
  },
  {
   "cell_type": "code",
   "execution_count": 6,
   "metadata": {},
   "outputs": [
    {
     "data": {
      "text/html": [
       "<div>\n",
       "<style scoped>\n",
       "    .dataframe tbody tr th:only-of-type {\n",
       "        vertical-align: middle;\n",
       "    }\n",
       "\n",
       "    .dataframe tbody tr th {\n",
       "        vertical-align: top;\n",
       "    }\n",
       "\n",
       "    .dataframe thead th {\n",
       "        text-align: right;\n",
       "    }\n",
       "</style>\n",
       "<table border=\"1\" class=\"dataframe\">\n",
       "  <thead>\n",
       "    <tr style=\"text-align: right;\">\n",
       "      <th></th>\n",
       "      <th>Tom</th>\n",
       "      <th>Chenlu</th>\n",
       "      <th>Avni</th>\n",
       "    </tr>\n",
       "  </thead>\n",
       "  <tbody>\n",
       "    <tr>\n",
       "      <th>0</th>\n",
       "      <td>11</td>\n",
       "      <td>12</td>\n",
       "      <td>13</td>\n",
       "    </tr>\n",
       "    <tr>\n",
       "      <th>1</th>\n",
       "      <td>21</td>\n",
       "      <td>22</td>\n",
       "      <td>23</td>\n",
       "    </tr>\n",
       "    <tr>\n",
       "      <th>2</th>\n",
       "      <td>31</td>\n",
       "      <td>32</td>\n",
       "      <td>33</td>\n",
       "    </tr>\n",
       "  </tbody>\n",
       "</table>\n",
       "</div>"
      ],
      "text/plain": [
       "   Tom  Chenlu  Avni\n",
       "0   11      12    13\n",
       "1   21      22    23\n",
       "2   31      32    33"
      ]
     },
     "execution_count": 6,
     "metadata": {},
     "output_type": "execute_result"
    }
   ],
   "source": [
    "# Let's hand-code a new dataframe from a Python dictionary.\n",
    "# The dictionary takes strings (names of people) as unique keys and lists with numbers for multiple values.\n",
    "\n",
    "\n",
    "DF3 = pd.DataFrame({'Tom': [11, 21, 31],\n",
    "                   'Chenlu': [12, 22, 32],\n",
    "                   'Avni': [13, 23, 33]}\n",
    "                  )\n",
    "\n",
    "DF3"
   ]
  },
  {
   "cell_type": "code",
   "execution_count": 7,
   "metadata": {},
   "outputs": [],
   "source": [
    "# The major Python visualization library is matplotlib.\n",
    "\n",
    "# You need to install matplotlib first on your machines with the 'pip install matplotlib' command in Python shell.\n",
    "\n",
    "# Then import its sub-library .pyplot under alias 'plt' into the working environment of JN.\n",
    "\n",
    "import matplotlib.pyplot as plt\n",
    "\n",
    "\n",
    "# Declare the magic line to display plots inline.\n",
    "\n",
    "%matplotlib inline"
   ]
  },
  {
   "cell_type": "code",
   "execution_count": 8,
   "metadata": {},
   "outputs": [
    {
     "data": {
      "text/html": [
       "<div>\n",
       "<style scoped>\n",
       "    .dataframe tbody tr th:only-of-type {\n",
       "        vertical-align: middle;\n",
       "    }\n",
       "\n",
       "    .dataframe tbody tr th {\n",
       "        vertical-align: top;\n",
       "    }\n",
       "\n",
       "    .dataframe thead th {\n",
       "        text-align: right;\n",
       "    }\n",
       "</style>\n",
       "<table border=\"1\" class=\"dataframe\">\n",
       "  <thead>\n",
       "    <tr style=\"text-align: right;\">\n",
       "      <th></th>\n",
       "      <th>name</th>\n",
       "      <th>vote</th>\n",
       "    </tr>\n",
       "  </thead>\n",
       "  <tbody>\n",
       "    <tr>\n",
       "      <th>0</th>\n",
       "      <td>Obama</td>\n",
       "      <td>35</td>\n",
       "    </tr>\n",
       "    <tr>\n",
       "      <th>1</th>\n",
       "      <td>Trump</td>\n",
       "      <td>25</td>\n",
       "    </tr>\n",
       "    <tr>\n",
       "      <th>2</th>\n",
       "      <td>HClinton</td>\n",
       "      <td>20</td>\n",
       "    </tr>\n",
       "    <tr>\n",
       "      <th>3</th>\n",
       "      <td>TCruz</td>\n",
       "      <td>20</td>\n",
       "    </tr>\n",
       "  </tbody>\n",
       "</table>\n",
       "</div>"
      ],
      "text/plain": [
       "       name  vote\n",
       "0     Obama    35\n",
       "1     Trump    25\n",
       "2  HClinton    20\n",
       "3     TCruz    20"
      ]
     },
     "execution_count": 8,
     "metadata": {},
     "output_type": "execute_result"
    }
   ],
   "source": [
    "# Let's hand-code a small dataset and store it in the Votes variable. \n",
    "# Note we are using the dictionary as an argument to create two columns of data.\n",
    "\n",
    "Votes = pd.DataFrame({'name':['Obama', 'Trump', 'HClinton', 'TCruz'], 'vote':[35,25,20,20]})\n",
    "\n",
    "Votes"
   ]
  },
  {
   "cell_type": "code",
   "execution_count": 9,
   "metadata": {},
   "outputs": [
    {
     "data": {
      "text/plain": [
       "[<matplotlib.lines.Line2D at 0x1c5e1e33748>]"
      ]
     },
     "execution_count": 9,
     "metadata": {},
     "output_type": "execute_result"
    },
    {
     "data": {
      "image/png": "[encoded data removed]",
      "text/plain": [
       "<Figure size 432x288 with 1 Axes>"
      ]
     },
     "metadata": {
      "needs_background": "light"
     },
     "output_type": "display_data"
    }
   ],
   "source": [
    "# we can call .plot() on a DataFrame object, which in our case is stored in the \"Votes\" variable\n",
    "# when we do so, the matplotlib library creates the plot under the hood.\n",
    "\n",
    "# Let's treat the numeric values in the \"vote\" column as raw frequencies and create a line plot\n",
    "\n",
    "plt.plot(Votes[\"name\"],Votes[\"vote\"])"
   ]
  },
  {
   "cell_type": "code",
   "execution_count": 10,
   "metadata": {},
   "outputs": [
    {
     "data": {
      "text/plain": [
       "<matplotlib.axes._subplots.AxesSubplot at 0x1c5e1efe828>"
      ]
     },
     "execution_count": 10,
     "metadata": {},
     "output_type": "execute_result"
    },
    {
     "data": {
      "image/png": "[encoded data removed]",
      "text/plain": [
       "<Figure size 432x288 with 1 Axes>"
      ]
     },
     "metadata": {
      "needs_background": "light"
     },
     "output_type": "display_data"
    }
   ],
   "source": [
    "# you can achieve the same as above by using the DataFrame object’s .plot() method:\n",
    "\n",
    "Votes.plot(x=\"name\", y=\"vote\")\n",
    "\n",
    "# plot() is a wrapper for the pyplot. plot() method"
   ]
  },
  {
   "cell_type": "code",
   "execution_count": 11,
   "metadata": {},
   "outputs": [
    {
     "data": {
      "text/plain": [
       "<BarContainer object of 4 artists>"
      ]
     },
     "execution_count": 11,
     "metadata": {},
     "output_type": "execute_result"
    },
    {
     "data": {
      "image/png": "[encoded data removed]",
      "text/plain": [
       "<Figure size 432x288 with 1 Axes>"
      ]
     },
     "metadata": {
      "needs_background": "light"
     },
     "output_type": "display_data"
    }
   ],
   "source": [
    "# For this type of data, it makes more sense to represent our dataset as a bar plot or a pie chart\n",
    "# Once again let's call plot() on the 'Votes' object\n",
    "\n",
    "plt.bar(Votes[\"name\"], Votes[\"vote\"])"
   ]
  },
  {
   "cell_type": "code",
   "execution_count": 12,
   "metadata": {},
   "outputs": [
    {
     "data": {
      "text/plain": [
       "<matplotlib.axes._subplots.AxesSubplot at 0x1c5e1ffa198>"
      ]
     },
     "execution_count": 12,
     "metadata": {},
     "output_type": "execute_result"
    },
    {
     "data": {
      "image/png": "[encoded data removed]",
      "text/plain": [
       "<Figure size 432x288 with 1 Axes>"
      ]
     },
     "metadata": {
      "needs_background": "light"
     },
     "output_type": "display_data"
    }
   ],
   "source": [
    "# Or alternatively, we can use the 'Votes' object's .plot() method\n",
    "\n",
    "# By default, this method produces a line chart as above\n",
    "# But if you want a bar plot, pass the keyword argument 'kind' set to the value 'bar'\n",
    "\n",
    "Votes.plot(kind='bar', x=\"name\", y=\"vote\")"
   ]
  },
  {
   "cell_type": "code",
   "execution_count": 13,
   "metadata": {},
   "outputs": [
    {
     "data": {
      "text/plain": [
       "Text(0.5, 1.0, 'Vote shares')"
      ]
     },
     "execution_count": 13,
     "metadata": {},
     "output_type": "execute_result"
    },
    {
     "data": {
      "image/png": "[encoded data removed]",
      "text/plain": [
       "<Figure size 432x288 with 1 Axes>"
      ]
     },
     "metadata": {},
     "output_type": "display_data"
    }
   ],
   "source": [
    "# Let's treat the numeric values in the 'vote' column as shares this time to create a pie visual.\n",
    "\n",
    "# plt.subplots() is a function that returns a tuple containing a figure and axes object(s). \n",
    "\n",
    "fig, ax = plt.subplots() # A figure can be understood as a canvas where we paint our visual\n",
    "# Thus when using fig, ax = plt.subplots() you unpack this tuple into the variables fig and ax. \n",
    "# To have the returned figure object is useful but not obligatory\n",
    "# It's useful if you want to change figure-level attributes or save the figure as an image file later \n",
    "\n",
    "ax.pie(Votes['vote'], labels=Votes['name']) \n",
    "# 1st argument plots the numbers from the 'Votes' object's column called 'vote', \n",
    "# while 2nd argument takes the string values from the 'name' column as labels for each pie slice\n",
    "\n",
    "plt.title('Vote shares') # add the title to your visual\n",
    "\n",
    "#plt.show() #is not necessary in JN, but you may need this statement in other Python environments"
   ]
  },
  {
   "cell_type": "code",
   "execution_count": 14,
   "metadata": {},
   "outputs": [
    {
     "data": {
      "text/plain": [
       "([<matplotlib.patches.Wedge at 0x1c5e1ffa940>,\n",
       "  <matplotlib.patches.Wedge at 0x1c5e20fc5c0>,\n",
       "  <matplotlib.patches.Wedge at 0x1c5e20fcfd0>,\n",
       "  <matplotlib.patches.Wedge at 0x1c5e2108a20>],\n",
       " [Text(0.5447886197087486, 1.0692078188246832, 'Obama'),\n",
       "  Text(-1.086457168210212, 0.17207795223283895, 'Trump'),\n",
       "  Text(-0.33991872319707345, -1.046162158377023, 'HClinton'),\n",
       "  Text(0.8899186877588748, -0.646563785853741, 'TCruz')],\n",
       " [Text(0.31779336149676995, 0.6237045609810652, '35.0%'),\n",
       "  Text(-0.5926130008419338, 0.09386070121791214, '25.0%'),\n",
       "  Text(-0.18541021265294913, -0.5706339045692852, '20.0%'),\n",
       "  Text(0.4854101933230226, -0.3526711559202223, '20.0%')])"
      ]
     },
     "execution_count": 14,
     "metadata": {},
     "output_type": "execute_result"
    },
    {
     "data": {
      "image/png": "[encoded data removed]",
      "text/plain": [
       "<Figure size 432x288 with 1 Axes>"
      ]
     },
     "metadata": {},
     "output_type": "display_data"
    }
   ],
   "source": [
    "# Let's annotate our pie visual to render it more informative and legible\n",
    "\n",
    "explode = (0.1, 0, 0, 0)  # only \"explode\" the 1st slice that represents data in index position 0 in the data frame\n",
    "\n",
    "fig, ax = plt.subplots()\n",
    "ax.pie(Votes['vote'], labels=Votes['name'], explode=explode, autopct='%1.1f%%', shadow=True)\n",
    " \n",
    "# ax1.axis('equal')  # Equal aspect ratio ensures that pie is drawn as a circle"
   ]
  },
  {
   "cell_type": "code",
   "execution_count": 15,
   "metadata": {},
   "outputs": [],
   "source": [
    "# We can save the visual as an external jpg, png or pdf file\n",
    "# Make sure you give your new image file a name and specify its extension\n",
    "\n",
    "fig.savefig(\"VotePie.jpg\")\n",
    "\n",
    "# After you have executed this code cell, check your JN directory where the jpg image must have been saved."
   ]
  }
 ],
 "metadata": {
  "kernelspec": {
   "display_name": "Python 3",
   "language": "python",
   "name": "python3"
  },
  "language_info": {
   "codemirror_mode": {
    "name": "ipython",
    "version": 3
   },
   "file_extension": ".py",
   "mimetype": "text/x-python",
   "name": "python",
   "nbconvert_exporter": "python",
   "pygments_lexer": "ipython3",
   "version": "3.7.3"
  }
 },
 "nbformat": 4,
 "nbformat_minor": 2
}
