{
 "cells": [
  {
   "cell_type": "markdown",
   "metadata": {},
   "source": [
    "<div class=\"alert alert-block alert-info\">\n",
    "<h2>Importing and Exporting Data Files with NumPy</h2><br>\n",
    "\n",
    "</div>"
   ]
  },
  {
   "cell_type": "code",
   "execution_count": 1,
   "metadata": {},
   "outputs": [],
   "source": [
    "# Once again we need to import the Numpy module into JN for this coding session to access its methods.\n",
    "\n",
    "import numpy as np"
   ]
  },
  {
   "cell_type": "code",
   "execution_count": 2,
   "metadata": {},
   "outputs": [],
   "source": [
    "# Import the csv ('comma-separated values') file called 'winter.csv'.\n",
    "# You should have uploaded the csv file into your JN directory.\n",
    "# The Numpy method to import structured data is genfromtxt().\n",
    "# Once the file is defined and open for reading, genfromtxt splits each non-empty line into a sequence of strings. \n",
    "# Empty or commented lines are just skipped. \n",
    "# The delimiter argument is used to define how the splitting should take place.\n",
    "# Comma-separated files (CSV) use a comma (,) to mark the separation between columns.\n",
    "\n",
    "npWinter1 = np.genfromtxt(\"winter.csv\", delimiter =\",\")\n",
    "\n",
    "# The alternative method is loadtxt(), which is faster\n",
    "# But, unlike genfromtxt(), it does not take into account missing values."
   ]
  },
  {
   "cell_type": "code",
   "execution_count": 3,
   "metadata": {},
   "outputs": [
    {
     "name": "stdout",
     "output_type": "stream",
     "text": [
      "[[   nan    nan    nan    nan]\n",
      " [2017.    12.4   14.3   16.6]\n",
      " [2018.    16.3   22.2   20.1]]\n"
     ]
    }
   ],
   "source": [
    "# Let's print the imported file to see it in the output.\n",
    "\n",
    "print(npWinter1)"
   ]
  },
  {
   "cell_type": "code",
   "execution_count": 4,
   "metadata": {},
   "outputs": [
    {
     "name": "stdout",
     "output_type": "stream",
     "text": [
      "[[2017.    12.4   14.3   16.6]\n",
      " [2018.    16.3   22.2   20.1]]\n"
     ]
    }
   ],
   "source": [
    "# The csv file contains mixed data -  both textual and numeric. \n",
    "# As you can see in the output above, the textual data has been replaced with 'NaN'.\n",
    "# We can either remove the rows with textual data OR we can force all data to be displayed in the output.\n",
    "# If we are confident that the textual data, especially in the header, is not essential, we can remove it:\n",
    "\n",
    "npWinter2 = np.genfromtxt(\"winter.csv\", delimiter=\",\", skip_header=1)\n",
    "\n",
    "print(npWinter2)"
   ]
  },
  {
   "cell_type": "code",
   "execution_count": 5,
   "metadata": {},
   "outputs": [
    {
     "name": "stdout",
     "output_type": "stream",
     "text": [
      "[['Year' 'Dec' 'Jan' 'Feb']\n",
      " ['2017' '12.4' '14.3' '16.6']\n",
      " ['2018' '16.3' '22.2' '20.1']]\n"
     ]
    }
   ],
   "source": [
    "# To print out all mixed data, you may need to set the dtype argument to None as below.\n",
    "# dtype set to None infers data type from the values it finds in the file, \n",
    "# which is useful when files contain mixed type of data.\n",
    "\n",
    "npWinter3 =  np.genfromtxt(\"winter.csv\", delimiter=\",\", dtype=None, encoding=None)\n",
    "print(npWinter3)\n",
    "\n",
    "# The output may contain 'b' before each data value. \n",
    "# np.genfromtxt() operates in byte mode, which is the default string type in Python 2. \n",
    "# But Python 3 uses unicode, and marks bytestrings with this character 'b', unless we set the encoding arg to None."
   ]
  },
  {
   "cell_type": "code",
   "execution_count": 6,
   "metadata": {},
   "outputs": [
    {
     "name": "stdout",
     "output_type": "stream",
     "text": [
      "['2018' '16.3' '22.2' '20.1']\n"
     ]
    }
   ],
   "source": [
    "# We can slice off a piece of numpy arrays by index position as we did it with lists and tuples.\n",
    "# If we set the slicer to [2], it will return the third row.\n",
    "\n",
    "print(npWinter3[2])"
   ]
  },
  {
   "cell_type": "code",
   "execution_count": 7,
   "metadata": {},
   "outputs": [],
   "source": [
    "# We may save the Numpy array as csv or text files.\n",
    "# fmt argument specifies formatting options. By default numbers will be stored in float format.\n",
    "# %d value will store numbers as integers, while %s saves them as strings.\n",
    "\n",
    "np.savetxt(\"winter3.csv\", npWinter3, delimiter=\",\", fmt='%s')\n",
    "\n",
    "# Alternatively, use winter3.tofile() method to export data from the Python environment to an external file.\n",
    "# Yet this method may cause various formatting problems.\n",
    "\n",
    "# More on saving arrays in external files see: \n",
    "# https://thispointer.com/how-to-save-numpy-array-to-a-csv-file-using-numpy-savetxt-in-python/"
   ]
  },
  {
   "cell_type": "markdown",
   "metadata": {},
   "source": [
    "<div class=\"alert alert-block alert-info\">\n",
    "    <h1>Importing and Exporting Data Files with pandas</h1>\n",
    "    <p></p>\n",
    " </div>"
   ]
  },
  {
   "cell_type": "code",
   "execution_count": 8,
   "metadata": {},
   "outputs": [],
   "source": [
    "# With the pandas module, we may read the same cvs file as a DataFrame into our working environment.\n",
    "# Assuming that you have already installed pandas on your machines, \n",
    "# import pandas under the alias 'pd' for this coding session\n",
    "\n",
    "import pandas as pd\n"
   ]
  },
  {
   "cell_type": "code",
   "execution_count": 9,
   "metadata": {},
   "outputs": [
    {
     "data": {
      "text/html": [
       "<div>\n",
       "<style scoped>\n",
       "    .dataframe tbody tr th:only-of-type {\n",
       "        vertical-align: middle;\n",
       "    }\n",
       "\n",
       "    .dataframe tbody tr th {\n",
       "        vertical-align: top;\n",
       "    }\n",
       "\n",
       "    .dataframe thead th {\n",
       "        text-align: right;\n",
       "    }\n",
       "</style>\n",
       "<table border=\"1\" class=\"dataframe\">\n",
       "  <thead>\n",
       "    <tr style=\"text-align: right;\">\n",
       "      <th></th>\n",
       "      <th>Year</th>\n",
       "      <th>Dec</th>\n",
       "      <th>Jan</th>\n",
       "      <th>Feb</th>\n",
       "    </tr>\n",
       "  </thead>\n",
       "  <tbody>\n",
       "    <tr>\n",
       "      <th>0</th>\n",
       "      <td>2017</td>\n",
       "      <td>12.4</td>\n",
       "      <td>14.3</td>\n",
       "      <td>16.6</td>\n",
       "    </tr>\n",
       "    <tr>\n",
       "      <th>1</th>\n",
       "      <td>2018</td>\n",
       "      <td>16.3</td>\n",
       "      <td>22.2</td>\n",
       "      <td>20.1</td>\n",
       "    </tr>\n",
       "  </tbody>\n",
       "</table>\n",
       "</div>"
      ],
      "text/plain": [
       "   Year   Dec   Jan   Feb\n",
       "0  2017  12.4  14.3  16.6\n",
       "1  2018  16.3  22.2  20.1"
      ]
     },
     "execution_count": 9,
     "metadata": {},
     "output_type": "execute_result"
    }
   ],
   "source": [
    "# Create a variable pdWinter to store the csv file as a DataFrame.\n",
    "\n",
    "pdWinter = pd.read_csv(\"winter.csv\", sep=\",\")\n",
    "\n",
    "# Print out the output of your variable. \n",
    "# As you can see, pandas and its DataFrames cope nicely with outputting mixed data.\n",
    "\n",
    "pdWinter"
   ]
  },
  {
   "cell_type": "code",
   "execution_count": 10,
   "metadata": {},
   "outputs": [
    {
     "data": {
      "text/html": [
       "<div>\n",
       "<style scoped>\n",
       "    .dataframe tbody tr th:only-of-type {\n",
       "        vertical-align: middle;\n",
       "    }\n",
       "\n",
       "    .dataframe tbody tr th {\n",
       "        vertical-align: top;\n",
       "    }\n",
       "\n",
       "    .dataframe thead th {\n",
       "        text-align: right;\n",
       "    }\n",
       "</style>\n",
       "<table border=\"1\" class=\"dataframe\">\n",
       "  <thead>\n",
       "    <tr style=\"text-align: right;\">\n",
       "      <th></th>\n",
       "      <th>Year</th>\n",
       "      <th>Dec</th>\n",
       "      <th>Jan</th>\n",
       "      <th>Feb</th>\n",
       "    </tr>\n",
       "  </thead>\n",
       "  <tbody>\n",
       "    <tr>\n",
       "      <th>0</th>\n",
       "      <td>2017</td>\n",
       "      <td>12.4</td>\n",
       "      <td>14.3</td>\n",
       "      <td>16.6</td>\n",
       "    </tr>\n",
       "    <tr>\n",
       "      <th>1</th>\n",
       "      <td>2018</td>\n",
       "      <td>16.3</td>\n",
       "      <td>22.2</td>\n",
       "      <td>20.1</td>\n",
       "    </tr>\n",
       "    <tr>\n",
       "      <th>2</th>\n",
       "      <td>2019</td>\n",
       "      <td>9.0</td>\n",
       "      <td>7.0</td>\n",
       "      <td>11.0</td>\n",
       "    </tr>\n",
       "  </tbody>\n",
       "</table>\n",
       "</div>"
      ],
      "text/plain": [
       "   Year   Dec   Jan   Feb\n",
       "0  2017  12.4  14.3  16.6\n",
       "1  2018  16.3  22.2  20.1\n",
       "2  2019   9.0   7.0  11.0"
      ]
     },
     "execution_count": 10,
     "metadata": {},
     "output_type": "execute_result"
    }
   ],
   "source": [
    "# Add a new row to pdWinter to include the forecast for winter 2019.\n",
    "# First we need to define the data for the new row we want to add. This is where dictionaries come in handy.\n",
    "\n",
    "row = pd.Series({'Year':2019,'Dec':9,'Jan':7,'Feb':11}, name=2)\n",
    "\n",
    "# Then use the append() method to add the row variable to pdWinter.\n",
    "\n",
    "Winter2017_2019 = pdWinter.append(row)\n",
    "\n",
    "Winter2017_2019"
   ]
  },
  {
   "cell_type": "code",
   "execution_count": 11,
   "metadata": {},
   "outputs": [
    {
     "data": {
      "text/plain": [
       "0    12.4\n",
       "1    16.3\n",
       "2     9.0\n",
       "Name: Dec, dtype: float64"
      ]
     },
     "execution_count": 11,
     "metadata": {},
     "output_type": "execute_result"
    }
   ],
   "source": [
    "# We can return the values by column names\n",
    "\n",
    "Winter2017_2019['Dec']"
   ]
  },
  {
   "cell_type": "code",
   "execution_count": 12,
   "metadata": {},
   "outputs": [
    {
     "data": {
      "text/html": [
       "<div>\n",
       "<style scoped>\n",
       "    .dataframe tbody tr th:only-of-type {\n",
       "        vertical-align: middle;\n",
       "    }\n",
       "\n",
       "    .dataframe tbody tr th {\n",
       "        vertical-align: top;\n",
       "    }\n",
       "\n",
       "    .dataframe thead th {\n",
       "        text-align: right;\n",
       "    }\n",
       "</style>\n",
       "<table border=\"1\" class=\"dataframe\">\n",
       "  <thead>\n",
       "    <tr style=\"text-align: right;\">\n",
       "      <th></th>\n",
       "      <th>Year</th>\n",
       "      <th>Dec</th>\n",
       "      <th>Jan</th>\n",
       "      <th>Feb</th>\n",
       "      <th>March</th>\n",
       "      <th>April</th>\n",
       "      <th>May</th>\n",
       "    </tr>\n",
       "  </thead>\n",
       "  <tbody>\n",
       "    <tr>\n",
       "      <th>0</th>\n",
       "      <td>2017</td>\n",
       "      <td>12.4</td>\n",
       "      <td>14.3</td>\n",
       "      <td>16.6</td>\n",
       "      <td>15.3</td>\n",
       "      <td>17.1</td>\n",
       "      <td>24.2</td>\n",
       "    </tr>\n",
       "    <tr>\n",
       "      <th>1</th>\n",
       "      <td>2018</td>\n",
       "      <td>16.3</td>\n",
       "      <td>22.2</td>\n",
       "      <td>20.1</td>\n",
       "      <td>16.7</td>\n",
       "      <td>17.5</td>\n",
       "      <td>20.0</td>\n",
       "    </tr>\n",
       "  </tbody>\n",
       "</table>\n",
       "</div>"
      ],
      "text/plain": [
       "   Year   Dec   Jan   Feb  March  April   May\n",
       "0  2017  12.4  14.3  16.6   15.3   17.1  24.2\n",
       "1  2018  16.3  22.2  20.1   16.7   17.5  20.0"
      ]
     },
     "execution_count": 12,
     "metadata": {},
     "output_type": "execute_result"
    }
   ],
   "source": [
    "# We can also add new columns to the existing data in DataFrames. This time we want to add temperatures for spring months.\n",
    "# We  can use pandas-specific method assign() and lists.\n",
    "\n",
    "Winter_Spring = pdWinter.assign(March=[15.3, 16.7], April=[17.1, 17.5], May=[24.2, 20])\n",
    "\n",
    "Winter_Spring"
   ]
  },
  {
   "cell_type": "code",
   "execution_count": 13,
   "metadata": {},
   "outputs": [],
   "source": [
    "# We can finally export the expanded data from the 'Winter_Spring' DataFrame to a csv file.\n",
    "# The argument index=False will prevent from exporting the index column into an external file.\n",
    "\n",
    "Winter_Spring.to_csv(\"winter_spring.csv\", index=False)"
   ]
  },
  {
   "cell_type": "code",
   "execution_count": 14,
   "metadata": {},
   "outputs": [
    {
     "name": "stdout",
     "output_type": "stream",
     "text": [
      "[[2017.    12.4   14.3   16.6   15.3   17.1   24.2]\n",
      " [2018.    16.3   22.2   20.1   16.7   17.5   20. ]]\n"
     ]
    }
   ],
   "source": [
    "# We can convert pandas' DataFrames to Numpy arrays for further statistical manipulation:\n",
    "\n",
    "npTemps = np.array(Winter_Spring)\n",
    "\n",
    "print(npTemps)\n",
    "\n",
    "# In the 2nd part of this class, we did the opposite: we converted a Numpy array into a pandas' DataFrame"
   ]
  }
 ],
 "metadata": {
  "kernelspec": {
   "display_name": "Python 3",
   "language": "python",
   "name": "python3"
  },
  "language_info": {
   "codemirror_mode": {
    "name": "ipython",
    "version": 3
   },
   "file_extension": ".py",
   "mimetype": "text/x-python",
   "name": "python",
   "nbconvert_exporter": "python",
   "pygments_lexer": "ipython3",
   "version": "3.7.3"
  }
 },
 "nbformat": 4,
 "nbformat_minor": 2
}
