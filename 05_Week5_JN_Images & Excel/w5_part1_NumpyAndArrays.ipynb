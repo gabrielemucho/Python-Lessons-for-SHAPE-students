{
 "cells": [
  {
   "cell_type": "markdown",
   "metadata": {},
   "source": [
    "<div class=\"alert alert-block alert-info\">\n",
    "<h2>NumPy Arrays</h2>\n",
    "<ul>\n",
    "<li>Both lists and dictionaries have their limitations, e.g. they are not flexible in statistical modelling and data manipulation. Yet two advanced data structures called <b>Arrays</b> and <b>Data Frames</b> are ideal for arithmetic data manipulation.</li>\n",
    "<li> Yet Python does not have built-in support for arrays and data frames. For that, we'll need to work with the <b>NumPy</b> and <b>pandas</b> modules which need to be installed first on your machines and then imported into the working environment of Jupyter Notebook or any other coding environment.</li>\n",
    "<li>Arrays and lists share some similarities, but the difference between the two is key to what you can do to data.</li>\n",
    "<li>On the similarity side, arrays and lists can both 1) store data; 2) store any type of data (numbers, characters etc); 3) be indexed and iterated through.</li>\n",
    "<li>However, most of arithmetic manipulation that can be performed on NymPy arrays cannot be performed on Python lists.</li>\n",
    "</ul>\n",
    "</div>"
   ]
  },
  {
   "cell_type": "code",
   "execution_count": 1,
   "metadata": {},
   "outputs": [
    {
     "data": {
      "text/plain": [
       "[4, 8, 12]"
      ]
     },
     "execution_count": 1,
     "metadata": {},
     "output_type": "execute_result"
    }
   ],
   "source": [
    "# Let's create a new list with numerical values and store it in the variable called myList.\n",
    "\n",
    "myList = [4, 8, 12]\n",
    "myList"
   ]
  },
  {
   "cell_type": "code",
   "execution_count": 2,
   "metadata": {
    "tags": [
     "raises-exception"
    ]
   },
   "outputs": [
    {
     "ename": "TypeError",
     "evalue": "unsupported operand type(s) for /: 'list' and 'int'",
     "output_type": "error",
     "traceback": [
      "\u001b[1;31m---------------------------------------------------------------------------\u001b[0m",
      "\u001b[1;31mTypeError\u001b[0m                                 Traceback (most recent call last)",
      "\u001b[1;32m<ipython-input-2-8b96d00f8dba>\u001b[0m in \u001b[0;36m<module>\u001b[1;34m\u001b[0m\n\u001b[0;32m      1\u001b[0m \u001b[1;31m# But see what happens when you try to perform some math, e.g. divide each value by 2\u001b[0m\u001b[1;33m\u001b[0m\u001b[1;33m\u001b[0m\u001b[1;33m\u001b[0m\u001b[0m\n\u001b[0;32m      2\u001b[0m \u001b[1;33m\u001b[0m\u001b[0m\n\u001b[1;32m----> 3\u001b[1;33m \u001b[0mmyList\u001b[0m \u001b[1;33m=\u001b[0m \u001b[0mmyList\u001b[0m\u001b[1;33m/\u001b[0m\u001b[1;36m2\u001b[0m\u001b[1;33m\u001b[0m\u001b[1;33m\u001b[0m\u001b[0m\n\u001b[0m\u001b[0;32m      4\u001b[0m \u001b[0mprint\u001b[0m\u001b[1;33m(\u001b[0m\u001b[0mmyList\u001b[0m\u001b[1;33m)\u001b[0m\u001b[1;33m\u001b[0m\u001b[1;33m\u001b[0m\u001b[0m\n",
      "\u001b[1;31mTypeError\u001b[0m: unsupported operand type(s) for /: 'list' and 'int'"
     ]
    }
   ],
   "source": [
    "# But see what happens when you try to perform some math, e.g. divide each value by 2\n",
    "\n",
    "myList = myList/2\n",
    "print(myList)"
   ]
  },
  {
   "cell_type": "code",
   "execution_count": 3,
   "metadata": {},
   "outputs": [
    {
     "name": "stdout",
     "output_type": "stream",
     "text": [
      "2.0\n",
      "4.0\n",
      "6.0\n"
     ]
    }
   ],
   "source": [
    "# the way around the problem is to loop trough each item in the list and divide each item by 2\n",
    "\n",
    "for i in myList:\n",
    "    print(i/2)\n",
    "\n",
    "# But then we also need to assemble each divided item back into a list"
   ]
  },
  {
   "cell_type": "code",
   "execution_count": 4,
   "metadata": {},
   "outputs": [
    {
     "data": {
      "text/plain": [
       "[2, 4, 6]"
      ]
     },
     "execution_count": 4,
     "metadata": {},
     "output_type": "execute_result"
    }
   ],
   "source": [
    "# to address the above problem, write a loop but also start with an epty list to assemble new values\n",
    "\n",
    "myList2 = []\n",
    "\n",
    "for i in myList:\n",
    "    x = int(i/2) # the division will result in floats, hence pass the division result to the int() function\n",
    "    myList2.append(x)\n",
    "    \n",
    "myList2"
   ]
  },
  {
   "cell_type": "code",
   "execution_count": 5,
   "metadata": {},
   "outputs": [
    {
     "data": {
      "text/plain": [
       "array([ 4,  8, 12])"
      ]
     },
     "execution_count": 5,
     "metadata": {},
     "output_type": "execute_result"
    }
   ],
   "source": [
    "# That's right, the code throws an error!\n",
    "# Unlike lists, NumPy arrays have to be declared by using the keyword 'array'. \n",
    "# Array syntax requires that you put lists in parenthesis.\n",
    "# Let's take the values of myList and create an array, but first import the numpy package to use the functionality of arrays. \n",
    "# Use the alias 'np' to make it quicker to declare the methods specific to the numpy module.\n",
    "\n",
    "import numpy as np\n",
    "\n",
    "myArray = np.array([4, 8, 12])\n",
    "\n",
    "myArray"
   ]
  },
  {
   "cell_type": "code",
   "execution_count": 6,
   "metadata": {},
   "outputs": [
    {
     "data": {
      "text/plain": [
       "numpy.ndarray"
      ]
     },
     "execution_count": 6,
     "metadata": {},
     "output_type": "execute_result"
    }
   ],
   "source": [
    "# With the type() function check what data structure is myArray\n",
    "\n",
    "type(myArray)\n",
    "\n",
    "# Numpy creates and works in nd arrays"
   ]
  },
  {
   "cell_type": "code",
   "execution_count": 7,
   "metadata": {},
   "outputs": [
    {
     "data": {
      "text/plain": [
       "array([2., 4., 6.])"
      ]
     },
     "execution_count": 7,
     "metadata": {},
     "output_type": "execute_result"
    }
   ],
   "source": [
    "# Once we convert a Python list into a Numpy array, the division operation is faster and code-efficient\n",
    "\n",
    "myArray2 = myArray/2\n",
    "\n",
    "myArray2"
   ]
  },
  {
   "cell_type": "code",
   "execution_count": 8,
   "metadata": {},
   "outputs": [
    {
     "name": "stdout",
     "output_type": "stream",
     "text": [
      "2.0\n",
      "4.0\n",
      "6.0\n"
     ]
    }
   ],
   "source": [
    "# Like lists, arrays can be iterated \n",
    "\n",
    "for i in myArray2:\n",
    "    print(i)"
   ]
  },
  {
   "cell_type": "code",
   "execution_count": 9,
   "metadata": {},
   "outputs": [
    {
     "data": {
      "text/plain": [
       "[[4, 8, 12, 16, 20, 2, 50], [5, 7, 30, 4, 1, 15, 100]]"
      ]
     },
     "execution_count": 9,
     "metadata": {},
     "output_type": "execute_result"
    }
   ],
   "source": [
    "# Arrays may have multiple dimensions.\n",
    "\n",
    "# myArray above is an example of 1-dimensional array.\n",
    "\n",
    "# We can use nested lists as 2-dimentional or n-dimentional arrays, for example:\n",
    "\n",
    "ListAsArray = [[4, 8, 12, 16, 20, 2, 50], [5, 7, 30, 4, 1, 15, 100]]\n",
    "ListAsArray\n",
    "\n",
    "# Note that this is a tuple in terms of data type"
   ]
  },
  {
   "cell_type": "markdown",
   "metadata": {},
   "source": [
    "<div class=\"alert alert-block alert-info\">\n",
    "<p>This is the view of the 2-d array created in the code cell above. Horizontally, we have two rows. Vertically, we have seven columns.We can query and manipulate data values in this 2-d array by rows and by columns.</p><br>\n",
    "<img src=\"array.JPG\">\n",
    "</div>"
   ]
  },
  {
   "cell_type": "code",
   "execution_count": 10,
   "metadata": {},
   "outputs": [
    {
     "data": {
      "text/plain": [
       "19.571428571428573"
      ]
     },
     "execution_count": 10,
     "metadata": {},
     "output_type": "execute_result"
    }
   ],
   "source": [
    "# We can calculate the mean of values contained in the 2-d array with numpy's method mean().\n",
    "\n",
    "np.mean(ListAsArray)"
   ]
  },
  {
   "cell_type": "code",
   "execution_count": 11,
   "metadata": {},
   "outputs": [
    {
     "data": {
      "text/plain": [
       "1"
      ]
     },
     "execution_count": 11,
     "metadata": {},
     "output_type": "execute_result"
    }
   ],
   "source": [
    "# We can search for the smallest value in the array with the numpy's min() method.\n",
    "\n",
    "np.min(ListAsArray)"
   ]
  },
  {
   "cell_type": "code",
   "execution_count": 12,
   "metadata": {},
   "outputs": [
    {
     "data": {
      "text/plain": [
       "100"
      ]
     },
     "execution_count": 12,
     "metadata": {},
     "output_type": "execute_result"
    }
   ],
   "source": [
    "# We can identify the biggest value, no matter how big is our data.\n",
    "\n",
    "np.max(ListAsArray)"
   ]
  },
  {
   "cell_type": "code",
   "execution_count": 13,
   "metadata": {},
   "outputs": [
    {
     "data": {
      "text/plain": [
       "array([2, 1])"
      ]
     },
     "execution_count": 13,
     "metadata": {},
     "output_type": "execute_result"
    }
   ],
   "source": [
    "# If the axis argument is set to 1, it will return values by row.\n",
    "# Thus we can pick up the lowest values in each row of our 2-dimensional array.\n",
    "\n",
    "np.min(ListAsArray, axis=1)"
   ]
  },
  {
   "cell_type": "markdown",
   "metadata": {},
   "source": [
    "<img src=\"arrayTwo.JPG\">"
   ]
  },
  {
   "cell_type": "code",
   "execution_count": 14,
   "metadata": {},
   "outputs": [
    {
     "data": {
      "text/plain": [
       "array([ 4,  7, 12,  4,  1,  2, 50])"
      ]
     },
     "execution_count": 14,
     "metadata": {},
     "output_type": "execute_result"
    }
   ],
   "source": [
    "# If the axis is set to 0, it will return values by column.\n",
    "# The code below will return the smallest values found in each column.\n",
    "\n",
    "np.min(ListAsArray, axis=0)"
   ]
  },
  {
   "cell_type": "markdown",
   "metadata": {},
   "source": [
    "<img src=\"arrayThree.JPG\">"
   ]
  },
  {
   "cell_type": "markdown",
   "metadata": {},
   "source": [
    "<div class=\"alert alert-block alert-info\">\n",
    "<p>Although we've seen above that we can use Python nested lists to serve the purpose of multi-dimensional arrays, Python lists are slow to process.</p>\n",
    "\n",
    "<p>NumPy aims to provide an array object that is up to 50x faster that traditional Python lists.</p>"
   ]
  },
  {
   "cell_type": "code",
   "execution_count": 15,
   "metadata": {},
   "outputs": [
    {
     "data": {
      "text/plain": [
       "array([[  4,   8,  12,  16,  20,   2,  50],\n",
       "       [  5,   7,  30,   4,   1,  15, 100]])"
      ]
     },
     "execution_count": 15,
     "metadata": {},
     "output_type": "execute_result"
    }
   ],
   "source": [
    "# Let's create a 2-dimensional Numpy array using its array() method.\n",
    "\n",
    "NpArray = np.array([[4, 8, 12, 16, 20, 2, 50], [5, 7, 30, 4, 1, 15, 100]])\n",
    "NpArray"
   ]
  },
  {
   "cell_type": "code",
   "execution_count": 16,
   "metadata": {},
   "outputs": [
    {
     "data": {
      "text/plain": [
       "array([[  4,   8,  12,  16,  20,   2,  50],\n",
       "       [  5,   7,  30,   4,   1,  15, 100],\n",
       "       [220,  10, 300, 160,  56,   2, 135],\n",
       "       [ 15,  37, 300,  42,  41, 415,  12]])"
      ]
     },
     "execution_count": 16,
     "metadata": {},
     "output_type": "execute_result"
    }
   ],
   "source": [
    "# We can concatenate or, in other words, put together several Numpy arrays\n",
    "# the two arrays we want to combine must have the same number of dimensions\n",
    "\n",
    "NpArray2 = np.array([[220, 10, 300, 160, 56, 2, 135], [15, 37, 300, 42, 41, 415, 12]])\n",
    "\n",
    "NpArray3 = np.concatenate((NpArray,NpArray2))\n",
    "\n",
    "# The resulting array now has 4 dimensions\n",
    "\n",
    "NpArray3"
   ]
  },
  {
   "cell_type": "code",
   "execution_count": 17,
   "metadata": {},
   "outputs": [
    {
     "data": {
      "text/plain": [
       "array([[  4,   8,  12,  16,  20,   2,  50,   5,   7,  30,   4,   1,  15,\n",
       "        100],\n",
       "       [220,  10, 300, 160,  56,   2, 135,  15,  37, 300,  42,  41, 415,\n",
       "         12]])"
      ]
     },
     "execution_count": 17,
     "metadata": {},
     "output_type": "execute_result"
    }
   ],
   "source": [
    "# We can reshape arrays by changing their dimensions with the Numpy's reshape() method.\n",
    "# The above array is of size 28 so we can reshape it into 2 dimensions, each with 14 elements\n",
    "\n",
    "NpArray4 = NpArray3.reshape(2, 14)\n",
    "\n",
    "\n",
    "NpArray4"
   ]
  },
  {
   "cell_type": "code",
   "execution_count": 18,
   "metadata": {},
   "outputs": [
    {
     "data": {
      "text/plain": [
       "array([  4,   8,  12,  16,  20,   2,  50,   5,   7,  30,   4,   1,  15,\n",
       "       100, 220,  10, 300, 160,  56,   2, 135,  15,  37, 300,  42,  41,\n",
       "       415,  12])"
      ]
     },
     "execution_count": 18,
     "metadata": {},
     "output_type": "execute_result"
    }
   ],
   "source": [
    "# We can reshape a multidimensional array into a 1-d array\n",
    "# The conversion of n-dimensional arrays into a 1-d array is called flatenning\n",
    "\n",
    "NpArray5 = NpArray4.reshape(-1)\n",
    "NpArray5"
   ]
  },
  {
   "cell_type": "code",
   "execution_count": 19,
   "metadata": {},
   "outputs": [
    {
     "data": {
      "text/plain": [
       "array([220, 300, 160, 135, 300, 415])"
      ]
     },
     "execution_count": 19,
     "metadata": {},
     "output_type": "execute_result"
    }
   ],
   "source": [
    "# We can search and filter the values of arrays by using loops and conditionals, as we did with lists\n",
    "# But with Numpy arrays, we can achieve it in a more straighforward and faster way\n",
    "\n",
    "# Let's filter the flattened NpArray5 to return only values higher than 100\n",
    "\n",
    "Filter = NpArray5 > 100\n",
    "\n",
    "filteredArr = NpArray5[Filter]\n",
    "\n",
    "filteredArr\n",
    "\n",
    "# With lists, this fast way won't be possible"
   ]
  },
  {
   "cell_type": "code",
   "execution_count": 20,
   "metadata": {},
   "outputs": [
    {
     "data": {
      "text/plain": [
       "135"
      ]
     },
     "execution_count": 20,
     "metadata": {},
     "output_type": "execute_result"
    }
   ],
   "source": [
    "# And as above with lists that we used for the purpose of arrays, we can model statistically Numpy arrays\n",
    "\n",
    "# The Numpy's min() method will return the smallest value in a Numpy array.\n",
    "\n",
    "np.min(filteredArr)"
   ]
  }
 ],
 "metadata": {
  "kernelspec": {
   "display_name": "Python 3",
   "language": "python",
   "name": "python3"
  },
  "language_info": {
   "codemirror_mode": {
    "name": "ipython",
    "version": 3
   },
   "file_extension": ".py",
   "mimetype": "text/x-python",
   "name": "python",
   "nbconvert_exporter": "python",
   "pygments_lexer": "ipython3",
   "version": "3.7.3"
  }
 },
 "nbformat": 4,
 "nbformat_minor": 2
}
