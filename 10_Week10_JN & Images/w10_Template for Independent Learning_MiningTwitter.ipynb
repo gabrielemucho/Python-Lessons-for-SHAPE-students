{
 "cells": [
  {
   "cell_type": "markdown",
   "metadata": {},
   "source": [
    "<div class=\"alert alert-block alert-info\">\n",
    "    <h2>Week 10. Mining Tweet Data Object (Template)</h2><br>\n",
    "    <p>In this class, we'll put the skills of harvesting Twitter data demoed in Parts 2-3 of Week 10 to practice.</p>\n",
    "</div>"
   ]
  },
  {
   "cell_type": "code",
   "execution_count": 1,
   "metadata": {},
   "outputs": [],
   "source": [
    "# Load the twython library to your working environment.\n",
    "\n",
    "\n"
   ]
  },
  {
   "cell_type": "code",
   "execution_count": 2,
   "metadata": {},
   "outputs": [],
   "source": [
    "# Create 4 variables and assign 2 keys and 2 tokens as their values \n",
    "# Don't show to or share your credentials with others\n",
    "\n",
    "\n"
   ]
  },
  {
   "cell_type": "code",
   "execution_count": 3,
   "metadata": {},
   "outputs": [],
   "source": [
    "# Establish a handshake with Twitter API for authentication by combining with tw()\n",
    "# the 4 variables in which you stored your credentials\n",
    "\n",
    "\n"
   ]
  },
  {
   "cell_type": "code",
   "execution_count": 4,
   "metadata": {},
   "outputs": [],
   "source": [
    "# From your coding environment, post a tweet on your Twitter account  "
   ]
  },
  {
   "cell_type": "code",
   "execution_count": 5,
   "metadata": {},
   "outputs": [],
   "source": [
    "# Search for Twitter data by someone's screen name by using search() and setting the \n",
    "# q keyword argument to that name\n",
    "# Call the variable to which you assigned your search results to view them in the output"
   ]
  },
  {
   "cell_type": "code",
   "execution_count": 6,
   "metadata": {},
   "outputs": [],
   "source": [
    "# Search for Twitter data by a specific topics by using search() and setting the\n",
    "# q keyword argument to #sometopic\n",
    "# Call the variable to which you assigned your search results to view them in the output\n",
    "\n"
   ]
  },
  {
   "cell_type": "code",
   "execution_count": 7,
   "metadata": {},
   "outputs": [],
   "source": [
    "# For the variable to which you assigned your search results by a topic,\n",
    "# set the slicer to the string value of 'statuses' to get a collection of the most recent posts \n",
    "# Call the variable to which you assigned your search results to view them in the output\n"
   ]
  },
  {
   "cell_type": "code",
   "execution_count": 8,
   "metadata": {},
   "outputs": [],
   "source": [
    "# Check how many tweets you've sliced off and stored in the variable in the code cell above\n",
    "\n"
   ]
  },
  {
   "cell_type": "code",
   "execution_count": 9,
   "metadata": {},
   "outputs": [],
   "source": [
    "# Loop through the variable that contains the most recent tweets on the topic of your choosing\n",
    "# and fetch 1) the unique number, 2) the time at which the msg was posted,\n",
    "# 3) the content of the msg, 4) the number of followers, 5) the number of tweets \n",
    "# user liked (favorites), 6) the number of friends, 7) the number of retweets\n",
    "# Inside the loop, use list comprehensions\n",
    "# Call all 5 variables created inside the loop to view the results\n"
   ]
  },
  {
   "cell_type": "code",
   "execution_count": 10,
   "metadata": {},
   "outputs": [],
   "source": [
    "# Load pandas and the .pyplot sublibrary of matplotlib to your working environment\n",
    "\n"
   ]
  },
  {
   "cell_type": "code",
   "execution_count": 11,
   "metadata": {},
   "outputs": [],
   "source": [
    "# Create a DataFrame that combines all 7 variables extracted with the loop above\n",
    "# Call the variable to view the data table in the output\n",
    "\n"
   ]
  },
  {
   "cell_type": "code",
   "execution_count": 12,
   "metadata": {},
   "outputs": [],
   "source": [
    "# Visualize a line plot that plots a trend for one of the data variable of your choosing"
   ]
  },
  {
   "cell_type": "code",
   "execution_count": 13,
   "metadata": {},
   "outputs": [],
   "source": [
    "# Plot the correlation between two variables in a scatter plot \n",
    "\n",
    "\n",
    "\n",
    "# Export the scatter plot as an image file and save in the directory\n"
   ]
  },
  {
   "cell_type": "code",
   "execution_count": 14,
   "metadata": {},
   "outputs": [],
   "source": [
    "# Write a function for the above in which you:\n",
    "\n",
    "# 1) create variables for storing your credentials \n",
    "# 2) and create a handshake with Twitter API\n",
    "# 3) search for tweets on a specific topic\n",
    "# 4) slice off the recent statuses\n",
    "# 5) extract id, created_at, text, followers, favourites, friends and retweets with a for-loop\n",
    "# 6) convert 4 lists extracted with the loop into a DataFrame\n",
    "# 7) plot two variables from the DataFrame in a scatter plot\n",
    "# 8) save the scatter plot as an external image file\n",
    "\n"
   ]
  }
 ],
 "metadata": {
  "kernelspec": {
   "display_name": "Python 3",
   "language": "python",
   "name": "python3"
  },
  "language_info": {
   "codemirror_mode": {
    "name": "ipython",
    "version": 3
   },
   "file_extension": ".py",
   "mimetype": "text/x-python",
   "name": "python",
   "nbconvert_exporter": "python",
   "pygments_lexer": "ipython3",
   "version": "3.7.3"
  }
 },
 "nbformat": 4,
 "nbformat_minor": 2
}
