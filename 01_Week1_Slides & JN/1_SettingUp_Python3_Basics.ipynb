{
 "cells": [
  {
   "cell_type": "markdown",
   "metadata": {},
   "source": [
    "<div class=\"alert alert-block alert-info\">\n",
    "    <h2>1. Setting Up: Python3 Basics</h2>\n",
    "</div>"
   ]
  },
  {
   "cell_type": "markdown",
   "metadata": {},
   "source": [
    "<div class=\"alert-alert-block alert-danger\">\n",
    "<h3>1. Markdown and Code</h3>\n",
    "\n",
    "<p>Jupyter notebooks combine documentation blocks and code blocks. The documentation mode is useful to integrate lengthier explanations or even entire narratives with the actual Python code that you can test and run in the same environment.</p><br>\n",
    "<div>"
   ]
  },
  {
   "cell_type": "markdown",
   "metadata": {},
   "source": [
    "To produce documentation block, you need to choose the documentation mode for your cell first. To do that, you need to click on 'Cell' on the toolbar above, then click 'Cell type' in the drop-down menu, which gives you another list from which you need to choose 'Markdown' by clicking on it. Once you complete these steps, your cell is in the markdown mode.\n",
    "\n",
    "To produce documentation, you may use two formatting languages - either Markdown mark-up or HTML mark-up. While the Markdown language uses various symbols like a hashtag  # or an asterisk  *  to create different text styles, HTML mark-up uses tags at the beginning and end of the text string that you want to format in some ways.\n",
    "\n",
    "For example, you use a variable number of # to create headings in Markdown. The HTML language will use the tags to create its headings. While you might find the Markdown easier to pick up, HTML offers more formatting and styling choices. Try both styles as below:\n",
    "\n",
    "## The title of this lesson\n",
    "\n",
    "<h2>The title of this lesson</h2>\n",
    "\n",
    "Once you write down the above options, press both <kbd> Ctrl </kbd> + <kbd> Enter </kbd> on your keyboard. The output will look exactly the same. You may combine both styles if you wish, but better stick to one.\n",
    "\n",
    "To get out of the current cell and start a new one, press <kbd> Esc </kbd> on your keyboard and then hit the key <kbd> B </kbd> to insert a new cell below. \n",
    "\n",
    "The new cell will be automatically generated in the code mode. If you want to continue producing a document block, you need to choose the 'markdown' mode from the toolbar again. \n",
    "\n",
    "If you want to insert a new cell right above the current cell, first press <kbd> Esc </kbd> to escape the cell and then hit the key <kbd> A </kbd> to produce a new cell above."
   ]
  },
  {
   "cell_type": "markdown",
   "metadata": {},
   "source": [
    "It is easy to create paragraphs in the markdown language. You just need to hit the space bar twice at the end of you paragraph before you move to a new one.  \n",
    "Alternatively, you may use the specific HTML tags as below:\n",
    "\n",
    "<h2>This is a heading</h2>\n",
    "<p>This is a paragraph. </p>\n",
    "\n",
    "If you use HTML, you do not need to hit the space bar every time you want to move to a new paragraph. In fact, you may write all your paragraphs in one continuous line. HTML will take care of how your text looks like, as long as you keep wrapping up text strings with relevant tags."
   ]
  },
  {
   "cell_type": "markdown",
   "metadata": {},
   "source": [
    "##### To learn more about markdown and HTML mark-up, go here: https://www.markdownguide.org/basic-syntax/. The site offers a side-by-side comparison of both styles in creating lists, tables and many other formatting features."
   ]
  },
  {
   "cell_type": "markdown",
   "metadata": {},
   "source": [
    "<div class=\"alert-alert-block alert-danger\">\n",
    "<h3>2. Code in Python 3</h3><br>\n",
    "<p>\n",
    "Inside code cells, we may combine code lines and our comments. To create a comment line, you need to start it with the hashtag. The cell below, for example, starts with one comment line followed by a code line. Any Python interpreter will understand the hashtag symbol and will execute only the code part.</p>\n",
    "<p>You will be expected to use comments a lot in your scripts, especially in your projects.</p>\n",
    "<ul><li>Comments are handy when you want to leave a message to other coders in the projects you share with others.</li>\n",
    "<li>Comments also have an educational or instructional purpose. They explain what each coding step is meant to achieve.</li>\n",
    "<li>You also need them to acknowledge the provenance of the code authored by others that you reuse and recycle in your scripts.</li></ul>\n",
    "\n",
    "<p>Let's start coding. Type the text as below and hit <kbd>Ctrl</kbd> + <kbd>Enter</kbd> to see the output.\n",
    "The output is color marked as Out[]. It shows the result once your code is executed.\n",
    "</p>\n",
    "</div>"
   ]
  },
  {
   "cell_type": "markdown",
   "metadata": {},
   "source": [
    "<h2>STRINGS</h2>"
   ]
  },
  {
   "cell_type": "code",
   "execution_count": 1,
   "metadata": {},
   "outputs": [
    {
     "data": {
      "text/plain": [
       "'Hello world'"
      ]
     },
     "execution_count": 1,
     "metadata": {},
     "output_type": "execute_result"
    }
   ],
   "source": [
    "# Let's enter some text. Textual data are called strings in Python.\n",
    "# Strings may contain separate characters, words, phrases, sentences or long pieces of text.\n",
    "\n",
    "'Hello world'"
   ]
  },
  {
   "cell_type": "code",
   "execution_count": 2,
   "metadata": {},
   "outputs": [
    {
     "data": {
      "text/plain": [
       "'Hello again!'"
      ]
     },
     "execution_count": 2,
     "metadata": {},
     "output_type": "execute_result"
    }
   ],
   "source": [
    "# Note that you need to use double or single quotes to enter textual data. Both choices are good, just be consistent throughout.\n",
    "\n",
    "\"Hello again!\"\n",
    "\n",
    "# That's not all. Strings can be wrapped with triple quotes \"\"\" Hello again! \"\"\""
   ]
  },
  {
   "cell_type": "code",
   "execution_count": 3,
   "metadata": {},
   "outputs": [
    {
     "ename": "SyntaxError",
     "evalue": "invalid syntax (<ipython-input-3-0e1c4f7a1560>, line 5)",
     "output_type": "error",
     "traceback": [
      "\u001b[1;36m  File \u001b[1;32m\"<ipython-input-3-0e1c4f7a1560>\"\u001b[1;36m, line \u001b[1;32m5\u001b[0m\n\u001b[1;33m    'It won't matter'\u001b[0m\n\u001b[1;37m            ^\u001b[0m\n\u001b[1;31mSyntaxError\u001b[0m\u001b[1;31m:\u001b[0m invalid syntax\n"
     ]
    }
   ],
   "source": [
    "# In most cases, it will not matter whether you choose single or double quotes as long as you are consistent to use one type.\n",
    "# However, it may matter if your string contains the apostrophe  as in \"It won't matter\".\n",
    "# If we wrap it in single quotes, you'll get the error message as below. \n",
    "\n",
    "'It won't matter'"
   ]
  },
  {
   "cell_type": "code",
   "execution_count": 6,
   "metadata": {},
   "outputs": [
    {
     "data": {
      "text/plain": [
       "\"It won't matter\""
      ]
     },
     "execution_count": 6,
     "metadata": {},
     "output_type": "execute_result"
    }
   ],
   "source": [
    "# The string is parsed from the first quote to the next one 'It won', while the following part 't matter' will be left out.\n",
    "# To fix the problem, you'll need to enclose the string in double quotes as below:\n",
    "\n",
    "\"It won't matter\""
   ]
  },
  {
   "cell_type": "code",
   "execution_count": 7,
   "metadata": {},
   "outputs": [
    {
     "data": {
      "text/plain": [
       "\"It won't matter\""
      ]
     },
     "execution_count": 7,
     "metadata": {},
     "output_type": "execute_result"
    }
   ],
   "source": [
    "# Alternatively, to escape single quotes, you may use the backslash \\  before the apostrophe sign\n",
    "\n",
    "'It won\\'t matter'"
   ]
  },
  {
   "cell_type": "code",
   "execution_count": 8,
   "metadata": {},
   "outputs": [
    {
     "data": {
      "text/plain": [
       "\"Let's print out a\\nstring that \\nspans multiple lines\""
      ]
     },
     "execution_count": 8,
     "metadata": {},
     "output_type": "execute_result"
    }
   ],
   "source": [
    "# Strings can span multiple lines. In this case, you may need to use triple quotes\n",
    "\n",
    "\"\"\"Let's print out a\n",
    "string that \n",
    "spans multiple lines\"\"\"\n",
    "\n",
    "# \\n is inserted in the print out, which marks a new line\n",
    "# The above would not work with single or double quotes"
   ]
  },
  {
   "cell_type": "code",
   "execution_count": 9,
   "metadata": {},
   "outputs": [
    {
     "name": "stdout",
     "output_type": "stream",
     "text": [
      "Hello world\n",
      "468\n"
     ]
    }
   ],
   "source": [
    "# Apart from characters and words, Python can also deal with numbers. \n",
    "# Because now we seek to get two outputs, we'll need to use the print() function to see both.\n",
    "# Pay attention that textual input needs to be put into quotes, while numeric input needs none.\n",
    "\n",
    "print('Hello world')\n",
    "print(3 + 465)"
   ]
  },
  {
   "cell_type": "markdown",
   "metadata": {},
   "source": [
    "<div class=\"alert-alert-block alert-danger\"><br>\n",
    "<h3>3. Variables</h3><br>\n",
    "<p>Our textual and numeric data may be much bigger than that above. We may deal with large collections of texts or large spreadsheets containing numbers. To import and manipulate further our data, we'll need to store it and keep it close at hand.</p>\n",
    "<p>To store data we need to create variables in two steps: 1) choose a name for your variable and 2) assign values with the sign <kbd>&nbsp;=&nbsp;</kbd>\n",
    "</p>\n",
    "<h4>Rules of Naming Variables</h4>\n",
    "<p>The names of Python variables must start either with a letter or an underscore:\n",
    "<ul><li>&lowbar;variable</li>\n",
    "<li>variable&lowbar;</li></ul>\n",
    "<p>The remainder of your variable name may consist of letters, numbers and underscores:\n",
    "<ul><li>variable1</li>\n",
    "<li>var67iable</li>\n",
    "<li>vari_able99</li></ul>\n",
    "<p>Names are also case sensitive. <i>myvariable</i>, <i>Myvariable</i> and <i>MyVariable</i>, for example, are three different objects that will be stored in different locations on the computer's memory.</p>\n",
    "<p>Make your names descriptive enough to help you remember what you stored there. In principle, you may call them whatever you want (e.g. <i>my_VanillaDreams</i>), but for practical reasons, avoid creating too imaginative, detached and long names.</p>\n",
    "<p>It is also important to make your variable names as readable as possible in the thick fabric of code. Consider which of the below is more readable:</p>\n",
    "<ul><li>mynumber</li>\n",
    "<li>my_number</li>\n",
    "<li>myNumber</li>\n",
    "<li>my_Number</li>\n",
    "</ul>\n",
    "</div>"
   ]
  },
  {
   "cell_type": "markdown",
   "metadata": {},
   "source": [
    "<h2>INTEGERS AND FLOATS</h2>"
   ]
  },
  {
   "cell_type": "code",
   "execution_count": 10,
   "metadata": {},
   "outputs": [],
   "source": [
    "# Let's create a few variables to store different data types.\n",
    "\n",
    "myText = \"Hello, you beautiful world!\"\n",
    "myNumber = 3 + 465\n",
    "myOtherNumber = (3 + 465) / 5"
   ]
  },
  {
   "cell_type": "code",
   "execution_count": 11,
   "metadata": {},
   "outputs": [
    {
     "name": "stdout",
     "output_type": "stream",
     "text": [
      "Hello, you beautiful world!\n",
      "468\n",
      "93.6\n"
     ]
    }
   ],
   "source": [
    "# You've just created three variables. Now you need to get the output by using the function print(). \n",
    " \n",
    "print(myText)\n",
    "print(myNumber)\n",
    "print(myOtherNumber)"
   ]
  },
  {
   "cell_type": "code",
   "execution_count": 12,
   "metadata": {},
   "outputs": [
    {
     "data": {
      "text/plain": [
       "2194021244400"
      ]
     },
     "execution_count": 12,
     "metadata": {},
     "output_type": "execute_result"
    }
   ],
   "source": [
    "# It all may look ephemeral and intangible in coding, but Python variables are pretty material things.\n",
    "# First, they contain data like boxes. Second, each time you create a variable, it is located on your computer memory.\n",
    "# Your variables are objects that can be found and retrieved from the memory.\n",
    "# To check the memory address of your variables, you need to pass them to the id() function as follows:\n",
    "\n",
    "id(myText)\n",
    "\n",
    "# Check the memory address of the other two variables."
   ]
  },
  {
   "cell_type": "code",
   "execution_count": 13,
   "metadata": {},
   "outputs": [
    {
     "name": "stdout",
     "output_type": "stream",
     "text": [
      "5\n",
      "I need holiday\n",
      "15\n"
     ]
    }
   ],
   "source": [
    "# Multiple value assignments to multiple variables are also possible in Python.\n",
    "\n",
    "a, b, c = (5, 'I need holiday', 15)\n",
    "\n",
    "print(a)\n",
    "print(b)\n",
    "print(c)"
   ]
  },
  {
   "cell_type": "code",
   "execution_count": 14,
   "metadata": {},
   "outputs": [
    {
     "data": {
      "text/plain": [
       "int"
      ]
     },
     "execution_count": 14,
     "metadata": {},
     "output_type": "execute_result"
    }
   ],
   "source": [
    "# Numeric data is of two types: integers and floats.\n",
    "# Integers are whole numbers without a decimal point. myNumber contains an integer 468.\n",
    "# Floats (floating-point numbers) are numbers that have a decimal point. myOtherNumber contains a float 93.6\n",
    "\n",
    "# To check what data type is contained by variables, use the function type().\n",
    "\n",
    "type(myNumber)\n",
    "\n",
    "# Now check the data type of myText and myOtherNumber."
   ]
  },
  {
   "cell_type": "code",
   "execution_count": 15,
   "metadata": {},
   "outputs": [
    {
     "data": {
      "text/plain": [
       "260.8"
      ]
     },
     "execution_count": 15,
     "metadata": {},
     "output_type": "execute_result"
    }
   ],
   "source": [
    "# You may manipulate further the created variables.\n",
    "# You may perform math operations (e.g. add, divide, multiple etc) on variables that store numeric data. \n",
    "\n",
    "myNumber_2 = (myNumber * 3 - 100) / 5\n",
    "myNumber_2"
   ]
  },
  {
   "cell_type": "code",
   "execution_count": 16,
   "metadata": {},
   "outputs": [
    {
     "name": "stdout",
     "output_type": "stream",
     "text": [
      "Hello,Hello,Hello,Hello,Hello,\n"
     ]
    }
   ],
   "source": [
    "# Math operators can be applied to strings as well.\n",
    "\n",
    "print('Hello,' * 5)"
   ]
  },
  {
   "cell_type": "code",
   "execution_count": 18,
   "metadata": {},
   "outputs": [
    {
     "data": {
      "text/plain": [
       "'Hello, you beautiful world! I hope you have good news for me.'"
      ]
     },
     "execution_count": 18,
     "metadata": {},
     "output_type": "execute_result"
    }
   ],
   "source": [
    "# Strings may be added up with the plus operator just like numbers.\n",
    "# Let's create another variable that contains a string.\n",
    "\n",
    "myOtherText = \"I hope you have good news for me.\"\n",
    "\n",
    "# Now let's concatenate (put together) the new variable with myText.\n",
    "# Mind that we need to add up three strings here: myText, ' ', and myOtherText. \n",
    "# Since a blank space in between the two sentences is also a character, we need to wrap it up with quotation marks.\n",
    "\n",
    "myChat = myText + \" \" + myOtherText\n",
    "\n",
    "myChat"
   ]
  },
  {
   "cell_type": "markdown",
   "metadata": {},
   "source": [
    "<div style=\"background-color: coral\"><br>\n",
    "<h2>SLICING & INDEXES</h2>\n",
    "<p>Remember that the first slice of a string is always in index position 0. Hence [0] it will return 'H' if our string was 'Hello'. Index position 1 will return the second charater of the string - that is, the letter 'e' and so on.</p>\n",
    "<p>We may slice off characters by going from the left to the right, or the way round.</p>\n",
    "<p>From the right to the left, indexing uses negative values and the first index position is [-1].</p>\n",
    "\n",
    "<img src=\"Hello.JPG\">\n",
    "\n",
    "\n",
    "<p>Punctuation and spaces among words and sentences are also indexed, so count them in.</p><br>\n",
    "<p>The same indexing and slicing principles apply to some other data types such as lists about which will learn ;ater.</p><br>\n",
    "\n",
    "</div>"
   ]
  },
  {
   "cell_type": "code",
   "execution_count": 19,
   "metadata": {},
   "outputs": [],
   "source": [
    "# Strings are sequences, hence we can access any character -- or slices of a string -- with the index operator [ ]. \n",
    "# It's called slicing a string. You can slice off string pieces from the left to the right, and the other way round.\n",
    "\n",
    "# myChat = 'Hello, you beautiful world! I hope you have good news for me.'\n",
    "\n",
    "#myChat[0]"
   ]
  },
  {
   "cell_type": "code",
   "execution_count": 20,
   "metadata": {},
   "outputs": [
    {
     "data": {
      "text/plain": [
       "'.'"
      ]
     },
     "execution_count": 20,
     "metadata": {},
     "output_type": "execute_result"
    }
   ],
   "source": [
    "# If you slice if off from the right to the left, the first character is in index position [-1].\n",
    "# It will slice off the very last character which is a full-stop mark in this case.\n",
    "\n",
    "myChat[-1]"
   ]
  },
  {
   "cell_type": "code",
   "execution_count": 21,
   "metadata": {},
   "outputs": [
    {
     "data": {
      "text/plain": [
       "'you beautiful'"
      ]
     },
     "execution_count": 21,
     "metadata": {},
     "output_type": "execute_result"
    }
   ],
   "source": [
    "# We can set the range of charcaters that we want to slice off. \n",
    "# The bellow will return a piece from the eigthth up to twenty-first character (21st character is not included). \n",
    "# Remember the eightth charcater of myChat string is in index position [7]\n",
    "\n",
    "myChat[7:20]"
   ]
  },
  {
   "cell_type": "code",
   "execution_count": 22,
   "metadata": {},
   "outputs": [
    {
     "data": {
      "text/plain": [
       "'for me'"
      ]
     },
     "execution_count": 22,
     "metadata": {},
     "output_type": "execute_result"
    }
   ],
   "source": [
    "# The full-stop mark is not sliced off, because the range is UP TO the last index position, not INCLUDING that position.\n",
    "\n",
    "myChat[-7:-1]"
   ]
  },
  {
   "cell_type": "code",
   "execution_count": 23,
   "metadata": {},
   "outputs": [
    {
     "data": {
      "text/plain": [
       "61"
      ]
     },
     "execution_count": 23,
     "metadata": {},
     "output_type": "execute_result"
    }
   ],
   "source": [
    "# Python comes with in-built methods that we can use to modify and query strings.\n",
    "\n",
    "# With the function len(), we can find out how many characters a string consists of.\n",
    "# Like other functions, len() is also a method, but it's not limited to strings. We can count other data objects, e.g. lists.\n",
    "# Hence to get the length of a string, we need to pass the variable as an argument inside the parentheses of the len() method.\n",
    "\n",
    "len(myChat)"
   ]
  },
  {
   "cell_type": "code",
   "execution_count": 24,
   "metadata": {},
   "outputs": [
    {
     "data": {
      "text/plain": [
       "8"
      ]
     },
     "execution_count": 24,
     "metadata": {},
     "output_type": "execute_result"
    }
   ],
   "source": [
    "# We can count specific characters with the method count(). Count() method is specific to strings, hence it follows the object.\n",
    "\n",
    "myChat.count('o')\n",
    "\n",
    "# It appears the letter 'o' occurs 8 times in the 'Hello, you beautiful world! I hope you have good news for me' string.\n",
    "# Oh, and punctuation marks are also characters so you can count them as well!"
   ]
  },
  {
   "cell_type": "code",
   "execution_count": 25,
   "metadata": {},
   "outputs": [
    {
     "data": {
      "text/plain": [
       "'Hello, Tom!'"
      ]
     },
     "execution_count": 25,
     "metadata": {},
     "output_type": "execute_result"
    }
   ],
   "source": [
    "# We may further modify the string by changing its textual data with replace() method.\n",
    "# Let's take myText = \"Hello, you beautiful world!\" that we created earlier.\n",
    "\n",
    "myText_2= myText.replace(\"you beautiful world\",\"Tom\")\n",
    "\n",
    "myText_2"
   ]
  },
  {
   "cell_type": "code",
   "execution_count": 26,
   "metadata": {},
   "outputs": [
    {
     "data": {
      "text/plain": [
       "'Hello, Tom! My name is Gabriele'"
      ]
     },
     "execution_count": 26,
     "metadata": {},
     "output_type": "execute_result"
    }
   ],
   "source": [
    "# Another ways to manipulate textual data involves joining and inserting values into strings.\n",
    "\n",
    "# Let's use the join() method first. \n",
    "# join() method is specific to strings, but we don't have a final string to refer to. \n",
    "# Hence join() will follow an empty string.\n",
    "\n",
    "\"\".join([myText_2, \" \",\"My name is Gabriele\"])"
   ]
  },
  {
   "cell_type": "code",
   "execution_count": 27,
   "metadata": {},
   "outputs": [
    {
     "data": {
      "text/plain": [
       "'Hello, Tom Clancy! Your lucky number is 7'"
      ]
     },
     "execution_count": 27,
     "metadata": {},
     "output_type": "execute_result"
    }
   ],
   "source": [
    "# We can insert values into strings in several ways. The old way used the % operator to format strings.\n",
    "# Let's skip it and move to the new format() method that uses curly brackets / braces {}.\n",
    "\n",
    "surname = \"Clancy\"\n",
    "\n",
    "number= 7\n",
    "\n",
    "myText_3 = \"Hello, Tom {}! Your lucky number is {}\".format(surname, number)\n",
    "\n",
    "myText_3"
   ]
  },
  {
   "cell_type": "code",
   "execution_count": 28,
   "metadata": {},
   "outputs": [
    {
     "data": {
      "text/plain": [
       "'468'"
      ]
     },
     "execution_count": 28,
     "metadata": {},
     "output_type": "execute_result"
    }
   ],
   "source": [
    "# You may convert one data type to another. You'll see it in our future activities how this conversion may be useful.\n",
    "# The conversion is simple once you learn the basic data types. You simply pass your variables to str(), int() or float().\n",
    "\n",
    "myString = str(myNumber)\n",
    "\n",
    "myString\n",
    "\n",
    "# You can see in the output that the integer 468 is no longer a number. Only strings are put in quotes"
   ]
  },
  {
   "cell_type": "code",
   "execution_count": 29,
   "metadata": {},
   "outputs": [
    {
     "data": {
      "text/plain": [
       "str"
      ]
     },
     "execution_count": 29,
     "metadata": {},
     "output_type": "execute_result"
    }
   ],
   "source": [
    "\n",
    "# If you still doubt it, check its type with type()\n",
    "\n",
    "type(myString)"
   ]
  },
  {
   "cell_type": "code",
   "execution_count": 30,
   "metadata": {},
   "outputs": [
    {
     "name": "stdout",
     "output_type": "stream",
     "text": [
      "468.0\n",
      "93\n"
     ]
    }
   ],
   "source": [
    "# Now convert nyNumber that we created above to a float, and myOtherNumber to an integer.\n",
    "\n",
    "# myNumber = 3 + 465 = 468\n",
    "# myOtherNumber = (3 + 465) / 5 = 93.6\n",
    "\n",
    "print(float(myNumber))\n",
    "print(int(myOtherNumber))"
   ]
  },
  {
   "cell_type": "markdown",
   "metadata": {},
   "source": [
    "<div class=\"alert alert-block alert-success\">\n",
    "<h2>Over to You</h2><br> \n",
    "<p>To consolidate the above do some practice on your own.</p>\n",
    "<p>Follow the tasks below and submit the completed Jupyter Notebook as 'Lesson1.ipynb' via the designated area called 'Python Homework' on KEATS by 4pm on 14th November 2018.</p><br>\n",
    "</div>"
   ]
  },
  {
   "cell_type": "markdown",
   "metadata": {},
   "source": [
    "<div class=\"alert alert-warning\" role=\"alert\">\n",
    "<p>Tell which one of the below is a valid variable name. Explain what's wrong with the other names.<p>\n",
    "<ol>\n",
    "<li>my-python</li>\n",
    "<li>my python</li>\n",
    "<li>1_mypython</li>\n",
    "<li>myPython1</li>\n",
    "</ol><br>\n",
    "<p>To provide you answer, you'll need to insert a markdown cell below.</p>\n",
    "</div>"
   ]
  },
  {
   "cell_type": "code",
   "execution_count": 31,
   "metadata": {},
   "outputs": [
    {
     "ename": "TypeError",
     "evalue": "can only concatenate str (not \"int\") to str",
     "output_type": "error",
     "traceback": [
      "\u001b[1;31m---------------------------------------------------------------------------\u001b[0m",
      "\u001b[1;31mTypeError\u001b[0m                                 Traceback (most recent call last)",
      "\u001b[1;32m<ipython-input-31-c76c17f40248>\u001b[0m in \u001b[0;36m<module>\u001b[1;34m\u001b[0m\n\u001b[0;32m      1\u001b[0m \u001b[1;31m# Explain why this expression causes an error. Provide your answer in a markdown cell by inserting it below the current cell.\u001b[0m\u001b[1;33m\u001b[0m\u001b[1;33m\u001b[0m\u001b[1;33m\u001b[0m\u001b[0m\n\u001b[0;32m      2\u001b[0m \u001b[1;33m\u001b[0m\u001b[0m\n\u001b[1;32m----> 3\u001b[1;33m \u001b[1;34m'I have just eaten'\u001b[0m \u001b[1;33m+\u001b[0m \u001b[1;36m50\u001b[0m \u001b[1;33m+\u001b[0m \u001b[1;34m'doughnuts'\u001b[0m\u001b[1;33m\u001b[0m\u001b[1;33m\u001b[0m\u001b[0m\n\u001b[0m",
      "\u001b[1;31mTypeError\u001b[0m: can only concatenate str (not \"int\") to str"
     ]
    }
   ],
   "source": [
    "# Explain why this expression causes an error. Provide your answer in a markdown cell by inserting it below the current cell.\n",
    "\n",
    "'I have just eaten' + 50 + 'doughnuts'"
   ]
  },
  {
   "cell_type": "code",
   "execution_count": 32,
   "metadata": {},
   "outputs": [],
   "source": [
    "# How will you fix the error above? Check on data type conversion. Enter your right code in this cell."
   ]
  },
  {
   "cell_type": "markdown",
   "metadata": {},
   "source": [
    "<div class=\"alert alert-warning\" role=\"alert\">\n",
    "<p>To complete this task, you will need to get familiar with escape characters here: https://www.quackit.com/python/reference/python_3_escape_sequences.cfm.</p><br>\n",
    "<ol>\n",
    "<li>Assign the string 'We read to know that we are not alone' to the variable called 'myMotto'.</li>\n",
    "<li>Print it out.</li>\n",
    "<li>Modify the string to produce the following output and store it in 'myPoem' (you'll need to use escape characters to complete this task):</li>\n",
    "<p><b>We read</b></p>\n",
    "<p><b>to know&nbsp;&nbsp;&nbsp;&nbsp;&nbsp;&nbsp;&nbsp;&nbsp;&nbsp;&nbsp;&nbsp;&nbsp;that we are</b></p>\n",
    "<p><b>not alone</b></p><br><br>\n",
    "<li>Print out the new variable to check the result.</li>\n",
    "</ol>\n",
    "<p>Provide your answers and solutions to this task in the new code cell below.</p>\n",
    "<div>"
   ]
  },
  {
   "cell_type": "code",
   "execution_count": 33,
   "metadata": {},
   "outputs": [
    {
     "ename": "SyntaxError",
     "evalue": "EOL while scanning string literal (<ipython-input-33-e6f869aae01d>, line 4)",
     "output_type": "error",
     "traceback": [
      "\u001b[1;36m  File \u001b[1;32m\"<ipython-input-33-e6f869aae01d>\"\u001b[1;36m, line \u001b[1;32m4\u001b[0m\n\u001b[1;33m    moonshadow =\"Oh, I'm bein' followed by a moonshadow, moon shadow, moonshadow---\u001b[0m\n\u001b[1;37m                                                                                   ^\u001b[0m\n\u001b[1;31mSyntaxError\u001b[0m\u001b[1;31m:\u001b[0m EOL while scanning string literal\n"
     ]
    }
   ],
   "source": [
    "# It appears to be problematic to store Cat Stevens' song 'Moonshadow' as a string. Part of the text is not scanned as a string. \n",
    "# How will you fix it? Fix it in THIS code cell.\n",
    "\n",
    "moonshadow =\"Oh, I'm bein' followed by a moonshadow, moon shadow, moonshadow---\n",
    "Leapin and hoppin' on a moonshadow, moonshadow, moonshadow---\n",
    "And if I ever lose my hands, lose my plough, lose my land,\n",
    "Oh if I ever lose my hands, Oh if I won't have to work no more.\n",
    "And if I ever lose my eyes, if my colours all run dry,\n",
    "Yes if I ever lose my eyes, Oh if I won't have to cry no more.\n",
    "Oh, I'm bein' followed by a moonshadow, moon shadow, moonshadow---\n",
    "Leapin and hoppin' on a moonshadow, moonshadow, moonshadow---\n",
    "And if I ever lose my legs, I won't moan, and I won't beg,\n",
    "Yes if I ever lose my legs, Oh if I won't have to walk no more.\n",
    "And if I ever lose my mouth, all my teeth, north and south,\n",
    "Yes if I ever lose my mouth, Oh if I won't have to talk...\n",
    "Did it take long to find me? I asked the faithful light.\n",
    "Did it take long to find me? And are you gonna stay the night?\n",
    "Moonshadow, moonshadow, moonshadow, moonshadow.\""
   ]
  },
  {
   "cell_type": "code",
   "execution_count": 34,
   "metadata": {},
   "outputs": [],
   "source": [
    "# After fixing the string above, count programmatically how many times the noun 'moonshadow' is repeated there.\n",
    "# Provide your answer in this cell."
   ]
  },
  {
   "cell_type": "code",
   "execution_count": 35,
   "metadata": {},
   "outputs": [],
   "source": [
    "# Replace all the occurrences of the noun 'moonshadow' with 'Michael Jackson' in the string. \n",
    "# Provide your answer in this cell."
   ]
  },
  {
   "cell_type": "code",
   "execution_count": 36,
   "metadata": {},
   "outputs": [],
   "source": [
    "# Slice off the phrase 'Leapin and hoppin'.\n",
    "# Provide your answer in this cell."
   ]
  }
 ],
 "metadata": {
  "kernelspec": {
   "display_name": "Python 3",
   "language": "python",
   "name": "python3"
  },
  "language_info": {
   "codemirror_mode": {
    "name": "ipython",
    "version": 3
   },
   "file_extension": ".py",
   "mimetype": "text/x-python",
   "name": "python",
   "nbconvert_exporter": "python",
   "pygments_lexer": "ipython3",
   "version": "3.7.3"
  }
 },
 "nbformat": 4,
 "nbformat_minor": 2
}
